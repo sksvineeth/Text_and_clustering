{
  "nbformat": 4,
  "nbformat_minor": 0,
  "metadata": {
    "colab": {
      "name": "Detailed_Notebook.ipynb",
      "provenance": [],
      "mount_file_id": "1lgHF-Bd4UvixHbXTtVQc-I6RdNQSn-xe",
      "authorship_tag": "ABX9TyP9+6btUsYJqiBMGgp1jZR7",
      "include_colab_link": true
    },
    "kernelspec": {
      "name": "python3",
      "display_name": "Python 3"
    },
    "language_info": {
      "name": "python"
    }
  },
  "cells": [
    {
      "cell_type": "markdown",
      "metadata": {
        "id": "view-in-github",
        "colab_type": "text"
      },
      "source": [
        "<a href=\"https://colab.research.google.com/github/sksvineeth/Text_and_clustering/blob/main/Detailed_Notebook.ipynb\" target=\"_parent\"><img src=\"https://colab.research.google.com/assets/colab-badge.svg\" alt=\"Open In Colab\"/></a>"
      ]
    },
    {
      "cell_type": "markdown",
      "metadata": {
        "id": "6zZCWVlALBCr"
      },
      "source": [
        "# Netflix Case Study\n",
        "\n",
        "Problem 1: Build Model(s)\n",
        "\n",
        "· Group different movies using text and clustering algorithm."
      ]
    },
    {
      "cell_type": "code",
      "metadata": {
        "id": "pYxTQzMxLCyu"
      },
      "source": [
        "# import libraries here; add more as necessary\n",
        "import os\n",
        "import time\n",
        "import numpy as np\n",
        "import pandas as pd\n",
        "import matplotlib.pyplot as plt\n",
        "import seaborn as sns\n",
        "import missingno\n",
        "import nltk\n",
        "import re\n",
        "import string\n",
        "import itertools\n",
        "#nltk.download('punkt')\n",
        "from sklearn.impute import SimpleImputer\n",
        "from sklearn.preprocessing import StandardScaler\n",
        "from sklearn.decomposition import PCA\n",
        "\n",
        "from sklearn.cluster import KMeans\n",
        "from sklearn.model_selection import GridSearchCV\n",
        "\n",
        "\n",
        "from sklearn.metrics import accuracy_score, roc_auc_score, confusion_matrix\n",
        "from sklearn.model_selection import train_test_split, cross_val_score\n",
        "\n",
        "from collections import Counter"
      ],
      "execution_count": 38,
      "outputs": []
    },
    {
      "cell_type": "markdown",
      "metadata": {
        "id": "Z6EctVg6LgPR"
      },
      "source": [
        "### **Data Cleaning :**"
      ]
    },
    {
      "cell_type": "code",
      "metadata": {
        "colab": {
          "base_uri": "https://localhost:8080/",
          "height": 629
        },
        "id": "ZHFmBT2YLcRL",
        "outputId": "cb509b89-eafd-48a4-855b-aa23a1239de0"
      },
      "source": [
        "# Read data\n",
        "np.random.seed(5)\n",
        "data_first = pd.read_csv('/content/drive/MyDrive/Colab Notebooks/netflix_titles.csv')\n",
        "data_first.head()\n"
      ],
      "execution_count": 82,
      "outputs": [
        {
          "output_type": "execute_result",
          "data": {
            "text/html": [
              "<div>\n",
              "<style scoped>\n",
              "    .dataframe tbody tr th:only-of-type {\n",
              "        vertical-align: middle;\n",
              "    }\n",
              "\n",
              "    .dataframe tbody tr th {\n",
              "        vertical-align: top;\n",
              "    }\n",
              "\n",
              "    .dataframe thead th {\n",
              "        text-align: right;\n",
              "    }\n",
              "</style>\n",
              "<table border=\"1\" class=\"dataframe\">\n",
              "  <thead>\n",
              "    <tr style=\"text-align: right;\">\n",
              "      <th></th>\n",
              "      <th>show_id</th>\n",
              "      <th>type</th>\n",
              "      <th>title</th>\n",
              "      <th>director</th>\n",
              "      <th>cast</th>\n",
              "      <th>country</th>\n",
              "      <th>date_added</th>\n",
              "      <th>release_year</th>\n",
              "      <th>rating</th>\n",
              "      <th>duration</th>\n",
              "      <th>listed_in</th>\n",
              "      <th>description</th>\n",
              "    </tr>\n",
              "  </thead>\n",
              "  <tbody>\n",
              "    <tr>\n",
              "      <th>0</th>\n",
              "      <td>s1</td>\n",
              "      <td>TV Show</td>\n",
              "      <td>3%</td>\n",
              "      <td>NaN</td>\n",
              "      <td>João Miguel, Bianca Comparato, Michel Gomes, R...</td>\n",
              "      <td>Brazil</td>\n",
              "      <td>August 14, 2020</td>\n",
              "      <td>2020</td>\n",
              "      <td>TV-MA</td>\n",
              "      <td>4 Seasons</td>\n",
              "      <td>International TV Shows, TV Dramas, TV Sci-Fi &amp;...</td>\n",
              "      <td>In a future where the elite inhabit an island ...</td>\n",
              "    </tr>\n",
              "    <tr>\n",
              "      <th>1</th>\n",
              "      <td>s2</td>\n",
              "      <td>Movie</td>\n",
              "      <td>7:19</td>\n",
              "      <td>Jorge Michel Grau</td>\n",
              "      <td>Demián Bichir, Héctor Bonilla, Oscar Serrano, ...</td>\n",
              "      <td>Mexico</td>\n",
              "      <td>December 23, 2016</td>\n",
              "      <td>2016</td>\n",
              "      <td>TV-MA</td>\n",
              "      <td>93 min</td>\n",
              "      <td>Dramas, International Movies</td>\n",
              "      <td>After a devastating earthquake hits Mexico Cit...</td>\n",
              "    </tr>\n",
              "    <tr>\n",
              "      <th>2</th>\n",
              "      <td>s3</td>\n",
              "      <td>Movie</td>\n",
              "      <td>23:59</td>\n",
              "      <td>Gilbert Chan</td>\n",
              "      <td>Tedd Chan, Stella Chung, Henley Hii, Lawrence ...</td>\n",
              "      <td>Singapore</td>\n",
              "      <td>December 20, 2018</td>\n",
              "      <td>2011</td>\n",
              "      <td>R</td>\n",
              "      <td>78 min</td>\n",
              "      <td>Horror Movies, International Movies</td>\n",
              "      <td>When an army recruit is found dead, his fellow...</td>\n",
              "    </tr>\n",
              "    <tr>\n",
              "      <th>3</th>\n",
              "      <td>s4</td>\n",
              "      <td>Movie</td>\n",
              "      <td>9</td>\n",
              "      <td>Shane Acker</td>\n",
              "      <td>Elijah Wood, John C. Reilly, Jennifer Connelly...</td>\n",
              "      <td>United States</td>\n",
              "      <td>November 16, 2017</td>\n",
              "      <td>2009</td>\n",
              "      <td>PG-13</td>\n",
              "      <td>80 min</td>\n",
              "      <td>Action &amp; Adventure, Independent Movies, Sci-Fi...</td>\n",
              "      <td>In a postapocalyptic world, rag-doll robots hi...</td>\n",
              "    </tr>\n",
              "    <tr>\n",
              "      <th>4</th>\n",
              "      <td>s5</td>\n",
              "      <td>Movie</td>\n",
              "      <td>21</td>\n",
              "      <td>Robert Luketic</td>\n",
              "      <td>Jim Sturgess, Kevin Spacey, Kate Bosworth, Aar...</td>\n",
              "      <td>United States</td>\n",
              "      <td>January 1, 2020</td>\n",
              "      <td>2008</td>\n",
              "      <td>PG-13</td>\n",
              "      <td>123 min</td>\n",
              "      <td>Dramas</td>\n",
              "      <td>A brilliant group of students become card-coun...</td>\n",
              "    </tr>\n",
              "  </tbody>\n",
              "</table>\n",
              "</div>"
            ],
            "text/plain": [
              "  show_id  ...                                        description\n",
              "0      s1  ...  In a future where the elite inhabit an island ...\n",
              "1      s2  ...  After a devastating earthquake hits Mexico Cit...\n",
              "2      s3  ...  When an army recruit is found dead, his fellow...\n",
              "3      s4  ...  In a postapocalyptic world, rag-doll robots hi...\n",
              "4      s5  ...  A brilliant group of students become card-coun...\n",
              "\n",
              "[5 rows x 12 columns]"
            ]
          },
          "metadata": {
            "tags": []
          },
          "execution_count": 82
        }
      ]
    },
    {
      "cell_type": "code",
      "metadata": {
        "id": "zxD1jEQLL8cd"
      },
      "source": [
        "data_first.groupby('type').count() # Subset only movies\n",
        "data_first = data_first.loc[(data_first[\"type\"] != 'TV Show')]"
      ],
      "execution_count": 84,
      "outputs": []
    },
    {
      "cell_type": "code",
      "metadata": {
        "colab": {
          "base_uri": "https://localhost:8080/",
          "height": 680
        },
        "id": "KVe4msvXNJy3",
        "outputId": "f4988538-48d2-4d7c-c777-4d278ec6c5cf"
      },
      "source": [
        "data_first.head()"
      ],
      "execution_count": 85,
      "outputs": [
        {
          "output_type": "execute_result",
          "data": {
            "text/html": [
              "<div>\n",
              "<style scoped>\n",
              "    .dataframe tbody tr th:only-of-type {\n",
              "        vertical-align: middle;\n",
              "    }\n",
              "\n",
              "    .dataframe tbody tr th {\n",
              "        vertical-align: top;\n",
              "    }\n",
              "\n",
              "    .dataframe thead th {\n",
              "        text-align: right;\n",
              "    }\n",
              "</style>\n",
              "<table border=\"1\" class=\"dataframe\">\n",
              "  <thead>\n",
              "    <tr style=\"text-align: right;\">\n",
              "      <th></th>\n",
              "      <th>show_id</th>\n",
              "      <th>type</th>\n",
              "      <th>title</th>\n",
              "      <th>director</th>\n",
              "      <th>cast</th>\n",
              "      <th>country</th>\n",
              "      <th>date_added</th>\n",
              "      <th>release_year</th>\n",
              "      <th>rating</th>\n",
              "      <th>duration</th>\n",
              "      <th>listed_in</th>\n",
              "      <th>description</th>\n",
              "    </tr>\n",
              "  </thead>\n",
              "  <tbody>\n",
              "    <tr>\n",
              "      <th>1</th>\n",
              "      <td>s2</td>\n",
              "      <td>Movie</td>\n",
              "      <td>7:19</td>\n",
              "      <td>Jorge Michel Grau</td>\n",
              "      <td>Demián Bichir, Héctor Bonilla, Oscar Serrano, ...</td>\n",
              "      <td>Mexico</td>\n",
              "      <td>December 23, 2016</td>\n",
              "      <td>2016</td>\n",
              "      <td>TV-MA</td>\n",
              "      <td>93 min</td>\n",
              "      <td>Dramas, International Movies</td>\n",
              "      <td>After a devastating earthquake hits Mexico Cit...</td>\n",
              "    </tr>\n",
              "    <tr>\n",
              "      <th>2</th>\n",
              "      <td>s3</td>\n",
              "      <td>Movie</td>\n",
              "      <td>23:59</td>\n",
              "      <td>Gilbert Chan</td>\n",
              "      <td>Tedd Chan, Stella Chung, Henley Hii, Lawrence ...</td>\n",
              "      <td>Singapore</td>\n",
              "      <td>December 20, 2018</td>\n",
              "      <td>2011</td>\n",
              "      <td>R</td>\n",
              "      <td>78 min</td>\n",
              "      <td>Horror Movies, International Movies</td>\n",
              "      <td>When an army recruit is found dead, his fellow...</td>\n",
              "    </tr>\n",
              "    <tr>\n",
              "      <th>3</th>\n",
              "      <td>s4</td>\n",
              "      <td>Movie</td>\n",
              "      <td>9</td>\n",
              "      <td>Shane Acker</td>\n",
              "      <td>Elijah Wood, John C. Reilly, Jennifer Connelly...</td>\n",
              "      <td>United States</td>\n",
              "      <td>November 16, 2017</td>\n",
              "      <td>2009</td>\n",
              "      <td>PG-13</td>\n",
              "      <td>80 min</td>\n",
              "      <td>Action &amp; Adventure, Independent Movies, Sci-Fi...</td>\n",
              "      <td>In a postapocalyptic world, rag-doll robots hi...</td>\n",
              "    </tr>\n",
              "    <tr>\n",
              "      <th>4</th>\n",
              "      <td>s5</td>\n",
              "      <td>Movie</td>\n",
              "      <td>21</td>\n",
              "      <td>Robert Luketic</td>\n",
              "      <td>Jim Sturgess, Kevin Spacey, Kate Bosworth, Aar...</td>\n",
              "      <td>United States</td>\n",
              "      <td>January 1, 2020</td>\n",
              "      <td>2008</td>\n",
              "      <td>PG-13</td>\n",
              "      <td>123 min</td>\n",
              "      <td>Dramas</td>\n",
              "      <td>A brilliant group of students become card-coun...</td>\n",
              "    </tr>\n",
              "    <tr>\n",
              "      <th>6</th>\n",
              "      <td>s7</td>\n",
              "      <td>Movie</td>\n",
              "      <td>122</td>\n",
              "      <td>Yasir Al Yasiri</td>\n",
              "      <td>Amina Khalil, Ahmed Dawood, Tarek Lotfy, Ahmed...</td>\n",
              "      <td>Egypt</td>\n",
              "      <td>June 1, 2020</td>\n",
              "      <td>2019</td>\n",
              "      <td>TV-MA</td>\n",
              "      <td>95 min</td>\n",
              "      <td>Horror Movies, International Movies</td>\n",
              "      <td>After an awful accident, a couple admitted to ...</td>\n",
              "    </tr>\n",
              "  </tbody>\n",
              "</table>\n",
              "</div>"
            ],
            "text/plain": [
              "  show_id  ...                                        description\n",
              "1      s2  ...  After a devastating earthquake hits Mexico Cit...\n",
              "2      s3  ...  When an army recruit is found dead, his fellow...\n",
              "3      s4  ...  In a postapocalyptic world, rag-doll robots hi...\n",
              "4      s5  ...  A brilliant group of students become card-coun...\n",
              "6      s7  ...  After an awful accident, a couple admitted to ...\n",
              "\n",
              "[5 rows x 12 columns]"
            ]
          },
          "metadata": {
            "tags": []
          },
          "execution_count": 85
        }
      ]
    },
    {
      "cell_type": "code",
      "metadata": {
        "id": "_YT8SHXyXV1b"
      },
      "source": [
        "def convert(text):\n",
        "    parts = text.split(' ')\n",
        "    value = float(parts[0])\n",
        "    return value\n",
        "\n",
        "data_first['duration'] = data_first['duration'].apply(convert)"
      ],
      "execution_count": 86,
      "outputs": []
    },
    {
      "cell_type": "code",
      "metadata": {
        "colab": {
          "base_uri": "https://localhost:8080/",
          "height": 512
        },
        "id": "3z2bqONgPbuE",
        "outputId": "95783043-b4f8-41c8-f554-8c9a6e2cc400"
      },
      "source": [
        "# Data Features - Multiple values - liste_in, Cast\n",
        "#                - Categories - Rating, director\n",
        "#Let's visualize and clean the data\n",
        "missingno.bar(data_first);"
      ],
      "execution_count": 87,
      "outputs": [
        {
          "output_type": "display_data",
          "data": {
            "image/png": "[encoded data removed]",
            "text/plain": [
              "<Figure size 1728x720 with 3 Axes>"
            ]
          },
          "metadata": {
            "tags": []
          }
        }
      ]
    },
    {
      "cell_type": "code",
      "metadata": {
        "colab": {
          "base_uri": "https://localhost:8080/",
          "height": 611
        },
        "id": "p98ssP0vNYWV",
        "outputId": "ab92d4d2-977f-43dc-9044-35396a1a953a"
      },
      "source": [
        "# Lets visualize data to decide the features.\n",
        "\n",
        "\n",
        "list_country = [x.split(', ') for x in data_first.dropna(subset=['country'])['country'].tolist()]\n",
        "list_country = list(itertools.chain(*list_country))\n",
        "df_netflix_country_count = pd.DataFrame(Counter(list_country).most_common()[:10], columns=['Country', 'Count'])\n",
        "\n",
        "plt.figure(figsize=(12,10))\n",
        "sns.set(style=\"darkgrid\")\n",
        "ax = sns.barplot(y=\"Country\", x='Count', data=df_netflix_country_count, orient='h')"
      ],
      "execution_count": 88,
      "outputs": [
        {
          "output_type": "display_data",
          "data": {
            "image/png": "[encoded data removed]",
            "text/plain": [
              "<Figure size 864x720 with 1 Axes>"
            ]
          },
          "metadata": {
            "tags": []
          }
        }
      ]
    },
    {
      "cell_type": "code",
      "metadata": {
        "colab": {
          "base_uri": "https://localhost:8080/",
          "height": 611
        },
        "id": "kxIxpGDVOq5q",
        "outputId": "975cf8b2-3d51-405f-8e37-abd4d6da32b0"
      },
      "source": [
        "#Year\n",
        "\n",
        "plt.figure(figsize=(12,10))\n",
        "sns.set(style=\"darkgrid\")\n",
        "ax = sns.countplot(y='release_year', data=data_first, order=data['release_year'].value_counts().index[0:15])"
      ],
      "execution_count": 17,
      "outputs": [
        {
          "output_type": "display_data",
          "data": {
            "image/png": "[encoded data removed]",
            "text/plain": [
              "<Figure size 864x720 with 1 Axes>"
            ]
          },
          "metadata": {
            "tags": []
          }
        }
      ]
    },
    {
      "cell_type": "code",
      "metadata": {
        "id": "Wc5yc75yQSCe"
      },
      "source": [
        "# Cleaning and one hot encoding categorical variables\n",
        "\n",
        "def clean(column_name):\n",
        "    \"\"\"This function takes a column from the dataframe and splits two elements\n",
        "       if they are separated by a comma.\n",
        "       For ex. in Actors column there might be values such as Christian Bale, Morgan Freeman.\n",
        "       This will separate these two actors and store them individually in a list.\"\"\"\n",
        "    name=set()\n",
        "    for name_string in data_first[column_name]:\n",
        "        name.update(name_string.split(', '))\n",
        "    name=sorted(name)\n",
        "    return name\n",
        "\n",
        "def top(column_name):\n",
        "    \"\"\"This function takes its input as name of the column and returns a sorted list of the \n",
        "       elements which occur very frequently in that column in descending order.\"\"\"\n",
        "    \n",
        "    name=clean(column_name)\n",
        "    dummy_name=pd.DataFrame()\n",
        "    for n in name:\n",
        "        dummy_name[n]=[int(n in nm.split(', ')) for nm in data_first[column_name]] \n",
        "    \n",
        "    namelist=[n for n in name]\n",
        "    nlt=dummy_name[namelist].sum()\n",
        "    nlt=nlt.sort_values(axis=0,ascending=False)\n",
        "    return nlt.index\n",
        "    \n",
        "def plot_column(column_name,n_elem_display=0):\n",
        "    \"\"\" This function is used to plot a bar graph of a column of the dataframe.\n",
        "        It takes its argument as name of column and number of elements to display and\n",
        "        return a bar graph of the user defined number of top elements which occur\n",
        "        frequently in that column.\"\"\"\n",
        "    \n",
        "    name=clean(column_name)\n",
        "    dummy_name=pd.DataFrame()\n",
        "    for n in name:\n",
        "        dummy_name[n]=[int(n in nm.split(', ')) for nm in data_first[column_name]] \n",
        "    \n",
        "    namelist=[n for n in name]\n",
        "    nlt=dummy_name[namelist].sum()\n",
        "    nlt=nlt.sort_values(axis=0,ascending=False)\n",
        "    if n_elem_display !=0:\n",
        "        return nlt[:n_elem_display].plot(kind = \"bar\",figsize=(10,10))\n",
        "    else:\n",
        "        return nlt[:].plot(kind = \"bar\",figsize=(10,5))"
      ],
      "execution_count": 89,
      "outputs": []
    },
    {
      "cell_type": "code",
      "metadata": {
        "colab": {
          "base_uri": "https://localhost:8080/",
          "height": 452
        },
        "id": "HUuSfLtaQfNS",
        "outputId": "c867d5f5-110e-45a7-895b-4795f1662a8d"
      },
      "source": [
        "plot_column('listed_in')\n",
        "#Get the unique genres contained in the dataframe\n",
        "genres= clean('listed_in')\n",
        "#Add one column for every genre in the dataframe\n",
        "for genre in genres:\n",
        "    data_first[\"genre:\"+genre] = [int(genre in g.split(', ')) for g in data_first.listed_in]"
      ],
      "execution_count": 91,
      "outputs": [
        {
          "output_type": "display_data",
          "data": {
            "image/png": "[encoded data removed]",
            "text/plain": [
              "<Figure size 720x360 with 1 Axes>"
            ]
          },
          "metadata": {
            "tags": []
          }
        }
      ]
    },
    {
      "cell_type": "code",
      "metadata": {
        "colab": {
          "base_uri": "https://localhost:8080/",
          "height": 712
        },
        "id": "dsFnBhE8Qq-N",
        "outputId": "f2336bb3-c78e-481a-f328-bbb8d315bc61"
      },
      "source": [
        "#data_first = data_first.fillna('missing')\n",
        "plot_column('cast', 50)\n",
        "#Get the unique actors contained in the dataframe\n",
        "Actors= top('cast')\n",
        "#Add one column for every actor in the dataframe\n",
        "for Actor in Actors[:50]: #checked different ranges and fixed for 50\n",
        "    data_first[\"Cast:\"+ Actor] = [int(Actor in g.split(', ')) for g in data_first.cast]"
      ],
      "execution_count": 93,
      "outputs": [
        {
          "output_type": "display_data",
          "data": {
            "image/png": "[encoded data removed]",
            "text/plain": [
              "<Figure size 720x720 with 1 Axes>"
            ]
          },
          "metadata": {
            "tags": []
          }
        }
      ]
    },
    {
      "cell_type": "code",
      "metadata": {
        "colab": {
          "base_uri": "https://localhost:8080/",
          "height": 696
        },
        "id": "lbSSImZDSiEl",
        "outputId": "9971ed87-12b0-4254-f19a-60357cc3aa0e"
      },
      "source": [
        "plot_column('director', 50)\n",
        "directors=top('director')\n",
        "    \n",
        "for director in directors[:50]:\n",
        "    data_first[\"Director:\"+director] = [int(director in d.split(', ')) for d in data_first.director]"
      ],
      "execution_count": 26,
      "outputs": [
        {
          "output_type": "display_data",
          "data": {
            "image/png": "[encoded data removed]",
            "text/plain": [
              "<Figure size 720x720 with 1 Axes>"
            ]
          },
          "metadata": {
            "tags": []
          }
        }
      ]
    },
    {
      "cell_type": "markdown",
      "metadata": {
        "id": "8tpdi-ksMlfT"
      },
      "source": [
        ""
      ]
    },
    {
      "cell_type": "code",
      "metadata": {
        "colab": {
          "base_uri": "https://localhost:8080/"
        },
        "id": "i3yUK8p9XofX",
        "outputId": "f4afb858-e80d-4d9c-9243-ceb578096d8d"
      },
      "source": [
        "data_first.shape"
      ],
      "execution_count": 49,
      "outputs": [
        {
          "output_type": "execute_result",
          "data": {
            "text/plain": [
              "(5377, 132)"
            ]
          },
          "metadata": {
            "tags": []
          },
          "execution_count": 49
        }
      ]
    },
    {
      "cell_type": "markdown",
      "metadata": {
        "id": "0SYinxXVd4zx"
      },
      "source": [
        "### **Text processing**"
      ]
    },
    {
      "cell_type": "code",
      "metadata": {
        "id": "NpGRBkZ4MetA"
      },
      "source": [
        "def my_analyzer(s):\n",
        "# Synonym List\n",
        "    syns = {'wont':'would not', 'cant':'can not', 'cannot':'can not', \\\n",
        "    'couldnt':'could not', 'shouldnt':'should not', \\\n",
        "    'wouldnt':'would not', 'straightforward': 'straight forward' }\n",
        "    # Preprocess String s\n",
        "    s = s.lower()\n",
        "    #Replace special characters with spaces\n",
        "    s = s.replace('-', ' ')\n",
        "    s = s.replace('_', ' ')\n",
        "    s = s.replace(',', '. ')\n",
        "    s = s.replace('\\\\',\"\")\n",
        "    s = s.replace('.',\"\")\n",
        "\n",
        "    # Replace not contraction with not\n",
        "    s = s.replace(\"'nt\", \" not\")\n",
        "    s = s.replace(\"n't\", \" not\")\n",
        "\n",
        "    # Tokenize\n",
        "    tokens = word_tokenize(s)\n",
        "\n",
        "    #tokens = [word.replace(',','') for word in tokens ]\n",
        "\n",
        "    tokens = [word for word in tokens if ('*' not in word) and \\\n",
        "    (\"''\" != word) and (\"``\" != word) and \\\n",
        "    (word!='description') and (word !='dtype') \\\n",
        "    and (word != 'object') and (word!=\"'s\")]\n",
        "\n",
        "    # Map synonyms\n",
        "    for i in range(len(tokens)):\n",
        "        if tokens[i] in syns:\n",
        "            tokens[i] = syns[tokens[i]]\n",
        "\n",
        "    # Remove stop words\n",
        "    punctuation = list(string.punctuation)+['..', '...']\n",
        "    pronouns = ['i', 'he', 'she', 'it', 'him', 'they', 'we', 'us', 'them','he ']\n",
        "    others = [\"'d\", \"co\", \"ed\", \"put\", \"say\", \"get\", \"can\", \"become\",\\\n",
        "            \"los\", \"sta\", \"la\", \"use\",\"ask\" \"iii\", \"else\",\"doesn't\",\"dr.\",\"well\",\"let\",\"soon\",\"finally\",\"around\",\"little\",\\\n",
        "              \"would\",\"set\",\"use\",\"place\",\"still\",\"three\",\"arrive\",\"next\",\"anoth\",\"keep\",\"must\",\"mr.\",\"bring\",\\\n",
        "              \"much\",\"many\",\"eventually\",\"explain\",\"asks\",\"along\",\"may\",\"small\",\"hold\",\"realize\",\"think\",\"continue\",\\\n",
        "             \"last\",\"behind\",\"discover\",\"something\",\"several\",\"end\",\"large\",\"high\",\"mr\",\"the\",\"dr\",\"mr\"]\n",
        "    names = [\"harry\",\"travis\",\"tommy\",\"joe\",\"jack\",\"dorothy\",\"mike\",\"george\",\"frank\",\"frankie\",\\\n",
        "            \"frank \",\"sarah\",\"andrew\",\"taylor\",\"arthur\",\"luke\",\"kane\",\"wallace\",\"parker\",\"danny\",\"tony\",\\\n",
        "            \"michael\",\"luke\",\"kane\",\"danny\",\"john\",\"max\",\"tom\",\"paul\",\"ca\",\"neil\",\"maria\",\"barry\",\"anna\",\"jerry\",\\\n",
        "            \"alex\",\"terry\",\"henry\",\"gordon\",\"leonard\",\"wayne\",\"vincent\",\"jimmy\",\"jordan\",\"sam\",\"nick\",\"nicholson\",\\\n",
        "            \"jake\",\"rocky\"]\n",
        "\n",
        "    stop = stopwords.words('english') + punctuation + pronouns + others + names\n",
        "    filtered_terms = [word for word in tokens if (word not in stop) and \\\n",
        "    (len(word)>1) and (not word.replace('.','',1).isnumeric()) \\\n",
        "    and (not word.replace(\"'\",'',2).isnumeric())]\n",
        "\n",
        "    # Lemmatization & Stemming - Stemming with WordNet POS\n",
        "    # Since lemmatization requires POS need to set POS\n",
        "    tagged_words = pos_tag(filtered_terms, lang='eng')\n",
        "\n",
        "    # Stemming with for terms without WordNet POS\n",
        "    stemmer = SnowballStemmer(\"english\")\n",
        "    wn_tags = {'N':wn.NOUN, 'J':wn.ADJ, 'V':wn.VERB, 'R':wn.ADV}\n",
        "    wnl = WordNetLemmatizer()\n",
        "    stemmed_tokens = []\n",
        "    for tagged_token in tagged_words:\n",
        "        term = tagged_token[0]\n",
        "        pos = tagged_token[1]\n",
        "        pos = pos[0]\n",
        "        try:\n",
        "            pos = wn_tags[pos]\n",
        "            stemmed_tokens.append(wnl.lemmatize(term, pos=pos))\n",
        "        except:\n",
        "            stemmed_tokens.append(stemmer.stem(term))\n",
        "    return stemmed_tokens"
      ],
      "execution_count": 50,
      "outputs": []
    },
    {
      "cell_type": "code",
      "metadata": {
        "id": "ezs5IYn0X9Ff"
      },
      "source": [
        "n_plots = len(data_first['description']) # Number of Plots\n",
        "s_words = 'english' # Stop Word Dictionary\n",
        "ngram = (1,3) # n-gram POS modeling\n",
        "plots = data_first['description'].map(str) # place all text reviews in reviews\n",
        "tfidf=True"
      ],
      "execution_count": 51,
      "outputs": []
    },
    {
      "cell_type": "code",
      "metadata": {
        "colab": {
          "base_uri": "https://localhost:8080/"
        },
        "id": "_ardZHFtYAvU",
        "outputId": "e892be44-4cef-46cd-ea25-584af72e9f7f"
      },
      "source": [
        "# Create Word Frequency by Review Matrix using Custom Analyzer\n",
        "\n",
        "import nltk\n",
        "nltk.download('stopwords')\n",
        "nltk.download('averaged_perceptron_tagger')\n",
        "nltk.download('wordnet')\n",
        "from nltk.stem.snowball import SnowballStemmer \n",
        "from nltk.tokenize import sent_tokenize, word_tokenize\n",
        "import re\n",
        "import os\n",
        "import codecs\n",
        "from sklearn import feature_extraction\n",
        "from sklearn.feature_extraction.text import CountVectorizer\n",
        "from sklearn.feature_extraction.text import TfidfVectorizer\n",
        "from nltk.corpus import stopwords\n",
        "from nltk.stem import WordNetLemmatizer\n",
        "from nltk import pos_tag\n",
        "from nltk.corpus import wordnet as wn\n",
        "\n",
        "cv = CountVectorizer(max_df=0.9, min_df=3, max_features=None ,\\\n",
        "analyzer=my_analyzer, ngram_range=ngram)\n",
        "tf1 = cv.fit_transform(plots)\n",
        "terms1 = cv.get_feature_names()\n",
        "term_sums = tf1.sum(axis=0)\n",
        "term_counts = []\n",
        "out1 = []\n",
        "out2 = []\n",
        "for i in range(len(terms1)):\n",
        "    term_counts.append([terms1[i], term_sums[0,i]])\n",
        "def sortSecond(e):\n",
        "    return e[1]\n",
        "term_counts.sort(key=sortSecond, reverse=True)\n",
        "print(\"\\nTerms with Highest Frequency:\")\n",
        "for i in range(400):\n",
        "    print('{:<15s}{:>5d}'.format(term_counts[i][0], term_counts[i][1]))\n",
        "    out1.append([term_counts[i][0], term_counts[i][1]])\n",
        "np.savetxt(\"frequency_100.csv\", out1, delimiter=\",\", fmt='%s')\n",
        "print(\"\")"
      ],
      "execution_count": 52,
      "outputs": [
        {
          "output_type": "stream",
          "text": [
            "[nltk_data] Downloading package stopwords to /root/nltk_data...\n",
            "[nltk_data]   Package stopwords is already up-to-date!\n",
            "[nltk_data] Downloading package averaged_perceptron_tagger to\n",
            "[nltk_data]     /root/nltk_data...\n",
            "[nltk_data]   Package averaged_perceptron_tagger is already up-to-\n",
            "[nltk_data]       date!\n",
            "[nltk_data] Downloading package wordnet to /root/nltk_data...\n",
            "[nltk_data]   Package wordnet is already up-to-date!\n",
            "\n",
            "Terms with Highest Frequency:\n",
            "life             611\n",
            "young            521\n",
            "find             468\n",
            "woman            434\n",
            "man              413\n",
            "new              411\n",
            "family           408\n",
            "take             394\n",
            "love             358\n",
            "friend           326\n",
            "two              309\n",
            "year             291\n",
            "documentary      276\n",
            "world            271\n",
            "one              246\n",
            "father           237\n",
            "old              231\n",
            "help             225\n",
            "try              219\n",
            "make             213\n",
            "turn             203\n",
            "home             201\n",
            "fall             192\n",
            "story            189\n",
            "girl             187\n",
            "school           185\n",
            "live             181\n",
            "go               180\n",
            "son              169\n",
            "force            165\n",
            "struggle         164\n",
            "save             161\n",
            "special          159\n",
            "get              158\n",
            "mother           157\n",
            "teen             157\n",
            "daughter         156\n",
            "murder           156\n",
            "follow           155\n",
            "meet             152\n",
            "secret           152\n",
            "brother          151\n",
            "film             150\n",
            "stand            149\n",
            "face             148\n",
            "team             148\n",
            "wife             148\n",
            "star             147\n",
            "group            146\n",
            "return           146\n",
            "student          144\n",
            "boy              139\n",
            "town             137\n",
            "work             136\n",
            "begin            135\n",
            "come             135\n",
            "death            135\n",
            "back             132\n",
            "leave            132\n",
            "become           131\n",
            "time             131\n",
            "war              130\n",
            "city             129\n",
            "way              129\n",
            "child            127\n",
            "day              126\n",
            "couple           123\n",
            "fight            123\n",
            "lead             122\n",
            "past             121\n",
            "learn            119\n",
            "plan             118\n",
            "show             118\n",
            "comedy           116\n",
            "comedian         114\n",
            "relationship     113\n",
            "true             113\n",
            "four             111\n",
            "move             111\n",
            "battle           110\n",
            "cop              110\n",
            "run              109\n",
            "seek             108\n",
            "first            106\n",
            "look             106\n",
            "crime            105\n",
            "former           105\n",
            "change           102\n",
            "search           102\n",
            "dream            100\n",
            "best              99\n",
            "big               99\n",
            "career            99\n",
            "win               97\n",
            "american          96\n",
            "marriage          96\n",
            "travel            96\n",
            "journey           95\n",
            "sister            95\n",
            "marry             94\n",
            "lose              93\n",
            "comic             92\n",
            "drug              92\n",
            "ex                92\n",
            "mission           92\n",
            "share             91\n",
            "base              90\n",
            "husband           89\n",
            "mysterious        89\n",
            "set               89\n",
            "together          87\n",
            "college           86\n",
            "game              86\n",
            "night             85\n",
            "hit               84\n",
            "india             83\n",
            "start             83\n",
            "police            82\n",
            "parent            81\n",
            "agent             80\n",
            "girlfriend        80\n",
            "join              80\n",
            "long              80\n",
            "break             79\n",
            "music             79\n",
            "whose             79\n",
            "power             78\n",
            "trip              77\n",
            "bond              76\n",
            "childhood         76\n",
            "criminal          76\n",
            "kill              76\n",
            "play              76\n",
            "romance           76\n",
            "job               75\n",
            "stage             75\n",
            "event             74\n",
            "history           74\n",
            "killer            74\n",
            "rise              74\n",
            "christmas         73\n",
            "series            73\n",
            "village           73\n",
            "age               72\n",
            "drama             72\n",
            "steal             70\n",
            "york              70\n",
            "attempt           69\n",
            "future            69\n",
            "local             68\n",
            "spirit            68\n",
            "gang              67\n",
            "tale              67\n",
            "challenge         66\n",
            "explore           66\n",
            "form              65\n",
            "head              65\n",
            "men               65\n",
            "personal          65\n",
            "rescue            65\n",
            "revenge           65\n",
            "sex               65\n",
            "test              65\n",
            "country           64\n",
            "give              64\n",
            "race              64\n",
            "heart             63\n",
            "thing             63\n",
            "threaten          63\n",
            "adventure         62\n",
            "band              62\n",
            "different         62\n",
            "evil              62\n",
            "hop               62\n",
            "plot              62\n",
            "real              62\n",
            "social            62\n",
            "business          61\n",
            "determine         61\n",
            "human             61\n",
            "party             61\n",
            "art               60\n",
            "dark              60\n",
            "hire              60\n",
            "people            60\n",
            "escape            59\n",
            "land              59\n",
            "kid               58\n",
            "kidnap            58\n",
            "know              58\n",
            "mumbai            58\n",
            "send              58\n",
            "trouble           58\n",
            "capture           57\n",
            "miss              57\n",
            "detective         56\n",
            "law               56\n",
            "tell              56\n",
            "train             56\n",
            "earth             55\n",
            "encounter         55\n",
            "money             55\n",
            "officer           55\n",
            "stop              55\n",
            "teenage           55\n",
            "truth             55\n",
            "artist            54\n",
            "five              54\n",
            "house             54\n",
            "prison            54\n",
            "raise             54\n",
            "see               54\n",
            "self              54\n",
            "use               54\n",
            "visit             54\n",
            "wealthy           54\n",
            "wed               54\n",
            "dangerous         53\n",
            "indian            53\n",
            "crew              52\n",
            "everything        52\n",
            "experience        52\n",
            "writer            52\n",
            "deadly            51\n",
            "holiday           51\n",
            "pal               51\n",
            "road              51\n",
            "single            51\n",
            "actor             50\n",
            "america           50\n",
            "filmmaker         50\n",
            "hunt              50\n",
            "rival             50\n",
            "terrorist         50\n",
            "tour              50\n",
            "track             50\n",
            "becomes           49\n",
            "culture           49\n",
            "discovers         49\n",
            "embark            49\n",
            "grow              49\n",
            "identity          49\n",
            "interview         49\n",
            "political         49\n",
            "quest             49\n",
            "tv                49\n",
            "want              49\n",
            "date              48\n",
            "government        48\n",
            "partner           48\n",
            "reality           48\n",
            "right             48\n",
            "scheme            48\n",
            "street            48\n",
            "wild              48\n",
            "accident          47\n",
            "away              47\n",
            "catch             47\n",
            "chance            47\n",
            "director          47\n",
            "haunt             47\n",
            "investigate       47\n",
            "need              47\n",
            "order             47\n",
            "path              47\n",
            "violent           47\n",
            "bring             46\n",
            "doctor            46\n",
            "prove             46\n",
            "singer            46\n",
            "unexpected        46\n",
            "aspire            45\n",
            "attack            45\n",
            "create            45\n",
            "modern            45\n",
            "offer             45\n",
            "protect           45\n",
            "remote            45\n",
            "car               44\n",
            "competition       44\n",
            "decide            44\n",
            "die               44\n",
            "end               44\n",
            "london            44\n",
            "monster           44\n",
            "player            44\n",
            "powerful          44\n",
            "rock              44\n",
            "soccer            44\n",
            "stranger          44\n",
            "deal              43\n",
            "leader            43\n",
            "like              43\n",
            "teacher           43\n",
            "case              42\n",
            "demon             42\n",
            "desperate         42\n",
            "even              42\n",
            "feature           42\n",
            "good              42\n",
            "navigate          42\n",
            "boyfriend         41\n",
            "footage           41\n",
            "friendship        41\n",
            "member            41\n",
            "neighbor          41\n",
            "rich              41\n",
            "top               41\n",
            "anoth             40\n",
            "army              40\n",
            "decade            40\n",
            "driver            40\n",
            "feeling           40\n",
            "host              40\n",
            "mind              40\n",
            "name              40\n",
            "scientist         40\n",
            "side              40\n",
            "bad               39\n",
            "care              39\n",
            "crisis            39\n",
            "dance             39\n",
            "estrange          39\n",
            "female            39\n",
            "movie             39\n",
            "talk              39\n",
            "worker            39\n",
            "call              38\n",
            "cross             38\n",
            "dead              38\n",
            "island            38\n",
            "master            38\n",
            "memory            38\n",
            "risk              38\n",
            "society           38\n",
            "suspect           38\n",
            "target            38\n",
            "across            37\n",
            "act               37\n",
            "celebrity         37\n",
            "character         37\n",
            "chronicle         37\n",
            "community         37\n",
            "company           37\n",
            "gangster          37\n",
            "hope              37\n",
            "king              37\n",
            "late              37\n",
            "legendary         37\n",
            "lover             37\n",
            "romantic          37\n",
            "scene             37\n",
            "soldier           37\n",
            "south             37\n",
            "action            36\n",
            "amid              36\n",
            "build             36\n",
            "charm             36\n",
            "hand              36\n",
            "include           36\n",
            "middle            36\n",
            "mom               36\n",
            "musical           36\n",
            "open              36\n",
            "popular           36\n",
            "teenager          36\n",
            "unlikely          36\n",
            "alien             35\n",
            "ambitious         35\n",
            "baby              35\n",
            "bank              35\n",
            "beloved           35\n",
            "brutal            35\n",
            "class             35\n",
            "drive             35\n",
            "elite             35\n",
            "hometown          35\n",
            "journalist        35\n",
            "justice           35\n",
            "medium            35\n",
            "musician          35\n",
            "politician        35\n",
            "pursue            35\n",
            "question          35\n",
            "sinister          35\n",
            "video             35\n",
            "widow             35\n",
            "body              34\n",
            "british           34\n",
            "clash             34\n",
            "con               34\n",
            "crush             34\n",
            "enemy             34\n",
            "eye               34\n",
            "gay               34\n",
            "gift              34\n",
            "hide              34\n",
            "lawyer            34\n",
            "magic             34\n",
            "owner             34\n",
            "\n"
          ],
          "name": "stdout"
        }
      ]
    },
    {
      "cell_type": "code",
      "metadata": {
        "colab": {
          "base_uri": "https://localhost:8080/"
        },
        "id": "mlQXyPFBY-e8",
        "outputId": "5086fdf2-75ae-4171-9b0c-06f1956dd52b"
      },
      "source": [
        "# if tfidf is requested, replace tf matrix with frequencies weighted by IDF\n",
        "if tfidf == True:\n",
        "    # Construct the TF/IDF matrix from the data\n",
        "    print(\"Conducting Term/Frequency Matrix using TF-IDF\")\n",
        "    tfidf_vect = TfidfVectorizer(max_df=0.7, min_df=5, \\\n",
        "    max_features=None,\\\n",
        "    analyzer=my_analyzer, ngram_range=ngram)\n",
        "    tf = tfidf_vect.fit_transform(plots)\n",
        "    terms = tfidf_vect.get_feature_names()\n",
        "    term_idf_sums = tf.sum(axis=0)\n",
        "    term_idf_scores = []\n",
        "    for i in range(len(terms)):\n",
        "        term_idf_scores.append([terms[i], term_idf_sums[0,i]])\n",
        "    print(\"The Term/Frequency matrix has\", tf.shape[0], \" rows, and\",\\\n",
        "        tf.shape[1], \" columns.\")\n",
        "    print(\"The Term list has\", len(terms), \" terms.\")\n",
        "    term_idf_scores.sort(key=sortSecond, reverse=True)\n",
        "    print(\"\\nTerms with Highest TF-IDF Scores:\")\n",
        "    for i in range(100):\n",
        "        print('{:<15s}{:>8.2f}'.format(term_idf_scores[i][0], \\\n",
        "        term_idf_scores[i][1]))\n",
        "        out2.append([term_idf_scores[i][0], term_idf_scores[i][1]])\n",
        "        np.savetxt(\"tfidf1_100.csv\", out2, delimiter=\",\", fmt='%s')"
      ],
      "execution_count": 53,
      "outputs": [
        {
          "output_type": "stream",
          "text": [
            "Conducting Term/Frequency Matrix using TF-IDF\n",
            "The Term/Frequency matrix has 5377  rows, and 2855  columns.\n",
            "The Term list has 2855  terms.\n",
            "\n",
            "Terms with Highest TF-IDF Scores:\n",
            "life             101.04\n",
            "young             89.69\n",
            "find              83.46\n",
            "woman             80.13\n",
            "man               76.26\n",
            "family            75.28\n",
            "new               75.08\n",
            "take              73.25\n",
            "love              69.53\n",
            "friend            64.70\n",
            "two               59.85\n",
            "year              58.54\n",
            "documentary       57.01\n",
            "world             55.00\n",
            "one               51.41\n",
            "father            50.98\n",
            "old               48.78\n",
            "help              47.13\n",
            "try               46.40\n",
            "make              45.65\n",
            "turn              43.71\n",
            "home              43.52\n",
            "fall              43.12\n",
            "story             42.01\n",
            "girl              41.98\n",
            "live              40.94\n",
            "school            40.67\n",
            "go                39.76\n",
            "son               39.06\n",
            "struggle          37.55\n",
            "save              37.02\n",
            "mother            36.91\n",
            "force             36.45\n",
            "murder            36.21\n",
            "special           36.12\n",
            "daughter          36.06\n",
            "follow            35.84\n",
            "get               35.72\n",
            "meet              35.62\n",
            "teen              35.59\n",
            "stand             35.50\n",
            "brother           35.40\n",
            "wife              34.95\n",
            "secret            34.68\n",
            "face              34.61\n",
            "film              34.47\n",
            "return            34.31\n",
            "group             33.75\n",
            "star              33.68\n",
            "student           33.44\n",
            "team              33.34\n",
            "death             32.88\n",
            "begin             32.48\n",
            "work              32.45\n",
            "boy               32.26\n",
            "come              32.25\n",
            "town              31.85\n",
            "leave             31.61\n",
            "way               31.43\n",
            "back              31.29\n",
            "child             31.17\n",
            "time              31.14\n",
            "become            31.02\n",
            "couple            30.59\n",
            "city              30.44\n",
            "day               30.19\n",
            "war               29.88\n",
            "fight             29.52\n",
            "learn             29.51\n",
            "past              29.00\n",
            "relationship      29.00\n",
            "plan              28.96\n",
            "lead              28.59\n",
            "show              28.45\n",
            "comedy            28.24\n",
            "move              28.03\n",
            "comedian          27.77\n",
            "battle            27.45\n",
            "four              27.26\n",
            "true              27.21\n",
            "run               26.52\n",
            "look              26.49\n",
            "search            26.48\n",
            "first             26.39\n",
            "seek              26.31\n",
            "cop               26.05\n",
            "dream             25.66\n",
            "change            25.56\n",
            "best              25.46\n",
            "big               25.39\n",
            "former            25.37\n",
            "crime             25.35\n",
            "career            25.22\n",
            "marriage          24.84\n",
            "journey           24.66\n",
            "marry             24.49\n",
            "sister            24.35\n",
            "travel            24.25\n",
            "win               24.03\n",
            "american          23.80\n"
          ],
          "name": "stdout"
        }
      ]
    },
    {
      "cell_type": "code",
      "metadata": {
        "colab": {
          "base_uri": "https://localhost:8080/"
        },
        "id": "vCe__XYBZFUf",
        "outputId": "ee0b7e96-8a68-4061-a616-86c9958b74ef"
      },
      "source": [
        "## Creating a dataframe of all frequent words from count_vectorizer\n",
        "k = tf1.todense()\n",
        "freq = pd.DataFrame(k,columns = terms1)\n",
        "freq_words = freq.sum(axis = 0)\n",
        "freq = freq.append(freq_words,ignore_index = True)\n",
        "\n",
        "\n",
        "## Transposing and rearranging\n",
        "freq.t = freq.T\n",
        "freq.t = freq.t.reset_index()\n",
        "freq.t = freq.t.drop(['index'],axis = 1)\n",
        "freq.t.index = terms1\n",
        "freq.t.columns.values[5377] = \"freq_sum\"\n",
        "freq.t = freq.t.sort_values(\"freq_sum\",ascending = False)"
      ],
      "execution_count": 54,
      "outputs": [
        {
          "output_type": "stream",
          "text": [
            "/usr/local/lib/python3.7/dist-packages/ipykernel_launcher.py:9: UserWarning: Pandas doesn't allow columns to be created via a new attribute name - see https://pandas.pydata.org/pandas-docs/stable/indexing.html#attribute-access\n",
            "  if __name__ == '__main__':\n"
          ],
          "name": "stderr"
        }
      ]
    },
    {
      "cell_type": "code",
      "metadata": {
        "id": "vSPA3Pd6ZLPf"
      },
      "source": [
        "top_words = []\n",
        "for i in range(100):\n",
        "    top_words.append(out2[i][0])"
      ],
      "execution_count": 55,
      "outputs": []
    },
    {
      "cell_type": "code",
      "metadata": {
        "colab": {
          "base_uri": "https://localhost:8080/"
        },
        "id": "8XwUXJiCZPLL",
        "outputId": "395feb7d-0e13-4a6d-e138-52a5d881af2a"
      },
      "source": [
        "top_words"
      ],
      "execution_count": 56,
      "outputs": [
        {
          "output_type": "execute_result",
          "data": {
            "text/plain": [
              "['life',\n",
              " 'young',\n",
              " 'find',\n",
              " 'woman',\n",
              " 'man',\n",
              " 'family',\n",
              " 'new',\n",
              " 'take',\n",
              " 'love',\n",
              " 'friend',\n",
              " 'two',\n",
              " 'year',\n",
              " 'documentary',\n",
              " 'world',\n",
              " 'one',\n",
              " 'father',\n",
              " 'old',\n",
              " 'help',\n",
              " 'try',\n",
              " 'make',\n",
              " 'turn',\n",
              " 'home',\n",
              " 'fall',\n",
              " 'story',\n",
              " 'girl',\n",
              " 'live',\n",
              " 'school',\n",
              " 'go',\n",
              " 'son',\n",
              " 'struggle',\n",
              " 'save',\n",
              " 'mother',\n",
              " 'force',\n",
              " 'murder',\n",
              " 'special',\n",
              " 'daughter',\n",
              " 'follow',\n",
              " 'get',\n",
              " 'meet',\n",
              " 'teen',\n",
              " 'stand',\n",
              " 'brother',\n",
              " 'wife',\n",
              " 'secret',\n",
              " 'face',\n",
              " 'film',\n",
              " 'return',\n",
              " 'group',\n",
              " 'star',\n",
              " 'student',\n",
              " 'team',\n",
              " 'death',\n",
              " 'begin',\n",
              " 'work',\n",
              " 'boy',\n",
              " 'come',\n",
              " 'town',\n",
              " 'leave',\n",
              " 'way',\n",
              " 'back',\n",
              " 'child',\n",
              " 'time',\n",
              " 'become',\n",
              " 'couple',\n",
              " 'city',\n",
              " 'day',\n",
              " 'war',\n",
              " 'fight',\n",
              " 'learn',\n",
              " 'past',\n",
              " 'relationship',\n",
              " 'plan',\n",
              " 'lead',\n",
              " 'show',\n",
              " 'comedy',\n",
              " 'move',\n",
              " 'comedian',\n",
              " 'battle',\n",
              " 'four',\n",
              " 'true',\n",
              " 'run',\n",
              " 'look',\n",
              " 'search',\n",
              " 'first',\n",
              " 'seek',\n",
              " 'cop',\n",
              " 'dream',\n",
              " 'change',\n",
              " 'best',\n",
              " 'big',\n",
              " 'former',\n",
              " 'crime',\n",
              " 'career',\n",
              " 'marriage',\n",
              " 'journey',\n",
              " 'marry',\n",
              " 'sister',\n",
              " 'travel',\n",
              " 'win',\n",
              " 'american']"
            ]
          },
          "metadata": {
            "tags": []
          },
          "execution_count": 56
        }
      ]
    },
    {
      "cell_type": "code",
      "metadata": {
        "colab": {
          "base_uri": "https://localhost:8080/"
        },
        "id": "ogPwulGKZToc",
        "outputId": "b271c08a-b41c-4e64-f351-0c0adab848ce"
      },
      "source": [
        "words_df = freq.t.T\n",
        "df = words_df[top_words]\n",
        "\n",
        "df_encoded = df\n",
        "df_encoded[df_encoded!=0] = 1"
      ],
      "execution_count": 57,
      "outputs": [
        {
          "output_type": "stream",
          "text": [
            "/usr/local/lib/python3.7/dist-packages/ipykernel_launcher.py:5: SettingWithCopyWarning: \n",
            "A value is trying to be set on a copy of a slice from a DataFrame.\n",
            "Try using .loc[row_indexer,col_indexer] = value instead\n",
            "\n",
            "See the caveats in the documentation: https://pandas.pydata.org/pandas-docs/stable/user_guide/indexing.html#returning-a-view-versus-a-copy\n",
            "  \"\"\"\n",
            "/usr/local/lib/python3.7/dist-packages/pandas/core/frame.py:3093: SettingWithCopyWarning: \n",
            "A value is trying to be set on a copy of a slice from a DataFrame\n",
            "\n",
            "See the caveats in the documentation: https://pandas.pydata.org/pandas-docs/stable/user_guide/indexing.html#returning-a-view-versus-a-copy\n",
            "  self._where(-key, value, inplace=True)\n"
          ],
          "name": "stderr"
        }
      ]
    },
    {
      "cell_type": "code",
      "metadata": {
        "id": "z5qKUNfLZbG0"
      },
      "source": [
        "data_first = data_first.reset_index(drop=True)\n",
        "df_encoded = df_encoded.reset_index(drop=True)\n",
        "df_final2 = pd.concat([data, df_encoded], axis=1)\n",
        "df_final2 = df_final2.drop(['show_id','date_added','director','cast','description','rating',\\\n",
        "                          'country','type','listed_in'],axis = 1)"
      ],
      "execution_count": 58,
      "outputs": []
    },
    {
      "cell_type": "code",
      "metadata": {
        "colab": {
          "base_uri": "https://localhost:8080/",
          "height": 626
        },
        "id": "NM_cwAtxZpED",
        "outputId": "a0cced08-4308-4c78-8a57-a93b5bd8aeac"
      },
      "source": [
        "df_final2"
      ],
      "execution_count": 59,
      "outputs": [
        {
          "output_type": "execute_result",
          "data": {
            "text/html": [
              "<div>\n",
              "<style scoped>\n",
              "    .dataframe tbody tr th:only-of-type {\n",
              "        vertical-align: middle;\n",
              "    }\n",
              "\n",
              "    .dataframe tbody tr th {\n",
              "        vertical-align: top;\n",
              "    }\n",
              "\n",
              "    .dataframe thead th {\n",
              "        text-align: right;\n",
              "    }\n",
              "</style>\n",
              "<table border=\"1\" class=\"dataframe\">\n",
              "  <thead>\n",
              "    <tr style=\"text-align: right;\">\n",
              "      <th></th>\n",
              "      <th>title</th>\n",
              "      <th>release_year</th>\n",
              "      <th>duration</th>\n",
              "      <th>genre:Action &amp; Adventure</th>\n",
              "      <th>genre:Anime Features</th>\n",
              "      <th>genre:Children &amp; Family Movies</th>\n",
              "      <th>genre:Classic Movies</th>\n",
              "      <th>genre:Comedies</th>\n",
              "      <th>genre:Cult Movies</th>\n",
              "      <th>genre:Documentaries</th>\n",
              "      <th>genre:Dramas</th>\n",
              "      <th>genre:Faith &amp; Spirituality</th>\n",
              "      <th>genre:Horror Movies</th>\n",
              "      <th>genre:Independent Movies</th>\n",
              "      <th>genre:International Movies</th>\n",
              "      <th>genre:LGBTQ Movies</th>\n",
              "      <th>genre:Movies</th>\n",
              "      <th>genre:Music &amp; Musicals</th>\n",
              "      <th>genre:Romantic Movies</th>\n",
              "      <th>genre:Sci-Fi &amp; Fantasy</th>\n",
              "      <th>genre:Sports Movies</th>\n",
              "      <th>genre:Stand-Up Comedy</th>\n",
              "      <th>genre:Thrillers</th>\n",
              "      <th>Cast:missing</th>\n",
              "      <th>Cast:Anupam Kher</th>\n",
              "      <th>Cast:Shah Rukh Khan</th>\n",
              "      <th>Cast:Om Puri</th>\n",
              "      <th>Cast:Naseeruddin Shah</th>\n",
              "      <th>Cast:Akshay Kumar</th>\n",
              "      <th>Cast:Boman Irani</th>\n",
              "      <th>Cast:Amitabh Bachchan</th>\n",
              "      <th>Cast:Paresh Rawal</th>\n",
              "      <th>Cast:Kareena Kapoor</th>\n",
              "      <th>Cast:Ajay Devgn</th>\n",
              "      <th>Cast:Nawazuddin Siddiqui</th>\n",
              "      <th>Cast:Kay Kay Menon</th>\n",
              "      <th>Cast:Salman Khan</th>\n",
              "      <th>Cast:Samuel L. Jackson</th>\n",
              "      <th>Cast:John Cleese</th>\n",
              "      <th>Cast:Gulshan Grover</th>\n",
              "      <th>...</th>\n",
              "      <th>child</th>\n",
              "      <th>time</th>\n",
              "      <th>become</th>\n",
              "      <th>couple</th>\n",
              "      <th>city</th>\n",
              "      <th>day</th>\n",
              "      <th>war</th>\n",
              "      <th>fight</th>\n",
              "      <th>learn</th>\n",
              "      <th>past</th>\n",
              "      <th>relationship</th>\n",
              "      <th>plan</th>\n",
              "      <th>lead</th>\n",
              "      <th>show</th>\n",
              "      <th>comedy</th>\n",
              "      <th>move</th>\n",
              "      <th>comedian</th>\n",
              "      <th>battle</th>\n",
              "      <th>four</th>\n",
              "      <th>true</th>\n",
              "      <th>run</th>\n",
              "      <th>look</th>\n",
              "      <th>search</th>\n",
              "      <th>first</th>\n",
              "      <th>seek</th>\n",
              "      <th>cop</th>\n",
              "      <th>dream</th>\n",
              "      <th>change</th>\n",
              "      <th>best</th>\n",
              "      <th>big</th>\n",
              "      <th>former</th>\n",
              "      <th>crime</th>\n",
              "      <th>career</th>\n",
              "      <th>marriage</th>\n",
              "      <th>journey</th>\n",
              "      <th>marry</th>\n",
              "      <th>sister</th>\n",
              "      <th>travel</th>\n",
              "      <th>win</th>\n",
              "      <th>american</th>\n",
              "    </tr>\n",
              "  </thead>\n",
              "  <tbody>\n",
              "    <tr>\n",
              "      <th>0</th>\n",
              "      <td>7:19</td>\n",
              "      <td>2016.0</td>\n",
              "      <td>93.0</td>\n",
              "      <td>0.0</td>\n",
              "      <td>0.0</td>\n",
              "      <td>0.0</td>\n",
              "      <td>0.0</td>\n",
              "      <td>0.0</td>\n",
              "      <td>0.0</td>\n",
              "      <td>0.0</td>\n",
              "      <td>1.0</td>\n",
              "      <td>0.0</td>\n",
              "      <td>0.0</td>\n",
              "      <td>0.0</td>\n",
              "      <td>1.0</td>\n",
              "      <td>0.0</td>\n",
              "      <td>0.0</td>\n",
              "      <td>0.0</td>\n",
              "      <td>0.0</td>\n",
              "      <td>0.0</td>\n",
              "      <td>0.0</td>\n",
              "      <td>0.0</td>\n",
              "      <td>0.0</td>\n",
              "      <td>0.0</td>\n",
              "      <td>0.0</td>\n",
              "      <td>0.0</td>\n",
              "      <td>0.0</td>\n",
              "      <td>0.0</td>\n",
              "      <td>0.0</td>\n",
              "      <td>0.0</td>\n",
              "      <td>0.0</td>\n",
              "      <td>0.0</td>\n",
              "      <td>0.0</td>\n",
              "      <td>0.0</td>\n",
              "      <td>0.0</td>\n",
              "      <td>0.0</td>\n",
              "      <td>0.0</td>\n",
              "      <td>0.0</td>\n",
              "      <td>0.0</td>\n",
              "      <td>0.0</td>\n",
              "      <td>...</td>\n",
              "      <td>0</td>\n",
              "      <td>0</td>\n",
              "      <td>0</td>\n",
              "      <td>0</td>\n",
              "      <td>1</td>\n",
              "      <td>0</td>\n",
              "      <td>0</td>\n",
              "      <td>0</td>\n",
              "      <td>0</td>\n",
              "      <td>0</td>\n",
              "      <td>0</td>\n",
              "      <td>0</td>\n",
              "      <td>0</td>\n",
              "      <td>0</td>\n",
              "      <td>0</td>\n",
              "      <td>0</td>\n",
              "      <td>0</td>\n",
              "      <td>0</td>\n",
              "      <td>0</td>\n",
              "      <td>0</td>\n",
              "      <td>0</td>\n",
              "      <td>0</td>\n",
              "      <td>0</td>\n",
              "      <td>0</td>\n",
              "      <td>0</td>\n",
              "      <td>0</td>\n",
              "      <td>0</td>\n",
              "      <td>0</td>\n",
              "      <td>0</td>\n",
              "      <td>0</td>\n",
              "      <td>0</td>\n",
              "      <td>0</td>\n",
              "      <td>0</td>\n",
              "      <td>0</td>\n",
              "      <td>0</td>\n",
              "      <td>0</td>\n",
              "      <td>0</td>\n",
              "      <td>0</td>\n",
              "      <td>0</td>\n",
              "      <td>0</td>\n",
              "    </tr>\n",
              "    <tr>\n",
              "      <th>1</th>\n",
              "      <td>23:59</td>\n",
              "      <td>2011.0</td>\n",
              "      <td>78.0</td>\n",
              "      <td>0.0</td>\n",
              "      <td>0.0</td>\n",
              "      <td>0.0</td>\n",
              "      <td>0.0</td>\n",
              "      <td>0.0</td>\n",
              "      <td>0.0</td>\n",
              "      <td>0.0</td>\n",
              "      <td>0.0</td>\n",
              "      <td>0.0</td>\n",
              "      <td>1.0</td>\n",
              "      <td>0.0</td>\n",
              "      <td>1.0</td>\n",
              "      <td>0.0</td>\n",
              "      <td>0.0</td>\n",
              "      <td>0.0</td>\n",
              "      <td>0.0</td>\n",
              "      <td>0.0</td>\n",
              "      <td>0.0</td>\n",
              "      <td>0.0</td>\n",
              "      <td>0.0</td>\n",
              "      <td>0.0</td>\n",
              "      <td>0.0</td>\n",
              "      <td>0.0</td>\n",
              "      <td>0.0</td>\n",
              "      <td>0.0</td>\n",
              "      <td>0.0</td>\n",
              "      <td>0.0</td>\n",
              "      <td>0.0</td>\n",
              "      <td>0.0</td>\n",
              "      <td>0.0</td>\n",
              "      <td>0.0</td>\n",
              "      <td>0.0</td>\n",
              "      <td>0.0</td>\n",
              "      <td>0.0</td>\n",
              "      <td>0.0</td>\n",
              "      <td>0.0</td>\n",
              "      <td>0.0</td>\n",
              "      <td>...</td>\n",
              "      <td>0</td>\n",
              "      <td>0</td>\n",
              "      <td>0</td>\n",
              "      <td>0</td>\n",
              "      <td>0</td>\n",
              "      <td>0</td>\n",
              "      <td>0</td>\n",
              "      <td>0</td>\n",
              "      <td>0</td>\n",
              "      <td>0</td>\n",
              "      <td>0</td>\n",
              "      <td>0</td>\n",
              "      <td>0</td>\n",
              "      <td>0</td>\n",
              "      <td>0</td>\n",
              "      <td>0</td>\n",
              "      <td>0</td>\n",
              "      <td>0</td>\n",
              "      <td>0</td>\n",
              "      <td>0</td>\n",
              "      <td>0</td>\n",
              "      <td>0</td>\n",
              "      <td>0</td>\n",
              "      <td>0</td>\n",
              "      <td>0</td>\n",
              "      <td>0</td>\n",
              "      <td>0</td>\n",
              "      <td>0</td>\n",
              "      <td>0</td>\n",
              "      <td>0</td>\n",
              "      <td>0</td>\n",
              "      <td>0</td>\n",
              "      <td>0</td>\n",
              "      <td>0</td>\n",
              "      <td>0</td>\n",
              "      <td>0</td>\n",
              "      <td>0</td>\n",
              "      <td>0</td>\n",
              "      <td>0</td>\n",
              "      <td>0</td>\n",
              "    </tr>\n",
              "    <tr>\n",
              "      <th>2</th>\n",
              "      <td>9</td>\n",
              "      <td>2009.0</td>\n",
              "      <td>80.0</td>\n",
              "      <td>1.0</td>\n",
              "      <td>0.0</td>\n",
              "      <td>0.0</td>\n",
              "      <td>0.0</td>\n",
              "      <td>0.0</td>\n",
              "      <td>0.0</td>\n",
              "      <td>0.0</td>\n",
              "      <td>0.0</td>\n",
              "      <td>0.0</td>\n",
              "      <td>0.0</td>\n",
              "      <td>1.0</td>\n",
              "      <td>0.0</td>\n",
              "      <td>0.0</td>\n",
              "      <td>0.0</td>\n",
              "      <td>0.0</td>\n",
              "      <td>0.0</td>\n",
              "      <td>1.0</td>\n",
              "      <td>0.0</td>\n",
              "      <td>0.0</td>\n",
              "      <td>0.0</td>\n",
              "      <td>0.0</td>\n",
              "      <td>0.0</td>\n",
              "      <td>0.0</td>\n",
              "      <td>0.0</td>\n",
              "      <td>0.0</td>\n",
              "      <td>0.0</td>\n",
              "      <td>0.0</td>\n",
              "      <td>0.0</td>\n",
              "      <td>0.0</td>\n",
              "      <td>0.0</td>\n",
              "      <td>0.0</td>\n",
              "      <td>0.0</td>\n",
              "      <td>0.0</td>\n",
              "      <td>0.0</td>\n",
              "      <td>0.0</td>\n",
              "      <td>0.0</td>\n",
              "      <td>0.0</td>\n",
              "      <td>...</td>\n",
              "      <td>0</td>\n",
              "      <td>0</td>\n",
              "      <td>0</td>\n",
              "      <td>0</td>\n",
              "      <td>0</td>\n",
              "      <td>0</td>\n",
              "      <td>0</td>\n",
              "      <td>0</td>\n",
              "      <td>0</td>\n",
              "      <td>0</td>\n",
              "      <td>0</td>\n",
              "      <td>0</td>\n",
              "      <td>0</td>\n",
              "      <td>0</td>\n",
              "      <td>0</td>\n",
              "      <td>0</td>\n",
              "      <td>0</td>\n",
              "      <td>0</td>\n",
              "      <td>0</td>\n",
              "      <td>0</td>\n",
              "      <td>0</td>\n",
              "      <td>0</td>\n",
              "      <td>0</td>\n",
              "      <td>0</td>\n",
              "      <td>0</td>\n",
              "      <td>0</td>\n",
              "      <td>0</td>\n",
              "      <td>0</td>\n",
              "      <td>0</td>\n",
              "      <td>0</td>\n",
              "      <td>0</td>\n",
              "      <td>0</td>\n",
              "      <td>0</td>\n",
              "      <td>0</td>\n",
              "      <td>0</td>\n",
              "      <td>0</td>\n",
              "      <td>0</td>\n",
              "      <td>0</td>\n",
              "      <td>0</td>\n",
              "      <td>0</td>\n",
              "    </tr>\n",
              "    <tr>\n",
              "      <th>3</th>\n",
              "      <td>21</td>\n",
              "      <td>2008.0</td>\n",
              "      <td>123.0</td>\n",
              "      <td>0.0</td>\n",
              "      <td>0.0</td>\n",
              "      <td>0.0</td>\n",
              "      <td>0.0</td>\n",
              "      <td>0.0</td>\n",
              "      <td>0.0</td>\n",
              "      <td>0.0</td>\n",
              "      <td>1.0</td>\n",
              "      <td>0.0</td>\n",
              "      <td>0.0</td>\n",
              "      <td>0.0</td>\n",
              "      <td>0.0</td>\n",
              "      <td>0.0</td>\n",
              "      <td>0.0</td>\n",
              "      <td>0.0</td>\n",
              "      <td>0.0</td>\n",
              "      <td>0.0</td>\n",
              "      <td>0.0</td>\n",
              "      <td>0.0</td>\n",
              "      <td>0.0</td>\n",
              "      <td>0.0</td>\n",
              "      <td>0.0</td>\n",
              "      <td>0.0</td>\n",
              "      <td>0.0</td>\n",
              "      <td>0.0</td>\n",
              "      <td>0.0</td>\n",
              "      <td>0.0</td>\n",
              "      <td>0.0</td>\n",
              "      <td>0.0</td>\n",
              "      <td>0.0</td>\n",
              "      <td>0.0</td>\n",
              "      <td>0.0</td>\n",
              "      <td>0.0</td>\n",
              "      <td>0.0</td>\n",
              "      <td>0.0</td>\n",
              "      <td>0.0</td>\n",
              "      <td>0.0</td>\n",
              "      <td>...</td>\n",
              "      <td>0</td>\n",
              "      <td>0</td>\n",
              "      <td>0</td>\n",
              "      <td>0</td>\n",
              "      <td>0</td>\n",
              "      <td>0</td>\n",
              "      <td>0</td>\n",
              "      <td>0</td>\n",
              "      <td>0</td>\n",
              "      <td>0</td>\n",
              "      <td>0</td>\n",
              "      <td>0</td>\n",
              "      <td>0</td>\n",
              "      <td>0</td>\n",
              "      <td>0</td>\n",
              "      <td>0</td>\n",
              "      <td>0</td>\n",
              "      <td>0</td>\n",
              "      <td>0</td>\n",
              "      <td>0</td>\n",
              "      <td>0</td>\n",
              "      <td>0</td>\n",
              "      <td>0</td>\n",
              "      <td>0</td>\n",
              "      <td>0</td>\n",
              "      <td>0</td>\n",
              "      <td>0</td>\n",
              "      <td>0</td>\n",
              "      <td>0</td>\n",
              "      <td>0</td>\n",
              "      <td>0</td>\n",
              "      <td>0</td>\n",
              "      <td>0</td>\n",
              "      <td>0</td>\n",
              "      <td>0</td>\n",
              "      <td>0</td>\n",
              "      <td>0</td>\n",
              "      <td>0</td>\n",
              "      <td>0</td>\n",
              "      <td>0</td>\n",
              "    </tr>\n",
              "    <tr>\n",
              "      <th>4</th>\n",
              "      <td>122</td>\n",
              "      <td>2019.0</td>\n",
              "      <td>95.0</td>\n",
              "      <td>0.0</td>\n",
              "      <td>0.0</td>\n",
              "      <td>0.0</td>\n",
              "      <td>0.0</td>\n",
              "      <td>0.0</td>\n",
              "      <td>0.0</td>\n",
              "      <td>0.0</td>\n",
              "      <td>0.0</td>\n",
              "      <td>0.0</td>\n",
              "      <td>1.0</td>\n",
              "      <td>0.0</td>\n",
              "      <td>1.0</td>\n",
              "      <td>0.0</td>\n",
              "      <td>0.0</td>\n",
              "      <td>0.0</td>\n",
              "      <td>0.0</td>\n",
              "      <td>0.0</td>\n",
              "      <td>0.0</td>\n",
              "      <td>0.0</td>\n",
              "      <td>0.0</td>\n",
              "      <td>0.0</td>\n",
              "      <td>0.0</td>\n",
              "      <td>0.0</td>\n",
              "      <td>0.0</td>\n",
              "      <td>0.0</td>\n",
              "      <td>0.0</td>\n",
              "      <td>0.0</td>\n",
              "      <td>0.0</td>\n",
              "      <td>0.0</td>\n",
              "      <td>0.0</td>\n",
              "      <td>0.0</td>\n",
              "      <td>0.0</td>\n",
              "      <td>0.0</td>\n",
              "      <td>0.0</td>\n",
              "      <td>0.0</td>\n",
              "      <td>0.0</td>\n",
              "      <td>0.0</td>\n",
              "      <td>...</td>\n",
              "      <td>0</td>\n",
              "      <td>0</td>\n",
              "      <td>0</td>\n",
              "      <td>1</td>\n",
              "      <td>0</td>\n",
              "      <td>0</td>\n",
              "      <td>0</td>\n",
              "      <td>0</td>\n",
              "      <td>0</td>\n",
              "      <td>0</td>\n",
              "      <td>0</td>\n",
              "      <td>0</td>\n",
              "      <td>0</td>\n",
              "      <td>0</td>\n",
              "      <td>0</td>\n",
              "      <td>0</td>\n",
              "      <td>0</td>\n",
              "      <td>0</td>\n",
              "      <td>0</td>\n",
              "      <td>0</td>\n",
              "      <td>0</td>\n",
              "      <td>0</td>\n",
              "      <td>0</td>\n",
              "      <td>0</td>\n",
              "      <td>0</td>\n",
              "      <td>0</td>\n",
              "      <td>0</td>\n",
              "      <td>0</td>\n",
              "      <td>0</td>\n",
              "      <td>0</td>\n",
              "      <td>0</td>\n",
              "      <td>0</td>\n",
              "      <td>0</td>\n",
              "      <td>0</td>\n",
              "      <td>0</td>\n",
              "      <td>0</td>\n",
              "      <td>0</td>\n",
              "      <td>0</td>\n",
              "      <td>0</td>\n",
              "      <td>0</td>\n",
              "    </tr>\n",
              "    <tr>\n",
              "      <th>...</th>\n",
              "      <td>...</td>\n",
              "      <td>...</td>\n",
              "      <td>...</td>\n",
              "      <td>...</td>\n",
              "      <td>...</td>\n",
              "      <td>...</td>\n",
              "      <td>...</td>\n",
              "      <td>...</td>\n",
              "      <td>...</td>\n",
              "      <td>...</td>\n",
              "      <td>...</td>\n",
              "      <td>...</td>\n",
              "      <td>...</td>\n",
              "      <td>...</td>\n",
              "      <td>...</td>\n",
              "      <td>...</td>\n",
              "      <td>...</td>\n",
              "      <td>...</td>\n",
              "      <td>...</td>\n",
              "      <td>...</td>\n",
              "      <td>...</td>\n",
              "      <td>...</td>\n",
              "      <td>...</td>\n",
              "      <td>...</td>\n",
              "      <td>...</td>\n",
              "      <td>...</td>\n",
              "      <td>...</td>\n",
              "      <td>...</td>\n",
              "      <td>...</td>\n",
              "      <td>...</td>\n",
              "      <td>...</td>\n",
              "      <td>...</td>\n",
              "      <td>...</td>\n",
              "      <td>...</td>\n",
              "      <td>...</td>\n",
              "      <td>...</td>\n",
              "      <td>...</td>\n",
              "      <td>...</td>\n",
              "      <td>...</td>\n",
              "      <td>...</td>\n",
              "      <td>...</td>\n",
              "      <td>...</td>\n",
              "      <td>...</td>\n",
              "      <td>...</td>\n",
              "      <td>...</td>\n",
              "      <td>...</td>\n",
              "      <td>...</td>\n",
              "      <td>...</td>\n",
              "      <td>...</td>\n",
              "      <td>...</td>\n",
              "      <td>...</td>\n",
              "      <td>...</td>\n",
              "      <td>...</td>\n",
              "      <td>...</td>\n",
              "      <td>...</td>\n",
              "      <td>...</td>\n",
              "      <td>...</td>\n",
              "      <td>...</td>\n",
              "      <td>...</td>\n",
              "      <td>...</td>\n",
              "      <td>...</td>\n",
              "      <td>...</td>\n",
              "      <td>...</td>\n",
              "      <td>...</td>\n",
              "      <td>...</td>\n",
              "      <td>...</td>\n",
              "      <td>...</td>\n",
              "      <td>...</td>\n",
              "      <td>...</td>\n",
              "      <td>...</td>\n",
              "      <td>...</td>\n",
              "      <td>...</td>\n",
              "      <td>...</td>\n",
              "      <td>...</td>\n",
              "      <td>...</td>\n",
              "      <td>...</td>\n",
              "      <td>...</td>\n",
              "      <td>...</td>\n",
              "      <td>...</td>\n",
              "      <td>...</td>\n",
              "      <td>...</td>\n",
              "    </tr>\n",
              "    <tr>\n",
              "      <th>5373</th>\n",
              "      <td>Zozo</td>\n",
              "      <td>2005.0</td>\n",
              "      <td>99.0</td>\n",
              "      <td>0.0</td>\n",
              "      <td>0.0</td>\n",
              "      <td>0.0</td>\n",
              "      <td>0.0</td>\n",
              "      <td>0.0</td>\n",
              "      <td>0.0</td>\n",
              "      <td>0.0</td>\n",
              "      <td>1.0</td>\n",
              "      <td>0.0</td>\n",
              "      <td>0.0</td>\n",
              "      <td>0.0</td>\n",
              "      <td>1.0</td>\n",
              "      <td>0.0</td>\n",
              "      <td>0.0</td>\n",
              "      <td>0.0</td>\n",
              "      <td>0.0</td>\n",
              "      <td>0.0</td>\n",
              "      <td>0.0</td>\n",
              "      <td>0.0</td>\n",
              "      <td>0.0</td>\n",
              "      <td>0.0</td>\n",
              "      <td>0.0</td>\n",
              "      <td>0.0</td>\n",
              "      <td>0.0</td>\n",
              "      <td>0.0</td>\n",
              "      <td>0.0</td>\n",
              "      <td>0.0</td>\n",
              "      <td>0.0</td>\n",
              "      <td>0.0</td>\n",
              "      <td>0.0</td>\n",
              "      <td>0.0</td>\n",
              "      <td>0.0</td>\n",
              "      <td>0.0</td>\n",
              "      <td>0.0</td>\n",
              "      <td>0.0</td>\n",
              "      <td>0.0</td>\n",
              "      <td>0.0</td>\n",
              "      <td>...</td>\n",
              "      <td>0</td>\n",
              "      <td>0</td>\n",
              "      <td>0</td>\n",
              "      <td>0</td>\n",
              "      <td>0</td>\n",
              "      <td>0</td>\n",
              "      <td>1</td>\n",
              "      <td>0</td>\n",
              "      <td>0</td>\n",
              "      <td>0</td>\n",
              "      <td>0</td>\n",
              "      <td>0</td>\n",
              "      <td>0</td>\n",
              "      <td>0</td>\n",
              "      <td>0</td>\n",
              "      <td>0</td>\n",
              "      <td>0</td>\n",
              "      <td>0</td>\n",
              "      <td>0</td>\n",
              "      <td>0</td>\n",
              "      <td>0</td>\n",
              "      <td>0</td>\n",
              "      <td>1</td>\n",
              "      <td>0</td>\n",
              "      <td>0</td>\n",
              "      <td>0</td>\n",
              "      <td>0</td>\n",
              "      <td>0</td>\n",
              "      <td>0</td>\n",
              "      <td>0</td>\n",
              "      <td>0</td>\n",
              "      <td>0</td>\n",
              "      <td>0</td>\n",
              "      <td>0</td>\n",
              "      <td>0</td>\n",
              "      <td>0</td>\n",
              "      <td>0</td>\n",
              "      <td>0</td>\n",
              "      <td>0</td>\n",
              "      <td>0</td>\n",
              "    </tr>\n",
              "    <tr>\n",
              "      <th>5374</th>\n",
              "      <td>Zubaan</td>\n",
              "      <td>2015.0</td>\n",
              "      <td>111.0</td>\n",
              "      <td>0.0</td>\n",
              "      <td>0.0</td>\n",
              "      <td>0.0</td>\n",
              "      <td>0.0</td>\n",
              "      <td>0.0</td>\n",
              "      <td>0.0</td>\n",
              "      <td>0.0</td>\n",
              "      <td>1.0</td>\n",
              "      <td>0.0</td>\n",
              "      <td>0.0</td>\n",
              "      <td>0.0</td>\n",
              "      <td>1.0</td>\n",
              "      <td>0.0</td>\n",
              "      <td>0.0</td>\n",
              "      <td>1.0</td>\n",
              "      <td>0.0</td>\n",
              "      <td>0.0</td>\n",
              "      <td>0.0</td>\n",
              "      <td>0.0</td>\n",
              "      <td>0.0</td>\n",
              "      <td>0.0</td>\n",
              "      <td>0.0</td>\n",
              "      <td>0.0</td>\n",
              "      <td>0.0</td>\n",
              "      <td>0.0</td>\n",
              "      <td>0.0</td>\n",
              "      <td>0.0</td>\n",
              "      <td>0.0</td>\n",
              "      <td>0.0</td>\n",
              "      <td>0.0</td>\n",
              "      <td>0.0</td>\n",
              "      <td>0.0</td>\n",
              "      <td>0.0</td>\n",
              "      <td>0.0</td>\n",
              "      <td>0.0</td>\n",
              "      <td>0.0</td>\n",
              "      <td>0.0</td>\n",
              "      <td>...</td>\n",
              "      <td>0</td>\n",
              "      <td>0</td>\n",
              "      <td>0</td>\n",
              "      <td>0</td>\n",
              "      <td>0</td>\n",
              "      <td>0</td>\n",
              "      <td>0</td>\n",
              "      <td>0</td>\n",
              "      <td>0</td>\n",
              "      <td>1</td>\n",
              "      <td>0</td>\n",
              "      <td>0</td>\n",
              "      <td>0</td>\n",
              "      <td>0</td>\n",
              "      <td>0</td>\n",
              "      <td>0</td>\n",
              "      <td>0</td>\n",
              "      <td>0</td>\n",
              "      <td>0</td>\n",
              "      <td>0</td>\n",
              "      <td>0</td>\n",
              "      <td>0</td>\n",
              "      <td>0</td>\n",
              "      <td>0</td>\n",
              "      <td>0</td>\n",
              "      <td>0</td>\n",
              "      <td>0</td>\n",
              "      <td>0</td>\n",
              "      <td>0</td>\n",
              "      <td>0</td>\n",
              "      <td>0</td>\n",
              "      <td>0</td>\n",
              "      <td>0</td>\n",
              "      <td>0</td>\n",
              "      <td>0</td>\n",
              "      <td>0</td>\n",
              "      <td>0</td>\n",
              "      <td>0</td>\n",
              "      <td>0</td>\n",
              "      <td>0</td>\n",
              "    </tr>\n",
              "    <tr>\n",
              "      <th>5375</th>\n",
              "      <td>Zulu Man in Japan</td>\n",
              "      <td>2019.0</td>\n",
              "      <td>44.0</td>\n",
              "      <td>0.0</td>\n",
              "      <td>0.0</td>\n",
              "      <td>0.0</td>\n",
              "      <td>0.0</td>\n",
              "      <td>0.0</td>\n",
              "      <td>0.0</td>\n",
              "      <td>1.0</td>\n",
              "      <td>0.0</td>\n",
              "      <td>0.0</td>\n",
              "      <td>0.0</td>\n",
              "      <td>0.0</td>\n",
              "      <td>1.0</td>\n",
              "      <td>0.0</td>\n",
              "      <td>0.0</td>\n",
              "      <td>1.0</td>\n",
              "      <td>0.0</td>\n",
              "      <td>0.0</td>\n",
              "      <td>0.0</td>\n",
              "      <td>0.0</td>\n",
              "      <td>0.0</td>\n",
              "      <td>0.0</td>\n",
              "      <td>0.0</td>\n",
              "      <td>0.0</td>\n",
              "      <td>0.0</td>\n",
              "      <td>0.0</td>\n",
              "      <td>0.0</td>\n",
              "      <td>0.0</td>\n",
              "      <td>0.0</td>\n",
              "      <td>0.0</td>\n",
              "      <td>0.0</td>\n",
              "      <td>0.0</td>\n",
              "      <td>0.0</td>\n",
              "      <td>0.0</td>\n",
              "      <td>0.0</td>\n",
              "      <td>0.0</td>\n",
              "      <td>0.0</td>\n",
              "      <td>0.0</td>\n",
              "      <td>...</td>\n",
              "      <td>0</td>\n",
              "      <td>0</td>\n",
              "      <td>0</td>\n",
              "      <td>0</td>\n",
              "      <td>1</td>\n",
              "      <td>0</td>\n",
              "      <td>0</td>\n",
              "      <td>0</td>\n",
              "      <td>0</td>\n",
              "      <td>0</td>\n",
              "      <td>0</td>\n",
              "      <td>0</td>\n",
              "      <td>0</td>\n",
              "      <td>0</td>\n",
              "      <td>0</td>\n",
              "      <td>0</td>\n",
              "      <td>0</td>\n",
              "      <td>0</td>\n",
              "      <td>0</td>\n",
              "      <td>0</td>\n",
              "      <td>0</td>\n",
              "      <td>0</td>\n",
              "      <td>0</td>\n",
              "      <td>0</td>\n",
              "      <td>0</td>\n",
              "      <td>0</td>\n",
              "      <td>0</td>\n",
              "      <td>0</td>\n",
              "      <td>0</td>\n",
              "      <td>0</td>\n",
              "      <td>0</td>\n",
              "      <td>0</td>\n",
              "      <td>0</td>\n",
              "      <td>0</td>\n",
              "      <td>0</td>\n",
              "      <td>0</td>\n",
              "      <td>0</td>\n",
              "      <td>0</td>\n",
              "      <td>0</td>\n",
              "      <td>0</td>\n",
              "    </tr>\n",
              "    <tr>\n",
              "      <th>5376</th>\n",
              "      <td>ZZ TOP: THAT LITTLE OL' BAND FROM TEXAS</td>\n",
              "      <td>2019.0</td>\n",
              "      <td>90.0</td>\n",
              "      <td>0.0</td>\n",
              "      <td>0.0</td>\n",
              "      <td>0.0</td>\n",
              "      <td>0.0</td>\n",
              "      <td>0.0</td>\n",
              "      <td>0.0</td>\n",
              "      <td>1.0</td>\n",
              "      <td>0.0</td>\n",
              "      <td>0.0</td>\n",
              "      <td>0.0</td>\n",
              "      <td>0.0</td>\n",
              "      <td>0.0</td>\n",
              "      <td>0.0</td>\n",
              "      <td>0.0</td>\n",
              "      <td>1.0</td>\n",
              "      <td>0.0</td>\n",
              "      <td>0.0</td>\n",
              "      <td>0.0</td>\n",
              "      <td>0.0</td>\n",
              "      <td>0.0</td>\n",
              "      <td>1.0</td>\n",
              "      <td>0.0</td>\n",
              "      <td>0.0</td>\n",
              "      <td>0.0</td>\n",
              "      <td>0.0</td>\n",
              "      <td>0.0</td>\n",
              "      <td>0.0</td>\n",
              "      <td>0.0</td>\n",
              "      <td>0.0</td>\n",
              "      <td>0.0</td>\n",
              "      <td>0.0</td>\n",
              "      <td>0.0</td>\n",
              "      <td>0.0</td>\n",
              "      <td>0.0</td>\n",
              "      <td>0.0</td>\n",
              "      <td>0.0</td>\n",
              "      <td>0.0</td>\n",
              "      <td>...</td>\n",
              "      <td>0</td>\n",
              "      <td>0</td>\n",
              "      <td>0</td>\n",
              "      <td>0</td>\n",
              "      <td>0</td>\n",
              "      <td>0</td>\n",
              "      <td>0</td>\n",
              "      <td>0</td>\n",
              "      <td>0</td>\n",
              "      <td>0</td>\n",
              "      <td>0</td>\n",
              "      <td>0</td>\n",
              "      <td>0</td>\n",
              "      <td>0</td>\n",
              "      <td>0</td>\n",
              "      <td>0</td>\n",
              "      <td>0</td>\n",
              "      <td>0</td>\n",
              "      <td>0</td>\n",
              "      <td>0</td>\n",
              "      <td>0</td>\n",
              "      <td>1</td>\n",
              "      <td>0</td>\n",
              "      <td>0</td>\n",
              "      <td>0</td>\n",
              "      <td>0</td>\n",
              "      <td>0</td>\n",
              "      <td>0</td>\n",
              "      <td>0</td>\n",
              "      <td>0</td>\n",
              "      <td>0</td>\n",
              "      <td>0</td>\n",
              "      <td>0</td>\n",
              "      <td>0</td>\n",
              "      <td>0</td>\n",
              "      <td>0</td>\n",
              "      <td>0</td>\n",
              "      <td>0</td>\n",
              "      <td>0</td>\n",
              "      <td>0</td>\n",
              "    </tr>\n",
              "    <tr>\n",
              "      <th>5377</th>\n",
              "      <td>NaN</td>\n",
              "      <td>NaN</td>\n",
              "      <td>NaN</td>\n",
              "      <td>NaN</td>\n",
              "      <td>NaN</td>\n",
              "      <td>NaN</td>\n",
              "      <td>NaN</td>\n",
              "      <td>NaN</td>\n",
              "      <td>NaN</td>\n",
              "      <td>NaN</td>\n",
              "      <td>NaN</td>\n",
              "      <td>NaN</td>\n",
              "      <td>NaN</td>\n",
              "      <td>NaN</td>\n",
              "      <td>NaN</td>\n",
              "      <td>NaN</td>\n",
              "      <td>NaN</td>\n",
              "      <td>NaN</td>\n",
              "      <td>NaN</td>\n",
              "      <td>NaN</td>\n",
              "      <td>NaN</td>\n",
              "      <td>NaN</td>\n",
              "      <td>NaN</td>\n",
              "      <td>NaN</td>\n",
              "      <td>NaN</td>\n",
              "      <td>NaN</td>\n",
              "      <td>NaN</td>\n",
              "      <td>NaN</td>\n",
              "      <td>NaN</td>\n",
              "      <td>NaN</td>\n",
              "      <td>NaN</td>\n",
              "      <td>NaN</td>\n",
              "      <td>NaN</td>\n",
              "      <td>NaN</td>\n",
              "      <td>NaN</td>\n",
              "      <td>NaN</td>\n",
              "      <td>NaN</td>\n",
              "      <td>NaN</td>\n",
              "      <td>NaN</td>\n",
              "      <td>NaN</td>\n",
              "      <td>...</td>\n",
              "      <td>1</td>\n",
              "      <td>1</td>\n",
              "      <td>1</td>\n",
              "      <td>1</td>\n",
              "      <td>1</td>\n",
              "      <td>1</td>\n",
              "      <td>1</td>\n",
              "      <td>1</td>\n",
              "      <td>1</td>\n",
              "      <td>1</td>\n",
              "      <td>1</td>\n",
              "      <td>1</td>\n",
              "      <td>1</td>\n",
              "      <td>1</td>\n",
              "      <td>1</td>\n",
              "      <td>1</td>\n",
              "      <td>1</td>\n",
              "      <td>1</td>\n",
              "      <td>1</td>\n",
              "      <td>1</td>\n",
              "      <td>1</td>\n",
              "      <td>1</td>\n",
              "      <td>1</td>\n",
              "      <td>1</td>\n",
              "      <td>1</td>\n",
              "      <td>1</td>\n",
              "      <td>1</td>\n",
              "      <td>1</td>\n",
              "      <td>1</td>\n",
              "      <td>1</td>\n",
              "      <td>1</td>\n",
              "      <td>1</td>\n",
              "      <td>1</td>\n",
              "      <td>1</td>\n",
              "      <td>1</td>\n",
              "      <td>1</td>\n",
              "      <td>1</td>\n",
              "      <td>1</td>\n",
              "      <td>1</td>\n",
              "      <td>1</td>\n",
              "    </tr>\n",
              "  </tbody>\n",
              "</table>\n",
              "<p>5378 rows × 223 columns</p>\n",
              "</div>"
            ],
            "text/plain": [
              "                                        title  release_year  ...  win  american\n",
              "0                                        7:19        2016.0  ...    0         0\n",
              "1                                       23:59        2011.0  ...    0         0\n",
              "2                                           9        2009.0  ...    0         0\n",
              "3                                          21        2008.0  ...    0         0\n",
              "4                                         122        2019.0  ...    0         0\n",
              "...                                       ...           ...  ...  ...       ...\n",
              "5373                                     Zozo        2005.0  ...    0         0\n",
              "5374                                   Zubaan        2015.0  ...    0         0\n",
              "5375                        Zulu Man in Japan        2019.0  ...    0         0\n",
              "5376  ZZ TOP: THAT LITTLE OL' BAND FROM TEXAS        2019.0  ...    0         0\n",
              "5377                                      NaN           NaN  ...    1         1\n",
              "\n",
              "[5378 rows x 223 columns]"
            ]
          },
          "metadata": {
            "tags": []
          },
          "execution_count": 59
        }
      ]
    },
    {
      "cell_type": "markdown",
      "metadata": {
        "id": "3Zsbb3nPaWBK"
      },
      "source": [
        "### **Feature Engineering**\n"
      ]
    },
    {
      "cell_type": "code",
      "metadata": {
        "id": "Jm4_5exRbOT1"
      },
      "source": [
        "# Remove punctuation\n",
        "movies = df\n",
        "data['description_processed'] = data['description'].map(lambda x: re.sub('[,\\.!?]', '', x))\n",
        "# Convert the titles to lowercase\n",
        "data['description_processed'] = data['description'].map(lambda x: x.lower())\n"
      ],
      "execution_count": 63,
      "outputs": []
    },
    {
      "cell_type": "code",
      "metadata": {
        "colab": {
          "base_uri": "https://localhost:8080/"
        },
        "id": "wXJa-kohcGO4",
        "outputId": "c849bd4f-2ac8-4a72-989b-f84900633ecb"
      },
      "source": [
        "#tokenize each sentence into a list of words, removing punctuations and unnecessary characters altogether.\n",
        "\n",
        "import gensim\n",
        "from gensim.utils import simple_preprocess\n",
        "def sent_to_words(sentences):\n",
        "    for sentence in sentences:\n",
        "        yield(gensim.utils.simple_preprocess(str(sentence), deacc=True))  # deacc=True removes punctuations\n",
        "data = data.description_processed.values.tolist()\n",
        "data_words = list(sent_to_words(data))\n",
        "print(data_words[:1][0][:30])\n",
        "len(data_words)"
      ],
      "execution_count": 66,
      "outputs": [
        {
          "output_type": "stream",
          "text": [
            "['after', 'devastating', 'earthquake', 'hits', 'mexico', 'city', 'trapped', 'survivors', 'from', 'all', 'walks', 'of', 'life', 'wait', 'to', 'be', 'rescued', 'while', 'trying', 'desperately', 'to', 'stay', 'alive']\n"
          ],
          "name": "stdout"
        },
        {
          "output_type": "execute_result",
          "data": {
            "text/plain": [
              "5377"
            ]
          },
          "metadata": {
            "tags": []
          },
          "execution_count": 66
        }
      ]
    },
    {
      "cell_type": "code",
      "metadata": {
        "colab": {
          "base_uri": "https://localhost:8080/"
        },
        "id": "5VcxCNdKcglW",
        "outputId": "625d68a7-38ed-4433-f71f-5241044852a7"
      },
      "source": [
        "# Build the bigram and trigram models\n",
        "bigram = gensim.models.Phrases(data_words, min_count=5, threshold=100) # higher threshold fewer phrases.\n",
        "trigram = gensim.models.Phrases(bigram[data_words], threshold=100)\n",
        "# Faster way to get a sentence clubbed as a trigram/bigram\n",
        "bigram_mod = gensim.models.phrases.Phraser(bigram)\n",
        "trigram_mod = gensim.models.phrases.Phraser(trigram)"
      ],
      "execution_count": 67,
      "outputs": [
        {
          "output_type": "stream",
          "text": [
            "/usr/local/lib/python3.7/dist-packages/gensim/models/phrases.py:598: UserWarning: For a faster implementation, use the gensim.models.phrases.Phraser class\n",
            "  warnings.warn(\"For a faster implementation, use the gensim.models.phrases.Phraser class\")\n"
          ],
          "name": "stderr"
        }
      ]
    },
    {
      "cell_type": "code",
      "metadata": {
        "colab": {
          "base_uri": "https://localhost:8080/"
        },
        "id": "CNULCdHocmsh",
        "outputId": "f0fefe44-f4e8-41eb-a248-c4fc681b89bc"
      },
      "source": [
        "# NLTK Stop words - Remove Stopwords, Make Bigrams and Lemmatize\n",
        "import nltk\n",
        "nltk.download('stopwords')\n",
        "from nltk.corpus import stopwords\n",
        "stop_words = stopwords.words('english')\n",
        "stop_words.extend(['from', 'subject', 're', 'edu', 'use'])\n",
        "# Define functions for stopwords, bigrams, trigrams and lemmatization\n",
        "def remove_stopwords(texts):\n",
        "    return [[word for word in simple_preprocess(str(doc)) if word not in stop_words] for doc in texts]\n",
        "def make_bigrams(texts):\n",
        "    return [bigram_mod[doc] for doc in texts]\n",
        "def make_trigrams(texts):\n",
        "    return [trigram_mod[bigram_mod[doc]] for doc in texts]\n",
        "def lemmatization(texts, allowed_postags=['NOUN', 'ADJ', 'VERB', 'ADV']):\n",
        "    \"\"\"https://spacy.io/api/annotation\"\"\"\n",
        "    texts_out = []\n",
        "    for sent in texts:\n",
        "        doc = nlp(\" \".join(sent)) \n",
        "        texts_out.append([token.lemma_ for token in doc if token.pos_ in allowed_postags])\n",
        "    return texts_out"
      ],
      "execution_count": 68,
      "outputs": [
        {
          "output_type": "stream",
          "text": [
            "[nltk_data] Downloading package stopwords to /root/nltk_data...\n",
            "[nltk_data]   Package stopwords is already up-to-date!\n"
          ],
          "name": "stdout"
        }
      ]
    },
    {
      "cell_type": "code",
      "metadata": {
        "colab": {
          "base_uri": "https://localhost:8080/"
        },
        "id": "uUX1O2wJcsAe",
        "outputId": "07673f80-f0e7-4aca-f358-c273c4130905"
      },
      "source": [
        "import spacy\n",
        "# Remove Stop Words\n",
        "data_words_nostops = remove_stopwords(data_words)\n",
        "# Form Bigrams\n",
        "data_words_bigrams = make_bigrams(data_words_nostops)\n",
        "# Initialize spacy 'en' model, keeping only tagger component (for efficiency)\n",
        "nlp = spacy.load(\"en_core_web_sm\", disable=['parser', 'ner'])\n",
        "# Do lemmatization keeping only noun, adj, vb, adv\n",
        "data_lemmatized = lemmatization(data_words_bigrams, allowed_postags=['NOUN', 'ADJ', 'VERB', 'ADV'])\n",
        "print(data_lemmatized[:1])"
      ],
      "execution_count": 69,
      "outputs": [
        {
          "output_type": "stream",
          "text": [
            "[['devastate', 'earthquake', 'hit', 'trap', 'survivor', 'walk', 'life', 'wait', 'rescue', 'try', 'desperately', 'stay', 'alive']]\n"
          ],
          "name": "stdout"
        }
      ]
    },
    {
      "cell_type": "code",
      "metadata": {
        "colab": {
          "base_uri": "https://localhost:8080/"
        },
        "id": "Lxw77jFMczL8",
        "outputId": "f03ac4a6-f296-40b2-bf14-58d954b9f941"
      },
      "source": [
        "import gensim.corpora as corpora\n",
        "# Create Dictionary\n",
        "id2word = corpora.Dictionary(data_lemmatized)\n",
        "# Create Corpus\n",
        "texts = data_lemmatized\n",
        "# Term Document Frequency\n",
        "corpus = [id2word.doc2bow(text) for text in texts]\n",
        "# View\n",
        "print(corpus[:1])"
      ],
      "execution_count": 70,
      "outputs": [
        {
          "output_type": "stream",
          "text": [
            "[[(0, 1), (1, 1), (2, 1), (3, 1), (4, 1), (5, 1), (6, 1), (7, 1), (8, 1), (9, 1), (10, 1), (11, 1), (12, 1)]]\n"
          ],
          "name": "stdout"
        }
      ]
    },
    {
      "cell_type": "markdown",
      "metadata": {
        "id": "E5wvfq0Beb9C"
      },
      "source": [
        "##**Topic** Modelling"
      ]
    },
    {
      "cell_type": "code",
      "metadata": {
        "id": "UE5eZTN-c0x4"
      },
      "source": [
        "# Build LDA model\n",
        "lda_model = gensim.models.LdaMulticore(corpus=corpus,\n",
        "                                       id2word=id2word,\n",
        "                                       num_topics=10, \n",
        "                                       random_state=100,\n",
        "                                       chunksize=100,\n",
        "                                       passes=10,\n",
        "                                       per_word_topics=True)"
      ],
      "execution_count": 71,
      "outputs": []
    },
    {
      "cell_type": "code",
      "metadata": {
        "colab": {
          "base_uri": "https://localhost:8080/"
        },
        "id": "yOAwhOQSc_Rj",
        "outputId": "61dd63d1-c2ab-4e46-e0aa-92f44ee502ee"
      },
      "source": [
        "from gensim.models import CoherenceModel\n",
        "# Compute Coherence Score\n",
        "coherence_model_lda = CoherenceModel(model=lda_model, texts=data_lemmatized, dictionary=id2word, coherence='c_v')\n",
        "coherence_lda = coherence_model_lda.get_coherence()\n",
        "print('\\nCoherence Score: ', coherence_lda)\n",
        "base_score = coherence_lda"
      ],
      "execution_count": 72,
      "outputs": [
        {
          "output_type": "stream",
          "text": [
            "\n",
            "Coherence Score:  0.2885334074415679\n"
          ],
          "name": "stdout"
        }
      ]
    },
    {
      "cell_type": "markdown",
      "metadata": {
        "id": "N367Akxbet_B"
      },
      "source": [
        "## **Tuning**"
      ]
    },
    {
      "cell_type": "code",
      "metadata": {
        "id": "2WDEWeCXdRsX"
      },
      "source": [
        "import numpy as np\n",
        "import tqdm\n",
        "grid = {}\n",
        "grid['Validation_Set'] = {}\n",
        "# Topics range\n",
        "min_topics = 2\n",
        "max_topics = 11\n",
        "step_size = 1\n",
        "topics_range = range(min_topics, max_topics, step_size)\n",
        "# Alpha parameter\n",
        "alpha = list(np.arange(0.01, 1, 0.3))\n",
        "alpha.append('symmetric')\n",
        "alpha.append('asymmetric')\n",
        "# Beta parameter\n",
        "beta = list(np.arange(0.01, 1, 0.3))\n",
        "beta.append('symmetric')\n",
        "# Validation sets\n",
        "num_of_docs = len(corpus)\n",
        "corpus_sets = [# gensim.utils.ClippedCorpus(corpus, num_of_docs*0.25), \n",
        "               # gensim.utils.ClippedCorpus(corpus, num_of_docs*0.5), \n",
        "               gensim.utils.ClippedCorpus(corpus, int(num_of_docs*0.75)), \n",
        "               corpus]\n",
        "corpus_title = ['75% Corpus', '100% Corpus']\n",
        "model_results = {'Validation_Set': [],\n",
        "                 'Topics': [],\n",
        "                 'Alpha': [],\n",
        "                 'Beta': [],\n",
        "                 'Coherence': []\n",
        "                }\n",
        "# Can take a long time to run\n",
        "if 1 == 1:\n",
        "    pbar = tqdm.tqdm(total=540)\n",
        "    \n",
        "    # iterate through validation corpuses\n",
        "    for i in range(len(corpus_sets)):\n",
        "        # iterate through number of topics\n",
        "        for k in topics_range:\n",
        "            # iterate through alpha values\n",
        "            for a in alpha:\n",
        "                # iterare through beta values\n",
        "                for b in beta:\n",
        "                    # get the coherence score for the given parameters\n",
        "                    cv = compute_coherence_values(corpus=corpus_sets[i], dictionary=id2word, \n",
        "                                                  k=k, a=a, b=b)\n",
        "                    # Save the model results\n",
        "                    model_results['Validation_Set'].append(corpus_title[i])\n",
        "                    model_results['Topics'].append(k)\n",
        "                    model_results['Alpha'].append(a)\n",
        "                    model_results['Beta'].append(b)\n",
        "                    model_results['Coherence'].append(cv)\n",
        "                    \n",
        "                    pbar.update(1)\n",
        "    pd.DataFrame(model_results).to_csv('lda_tuning_results.csv', index=False)\n",
        "    pbar.close()"
      ],
      "execution_count": null,
      "outputs": []
    },
    {
      "cell_type": "code",
      "metadata": {
        "id": "FbggKTA1dXAL"
      },
      "source": [
        "lda_model = gensim.models.LdaMulticore(corpus=corpus,\n",
        "                                           id2word=id2word,\n",
        "                                           num_topics=10, \n",
        "                                           random_state=100,\n",
        "                                           chunksize=100,\n",
        "                                           passes=20,\n",
        "                                           alpha= 'asymmetric')"
      ],
      "execution_count": 73,
      "outputs": []
    },
    {
      "cell_type": "code",
      "metadata": {
        "colab": {
          "base_uri": "https://localhost:8080/"
        },
        "id": "5j_K6btqdgYa",
        "outputId": "623bec51-8a43-43c4-f762-a5406254b148"
      },
      "source": [
        "coherence_model_lda = CoherenceModel(model=lda_model, texts=data_lemmatized, dictionary=id2word, coherence='c_v')\n",
        "coherence_lda = coherence_model_lda.get_coherence()\n",
        "print('\\nCoherence Score: ', coherence_lda)\n",
        "Final_model = coherence_lda\n",
        "Improvement = ((Final_model) - (base_score))/ (base_score)\n",
        "Improvement"
      ],
      "execution_count": 74,
      "outputs": [
        {
          "output_type": "stream",
          "text": [
            "\n",
            "Coherence Score:  0.44659450575184473\n"
          ],
          "name": "stdout"
        },
        {
          "output_type": "execute_result",
          "data": {
            "text/plain": [
              "0.5478086565843728"
            ]
          },
          "metadata": {
            "tags": []
          },
          "execution_count": 74
        }
      ]
    },
    {
      "cell_type": "code",
      "metadata": {
        "colab": {
          "base_uri": "https://localhost:8080/"
        },
        "id": "k83APshheSnx",
        "outputId": "c0d72859-fd2c-4355-abcf-f9af7ed264cf"
      },
      "source": [
        "# Verify topic words\n",
        "\n",
        "from pprint import pprint\n",
        "# Print the Keyword in the 10 topics\n",
        "pprint(lda_model.print_topics())\n",
        "doc_lda = lda_model[corpus]"
      ],
      "execution_count": 76,
      "outputs": [
        {
          "output_type": "stream",
          "text": [
            "[(0,\n",
            "  '0.015*\"new\" + 0.014*\"life\" + 0.013*\"struggle\" + 0.013*\"take\" + '\n",
            "  '0.013*\"family\" + 0.013*\"find\" + 0.012*\"work\" + 0.010*\"turn\" + 0.009*\"look\" '\n",
            "  '+ 0.009*\"friend\"'),\n",
            " (1,\n",
            "  '0.033*\"young\" + 0.023*\"woman\" + 0.020*\"man\" + 0.019*\"life\" + 0.017*\"love\" + '\n",
            "  '0.017*\"family\" + 0.015*\"find\" + 0.013*\"fall\" + 0.010*\"meet\" + 0.010*\"soon\"'),\n",
            " (2,\n",
            "  '0.033*\"old\" + 0.027*\"relationship\" + 0.021*\"get\" + 0.020*\"teen\" + '\n",
            "  '0.016*\"girl\" + 0.012*\"help\" + 0.011*\"cop\" + 0.010*\"find\" + 0.010*\"violent\" '\n",
            "  '+ 0.010*\"dark\"'),\n",
            " (3,\n",
            "  '0.022*\"team\" + 0.020*\"first\" + 0.014*\"may\" + 0.014*\"end\" + 0.012*\"plan\" + '\n",
            "  '0.011*\"adventure\" + 0.011*\"save\" + 0.011*\"dangerous\" + 0.011*\"way\" + '\n",
            "  '0.010*\"time\"'),\n",
            " (4,\n",
            "  '0.021*\"documentary\" + 0.016*\"film\" + 0.015*\"father\" + 0.012*\"base\" + '\n",
            "  '0.012*\"special\" + 0.011*\"track\" + 0.011*\"comedy\" + 0.011*\"hire\" + '\n",
            "  '0.010*\"age\" + 0.010*\"late\"'),\n",
            " (5,\n",
            "  '0.019*\"face\" + 0.016*\"village\" + 0.015*\"reality\" + 0.015*\"doctor\" + '\n",
            "  '0.014*\"story\" + 0.011*\"show\" + 0.010*\"different\" + 0.010*\"challenge\" + '\n",
            "  '0.009*\"dance\" + 0.009*\"fear\"'),\n",
            " (6,\n",
            "  '0.024*\"come\" + 0.020*\"dream\" + 0.018*\"travel\" + 0.018*\"student\" + '\n",
            "  '0.015*\"long\" + 0.014*\"true\" + 0.013*\"test\" + 0.012*\"war\" + 0.011*\"try\" + '\n",
            "  '0.011*\"last\"'),\n",
            " (7,\n",
            "  '0.015*\"rise\" + 0.014*\"protect\" + 0.013*\"street\" + 0.012*\"tour\" + '\n",
            "  '0.012*\"include\" + 0.011*\"wealthy\" + 0.010*\"land\" + 0.010*\"never\" + '\n",
            "  '0.010*\"call\" + 0.009*\"creature\"'),\n",
            " (8,\n",
            "  '0.015*\"law\" + 0.015*\"join\" + 0.014*\"care\" + 0.014*\"send\" + 0.012*\"capture\" '\n",
            "  '+ 0.011*\"sister\" + 0.011*\"kid\" + 0.010*\"boyfriend\" + 0.010*\"romance\" + '\n",
            "  '0.010*\"notorious\"'),\n",
            " (9,\n",
            "  '0.017*\"stand\" + 0.013*\"take\" + 0.012*\"trouble\" + 0.011*\"life\" + '\n",
            "  '0.009*\"experience\" + 0.009*\"special\" + 0.009*\"scientist\" + 0.009*\"crew\" + '\n",
            "  '0.008*\"name\" + 0.007*\"different\"')]\n"
          ],
          "name": "stdout"
        }
      ]
    },
    {
      "cell_type": "markdown",
      "metadata": {
        "id": "f9lwqQkYfbx2"
      },
      "source": [
        "### **LDA** Model Analysis"
      ]
    },
    {
      "cell_type": "code",
      "metadata": {
        "colab": {
          "base_uri": "https://localhost:8080/",
          "height": 1000
        },
        "id": "SPavhAkDfBHV",
        "outputId": "30bce31c-70a5-4174-8bf7-69dce9dc204c"
      },
      "source": [
        "!pip install pyLDAvis\n",
        "import pyLDAvis\n",
        "import pyLDAvis.gensim_models as gensimvis\n",
        "vis_data = gensimvis.prepare(lda_model, corpus, id2word)\n",
        "pyLDAvis.display(vis_data)"
      ],
      "execution_count": 78,
      "outputs": [
        {
          "output_type": "stream",
          "text": [
            "Requirement already satisfied: pyLDAvis in /usr/local/lib/python3.7/dist-packages (3.3.1)\n",
            "Requirement already satisfied: gensim in /usr/local/lib/python3.7/dist-packages (from pyLDAvis) (3.6.0)\n",
            "Requirement already satisfied: scipy in /usr/local/lib/python3.7/dist-packages (from pyLDAvis) (1.4.1)\n",
            "Requirement already satisfied: funcy in /usr/local/lib/python3.7/dist-packages (from pyLDAvis) (1.16)\n",
            "Requirement already satisfied: jinja2 in /usr/local/lib/python3.7/dist-packages (from pyLDAvis) (2.11.3)\n",
            "Requirement already satisfied: numpy>=1.20.0 in /usr/local/lib/python3.7/dist-packages (from pyLDAvis) (1.20.3)\n",
            "Requirement already satisfied: scikit-learn in /usr/local/lib/python3.7/dist-packages (from pyLDAvis) (0.22.2.post1)\n",
            "Requirement already satisfied: setuptools in /usr/local/lib/python3.7/dist-packages (from pyLDAvis) (57.0.0)\n",
            "Requirement already satisfied: numexpr in /usr/local/lib/python3.7/dist-packages (from pyLDAvis) (2.7.3)\n",
            "Requirement already satisfied: sklearn in /usr/local/lib/python3.7/dist-packages (from pyLDAvis) (0.0)\n",
            "Requirement already satisfied: pandas>=1.2.0 in /usr/local/lib/python3.7/dist-packages (from pyLDAvis) (1.2.4)\n",
            "Requirement already satisfied: joblib in /usr/local/lib/python3.7/dist-packages (from pyLDAvis) (1.0.1)\n",
            "Requirement already satisfied: future in /usr/local/lib/python3.7/dist-packages (from pyLDAvis) (0.16.0)\n",
            "Requirement already satisfied: six>=1.5.0 in /usr/local/lib/python3.7/dist-packages (from gensim->pyLDAvis) (1.15.0)\n",
            "Requirement already satisfied: smart-open>=1.2.1 in /usr/local/lib/python3.7/dist-packages (from gensim->pyLDAvis) (5.1.0)\n",
            "Requirement already satisfied: MarkupSafe>=0.23 in /usr/local/lib/python3.7/dist-packages (from jinja2->pyLDAvis) (2.0.1)\n",
            "Requirement already satisfied: pytz>=2017.3 in /usr/local/lib/python3.7/dist-packages (from pandas>=1.2.0->pyLDAvis) (2018.9)\n",
            "Requirement already satisfied: python-dateutil>=2.7.3 in /usr/local/lib/python3.7/dist-packages (from pandas>=1.2.0->pyLDAvis) (2.8.1)\n"
          ],
          "name": "stdout"
        },
        {
          "output_type": "execute_result",
          "data": {
            "text/html": [
              "\n",
              "<link rel=\"stylesheet\" type=\"text/css\" href=\"https://cdn.jsdelivr.net/gh/bmabey/pyLDAvis@3.3.1/pyLDAvis/js/ldavis.v1.0.0.css\">\n",
              "\n",
              "\n",
              "<div id=\"ldavis_el611400423261582888479719930\"></div>\n",
              "<script type=\"text/javascript\">\n",
              "\n",
              "var ldavis_el611400423261582888479719930_data = {\"mdsDat\": {\"x\": [-0.2824683911967517, -0.2796819469781277, 0.11177384567907872, -0.015929340649867688, -0.007299289374787896, 0.07311782219695588, 0.03454969536634732, 0.10268503081568987, 0.1402900677923889, 0.12296250634907537], \"y\": [0.051674986245432576, 0.03231206287064976, 0.26825614991807684, -0.1979555760666115, -0.10818830600654766, -0.11350977149090628, 0.10581074711222618, 0.01990760534982247, -0.03024313414135868, -0.02806476379078386], \"topics\": [1, 2, 3, 4, 5, 6, 7, 8, 9, 10], \"cluster\": [1, 1, 1, 1, 1, 1, 1, 1, 1, 1], \"Freq\": [22.098146503051275, 20.24203839912115, 9.118786570193569, 8.630764036493458, 7.79220278062967, 7.6506521487380255, 7.127631387221496, 6.807689582877958, 5.549404792668189, 4.982683799005209]}, \"tinfo\": {\"Term\": [\"young\", \"old\", \"documentary\", \"woman\", \"get\", \"man\", \"life\", \"relationship\", \"family\", \"girl\", \"come\", \"team\", \"love\", \"teen\", \"struggle\", \"face\", \"first\", \"fall\", \"film\", \"work\", \"new\", \"dream\", \"stand\", \"find\", \"help\", \"student\", \"travel\", \"become\", \"take\", \"story\", \"struggle\", \"work\", \"look\", \"group\", \"run\", \"former\", \"local\", \"create\", \"hit\", \"government\", \"game\", \"artist\", \"good\", \"deadly\", \"history\", \"power\", \"agent\", \"bond\", \"train\", \"play\", \"know\", \"escape\", \"writer\", \"detective\", \"activist\", \"clash\", \"target\", \"letter\", \"stranger\", \"investigate\", \"bring\", \"city\", \"force\", \"school\", \"career\", \"new\", \"together\", \"turn\", \"fight\", \"secret\", \"seek\", \"take\", \"documentary\", \"life\", \"family\", \"go\", \"find\", \"friend\", \"world\", \"become\", \"murder\", \"man\", \"live\", \"must\", \"fall\", \"soon\", \"mother\", \"couple\", \"marriage\", \"wife\", \"parent\", \"threaten\", \"crime\", \"husband\", \"miss\", \"marry\", \"country\", \"put\", \"wedding\", \"political\", \"trip\", \"rich\", \"past\", \"raise\", \"accident\", \"host\", \"hotel\", \"hide\", \"prove\", \"car\", \"memory\", \"sibling\", \"orphan\", \"social\", \"young\", \"death\", \"lose\", \"attempt\", \"love\", \"job\", \"meet\", \"woman\", \"criminal\", \"man\", \"child\", \"move\", \"life\", \"year\", \"family\", \"girl\", \"keep\", \"find\", \"daughter\", \"home\", \"leave\", \"get\", \"become\", \"must\", \"boy\", \"live\", \"son\", \"set\", \"take\", \"turn\", \"trouble\", \"experience\", \"scientist\", \"crew\", \"name\", \"involve\", \"part\", \"spy\", \"traditional\", \"eye\", \"view\", \"throw\", \"vow\", \"match\", \"twin\", \"heist\", \"say\", \"befriend\", \"fame\", \"bank\", \"pass\", \"seemingly\", \"ever\", \"next\", \"fortune\", \"role\", \"forever\", \"present\", \"complete\", \"rapper\", \"stand\", \"spirit\", \"stage\", \"reflect\", \"special\", \"different\", \"take\", \"life\", \"tell\", \"team\", \"first\", \"end\", \"adventure\", \"dangerous\", \"survive\", \"head\", \"killer\", \"feature\", \"break\", \"close\", \"risk\", \"race\", \"still\", \"human\", \"need\", \"hunt\", \"step\", \"intimate\", \"enemy\", \"hatch\", \"rush\", \"free\", \"massive\", \"holiday\", \"champion\", \"finally\", \"cash\", \"song\", \"public\", \"may\", \"battle\", \"plan\", \"save\", \"way\", \"thing\", \"time\", \"win\", \"big\", \"get\", \"friend\", \"become\", \"help\", \"new\", \"find\", \"must\", \"teen\", \"make\", \"old\", \"relationship\", \"violent\", \"dark\", \"magical\", \"suspect\", \"powerful\", \"feeling\", \"rule\", \"agree\", \"place\", \"issue\", \"teenage\", \"desperate\", \"undercover\", \"develop\", \"justice\", \"catch\", \"poor\", \"community\", \"bubble\", \"horse\", \"friendship\", \"magic\", \"thriller\", \"stay\", \"path\", \"bumble\", \"bear\", \"nominate\", \"teen\", \"cop\", \"girlfriend\", \"get\", \"girl\", \"help\", \"secret\", \"find\", \"take\", \"try\", \"come\", \"dream\", \"travel\", \"true\", \"test\", \"war\", \"last\", \"filmmaker\", \"grow\", \"arrive\", \"college\", \"owner\", \"aspire\", \"romantic\", \"order\", \"tear\", \"reporter\", \"soldier\", \"gang\", \"pursue\", \"ambitious\", \"self\", \"skill\", \"think\", \"successful\", \"receive\", \"global\", \"voice\", \"prepare\", \"pie\", \"long\", \"student\", \"try\", \"time\", \"story\", \"make\", \"father\", \"track\", \"comedy\", \"hire\", \"age\", \"late\", \"partner\", \"player\", \"politic\", \"scheme\", \"female\", \"conflict\", \"pay\", \"unlikely\", \"sport\", \"examine\", \"private\", \"society\", \"gift\", \"suicide\", \"determined\", \"confront\", \"heir\", \"spend\", \"black\", \"fire\", \"uncover\", \"driver\", \"touch\", \"bitter\", \"business\", \"base\", \"film\", \"documentary\", \"special\", \"reveal\", \"money\", \"family\", \"plot\", \"follow\", \"woman\", \"stand\", \"time\", \"plan\", \"world\", \"village\", \"reality\", \"doctor\", \"dance\", \"fear\", \"vacation\", \"remote\", \"childhood\", \"tv\", \"member\", \"officer\", \"earth\", \"mind\", \"loom\", \"victim\", \"body\", \"pressure\", \"french\", \"master\", \"strand\", \"neighborhood\", \"would\", \"troubled\", \"act\", \"competition\", \"separate\", \"coach\", \"documentary_explore\", \"embark\", \"station\", \"challenge\", \"face\", \"high\", \"story\", \"different\", \"show\", \"short\", \"explore\", \"music\", \"share\", \"rise\", \"protect\", \"street\", \"tour\", \"include\", \"wealthy\", \"land\", \"never\", \"call\", \"creature\", \"tale\", \"fighter\", \"full\", \"build\", \"action\", \"hand\", \"goal\", \"cancer\", \"modern\", \"iconic\", \"farmer\", \"early\", \"fellow\", \"recover\", \"strike\", \"combat\", \"enter\", \"adaptation\", \"army\", \"result\", \"student\", \"make\", \"drama\", \"law\", \"join\", \"care\", \"kid\", \"boyfriend\", \"notorious\", \"band\", \"hold\", \"other\", \"write\", \"sinister\", \"course\", \"debt\", \"score\", \"sound\", \"celebrity\", \"nightmare\", \"speak\", \"ballet\", \"island\", \"veteran\", \"lesson\", \"high_school\", \"far\", \"machine\", \"restore\", \"possibility\", \"walk\", \"teach\", \"obsession\", \"send\", \"romance\", \"capture\", \"haunt\", \"sister\", \"back\", \"plan\"], \"Freq\": [462.0, 147.0, 205.0, 379.0, 253.0, 334.0, 467.0, 122.0, 396.0, 185.0, 107.0, 112.0, 242.0, 127.0, 170.0, 147.0, 100.0, 156.0, 128.0, 159.0, 308.0, 88.0, 116.0, 432.0, 172.0, 124.0, 81.0, 266.0, 376.0, 123.0, 169.44247762880082, 158.76819319504102, 121.36704562832087, 117.09641590717763, 100.76107415354092, 98.28062712160826, 80.30802896268298, 74.8351046641145, 64.58067727065031, 63.935936002658615, 63.617471265171595, 60.98515939905521, 60.01063523850206, 57.42924910701987, 57.147982815978764, 56.423841529643475, 55.591486038810906, 54.80917372889756, 54.759798426465345, 52.639701654276216, 52.387237622987236, 50.83167706834134, 48.64490276666601, 47.51863601754505, 45.12348362792389, 44.805779198535916, 44.75276336202944, 43.8676752867273, 43.77153060060234, 42.827827243264274, 92.37308686082152, 78.8429301638217, 107.89702184795469, 79.65251219088753, 81.50287550233796, 187.8657148704317, 79.79646982084118, 125.26507071212416, 85.69177955683463, 91.78754825014227, 71.90508596241527, 168.34447346976165, 116.06979126143725, 181.7629632690144, 164.43201744007843, 94.22363503149602, 161.7598356135681, 117.18225021915943, 103.92661543312214, 108.57997530652436, 76.44569363552905, 95.68220412550664, 80.62802027956887, 80.58464395711815, 155.35452657256832, 114.03135473575101, 111.34046961439353, 106.58692179154133, 88.37197843052404, 87.26631024896274, 74.6341945241941, 67.98277153103946, 67.31485436876173, 62.97590821630711, 61.807062741396244, 60.592677832397946, 57.74241834755609, 54.02179141309303, 49.97124528953951, 49.661170740492196, 45.36194391093152, 45.243935762433864, 44.505811289813586, 38.86418168547673, 38.257723914183146, 37.39479069387619, 37.1654848676469, 37.002759365526025, 35.019507998175875, 33.93249640017288, 32.65341567045591, 32.35840349270476, 32.29850359655473, 32.131192469518844, 392.4330498495655, 92.85039968313322, 78.47432082288061, 49.30218103824194, 197.87043064755238, 59.23557320001755, 117.96475575873608, 273.83971115727473, 59.173493834729825, 238.35295010269087, 109.08243034117766, 82.29917991294599, 228.4079941911296, 91.89007860504229, 193.7412597651822, 112.71580749986063, 73.63085214553071, 171.0781892263367, 80.84084740572952, 103.2871618184556, 89.47794704016196, 107.55755574615344, 108.24871511690448, 103.83057612345195, 75.45039206043579, 85.82265501887147, 75.92398688042486, 83.37788057788384, 84.190849877884, 79.79407405184372, 65.9596769401835, 49.62118494695289, 47.999133381094666, 46.89893958986696, 40.61673668050875, 36.290203631246946, 32.66835673322251, 31.527728536627258, 30.165281995493757, 26.88840219146135, 26.705950303658135, 26.581553973659, 26.422385334613555, 26.06360134759945, 25.598674585784387, 25.008096531291425, 24.36787609036437, 23.10049174179168, 22.944440823754068, 22.86167480473401, 22.134052365008877, 22.099993662191675, 21.846663450860774, 21.255891000188157, 20.69792228965398, 20.576067874257124, 20.488154047543, 20.349849778209794, 20.280392515362475, 20.133687378214955, 89.03973985813381, 27.489197118586134, 32.60420353322632, 25.192984523118124, 49.20659941353421, 38.72674566131212, 69.62650071633038, 56.91406835858704, 23.901598398136283, 112.16481277210198, 99.60153124429642, 68.11469978041025, 56.898550155349305, 55.68516443464624, 49.89493247396278, 47.46782099594296, 44.80704380984902, 43.30649018182659, 39.36117112008699, 37.664206754351206, 37.35578655867588, 36.92305969051592, 36.565986310867345, 30.898784720858227, 30.772959528701467, 30.322264287427394, 29.04273212928899, 28.30214402975019, 28.239276849520895, 24.91884726500134, 24.831050277148798, 24.213084970151478, 23.17690257652379, 23.155293948428824, 21.73461166033835, 21.66907309657544, 21.28247941501873, 20.99747982336615, 20.971392493845595, 69.8604384390502, 39.07991426020296, 58.37996391425291, 56.379994319464004, 54.695350458429914, 39.83140449254113, 52.247398928222786, 31.587983040388906, 36.7141444556866, 50.61164581098795, 48.65845221174326, 48.70344417957453, 43.586526636329964, 42.791823805837666, 45.02541252834264, 40.88916523703106, 36.97759131567387, 37.150539527042255, 147.2113941723875, 121.86443734400666, 43.79768594912929, 43.06419431074876, 41.76344037331979, 39.931914940024626, 38.678716379152625, 38.55148850446409, 36.363049624669685, 36.01051406524118, 33.73626481394372, 33.71071662570675, 32.68650342704192, 30.133175440008962, 29.83176990075906, 29.67437834209857, 29.653266917415515, 28.45870512832754, 27.906954679865446, 27.434216471830688, 25.740487241954835, 22.932221980021655, 22.578969389137285, 22.358662000004518, 20.892448322987878, 20.873031699927786, 20.40645659804303, 19.936369934482904, 19.796115637890832, 19.70619652895443, 90.18781279470683, 51.64739306908055, 37.99428146765015, 95.00406892641439, 72.01489656530549, 56.2930924399423, 41.490480586371916, 47.1636166433526, 34.466190219628785, 27.626946536788328, 106.94725463182326, 87.78976646013642, 80.56969466462301, 61.36927657289865, 57.231649010931505, 53.28151416888976, 47.95609825955343, 45.58616600077652, 44.66628810177854, 43.7115071909428, 43.6628296082437, 39.347049278176186, 38.312098382974874, 37.76962555767803, 37.55593390126729, 36.80533953229709, 35.38248747252848, 34.832821810768685, 32.77486541410161, 32.34523382375195, 30.798146365879145, 27.796592639065146, 26.107917374801357, 25.604546823502346, 23.445430325271406, 23.103557946278645, 22.792878611522063, 22.10892327106834, 21.945441081586168, 21.873560201238625, 65.41392991061984, 77.6517401131519, 48.84383962227631, 31.455908963449527, 27.25559182651173, 25.991463205350687, 63.66817385168968, 46.527595382439536, 45.77821318933453, 43.57290834304045, 42.150121964273794, 41.97448124522889, 39.3693291999229, 36.76575049293115, 31.814477898811145, 31.26782361726851, 28.711573927267246, 27.19843792261724, 25.633164409796333, 25.577228193592912, 22.84394909229384, 22.583369261641778, 22.410278966318955, 22.315880590861706, 22.16467662399562, 22.070637923678664, 21.190459000277215, 20.961522888385165, 20.85472052907894, 20.46997006897703, 20.171835922206, 19.17187940689712, 19.02241611383834, 18.804829964528516, 16.353993941580576, 15.946013660586127, 41.34603068191461, 50.88078014995481, 66.61119741488156, 88.46556671583384, 48.017000521416, 29.581849282233534, 24.16974628055525, 38.1100546020477, 23.89486792052913, 28.898251095269423, 31.09066149161412, 26.86876007370275, 24.24345660355792, 23.774721036499045, 24.248036210558137, 64.33088529670674, 59.76714340842307, 57.59480532646779, 37.38986110129304, 36.45725190115423, 35.98614155226757, 35.72031897816327, 35.35576912847145, 34.66919736682462, 32.44770323484941, 31.793900948509233, 31.05333064682631, 29.960415921729037, 29.303988476726833, 29.125356441752718, 27.27571814687232, 24.95801351143485, 24.944323740721476, 24.42254911559969, 24.244155898418487, 22.845859350351937, 22.44273859004579, 21.640338361779392, 20.663582774091857, 19.76961245578536, 19.209435929564222, 19.036945185987697, 18.972278838848474, 18.7497778123774, 18.15548340884966, 38.02944821777545, 73.26905637177722, 28.16984277821424, 53.66910007607258, 41.17347343902882, 44.134781003989424, 26.373831937260952, 28.828414072172766, 26.59570468923069, 27.639367837190875, 48.782980545075304, 45.09697729761962, 40.350877108198176, 39.97986579092455, 39.021860156168465, 34.62993327160733, 33.67561151363324, 31.842592297478074, 31.287222414907074, 30.397212759485672, 27.940150806503908, 27.706607993634222, 24.612849336830784, 24.54760578250639, 22.230116336724784, 22.134360998077963, 21.23003663608782, 19.51671795766245, 18.840996120125816, 18.282367653864725, 17.899711691933867, 17.4088785385486, 17.04410435411929, 16.299911826296796, 16.027760187738725, 15.61457746637657, 14.963518135637775, 14.934848289706347, 15.17365635085469, 14.733516936015821, 18.73532576189623, 15.706491689598261, 15.004069232946586, 44.13539205782012, 43.04893848695081, 40.449379716696605, 31.225076634567028, 30.262622995893683, 28.3398697370174, 26.53403046942631, 26.19202289256434, 24.755281816155925, 23.70832396223403, 22.695037101156046, 22.25410199061103, 21.974326992328553, 21.59645541130854, 21.418153238197547, 19.417092937062794, 19.34740600242841, 18.96861876187135, 19.009434857182022, 17.887162997902486, 17.515227741193865, 17.205418841180116, 16.768832105000456, 16.349724919454562, 15.371770953111518, 15.220575529291047, 14.788741886302953, 14.660353242317099, 13.574091946504764, 13.1576040043923, 40.28865659319992, 29.674151065933923, 33.53650249217417, 21.211941601047695, 32.59618065376482, 19.513871830598703, 16.988498962395855], \"Total\": [462.0, 147.0, 205.0, 379.0, 253.0, 334.0, 467.0, 122.0, 396.0, 185.0, 107.0, 112.0, 242.0, 127.0, 170.0, 147.0, 100.0, 156.0, 128.0, 159.0, 308.0, 88.0, 116.0, 432.0, 172.0, 124.0, 81.0, 266.0, 376.0, 123.0, 170.2100651062968, 159.53579253952702, 122.13471438111544, 117.86400230660905, 101.52863012174966, 99.0481553921129, 81.07566473543719, 75.60274424825089, 65.34821201101262, 64.70363974511122, 64.3850324708801, 61.75300312362363, 60.77816586814418, 58.19683454840069, 57.915571561259426, 57.19140821666339, 56.35899007900359, 55.576737408855976, 55.52737125544071, 53.407290619524304, 53.15475181411503, 51.59921932962375, 49.41244273419824, 48.28620922405048, 45.89115171941004, 45.57348257239852, 45.52032767541765, 44.63536654699055, 44.53920585524224, 43.595381842670676, 104.97258389185369, 88.30570317327411, 132.78170243973656, 94.78257571377007, 99.69700603197815, 308.6546170394861, 102.54844477411731, 205.73761507298448, 116.56949906259678, 133.953803039013, 89.50617147702098, 376.89997783516503, 205.2202232435923, 467.6747430262458, 396.8790627977673, 144.8142161409455, 432.76487074426285, 245.8389263580418, 192.10076933153752, 266.4425430073096, 121.07482109057702, 334.71360360746394, 179.43910309051427, 244.84921179749756, 156.12550864099867, 114.80239338347747, 112.11143701599124, 107.35789728682643, 89.14298643433116, 88.03725340476585, 75.40523234672004, 68.75387088822615, 68.08585035240401, 63.74690769731141, 62.57812235127931, 61.36367765557751, 58.51343290613326, 54.79281084680467, 50.74218817376613, 50.43226053076907, 46.132960220618024, 46.015005894675156, 45.27678107542962, 39.63518724624552, 39.028764886541396, 38.1658521793117, 37.936825559519015, 37.773809217907726, 35.79052261819014, 34.703670279856645, 33.424519183731086, 33.12940585227682, 33.06965516848025, 32.90227839228278, 462.4748824183211, 101.47769362609405, 86.53570552406981, 52.53179764136205, 242.4903750971289, 64.51158320567288, 140.8928525126405, 379.75327047841614, 65.02109461236883, 334.71360360746394, 140.01371605896495, 100.15808233565824, 467.6747430262458, 129.7216390708473, 396.8790627977673, 185.40991928529567, 95.14951947098436, 432.76487074426285, 114.04797814809864, 181.91219099447, 150.99297057088617, 253.76462982596655, 266.4425430073096, 244.84921179749756, 106.07004323784179, 179.43910309051427, 111.7908769310547, 183.06512617786245, 376.89997783516503, 205.73761507298448, 66.73111812859038, 50.39256232321695, 48.77048017567163, 47.67041812477573, 41.388049644089804, 37.06158286564129, 33.43991005033382, 32.299075144810224, 30.936867368842226, 27.659751424986634, 27.47730752832108, 27.352844747413425, 27.193923624176833, 26.835110252265803, 26.370098074216703, 25.779438722420746, 25.139350737262344, 23.871829122507798, 23.715793964428276, 23.633195512356984, 22.90541530394345, 22.871294163310303, 22.61795469230757, 22.02722132559878, 21.469291329308323, 21.347423081706935, 21.259564531184996, 21.121178045287184, 21.0521173454842, 20.90626921926291, 116.5971600181925, 30.38347477751608, 39.58298894564044, 29.579499601461457, 97.91219150744693, 80.58293552971581, 376.89997783516503, 467.6747430262458, 51.14378126892027, 112.93574033412663, 100.37249761717794, 68.88568234411524, 57.66956259155661, 56.45620804752663, 50.6659678391164, 48.238808072785524, 45.57804356906647, 44.07757980463884, 40.13211842638858, 38.435227890216474, 38.126749537257304, 37.693998443857865, 37.336935064114755, 31.669715704544963, 31.54393548322979, 31.093263668703198, 29.813684134965094, 29.073204355242886, 29.010278350834607, 25.690070494241446, 25.60211702034101, 24.984100913977738, 23.947967958252285, 23.926233838818778, 22.50577820989133, 22.440097750995008, 22.053477520338458, 21.768530725802908, 21.7424849350724, 74.29985891207657, 51.91883751033599, 99.75638285547824, 107.78848333288451, 108.44094619101627, 63.23830245179718, 108.55343238699403, 49.53300607262856, 80.82947900452572, 253.76462982596655, 245.8389263580418, 266.4425430073096, 172.7370125099452, 308.6546170394861, 432.76487074426285, 244.84921179749756, 127.84461696711277, 136.9574899127318, 147.97965085471674, 122.63271499494229, 44.56593891544869, 43.83243827199815, 42.531737001598366, 40.700175413779675, 39.44698766392486, 39.31980494831262, 37.1313427567308, 36.77877250819709, 34.50457074634975, 34.47908556291468, 33.454729172462365, 30.901495745910815, 30.600094469257044, 30.44266488392644, 30.42155452870832, 29.226878861701476, 28.675370765549918, 28.202680204587526, 26.511082994557295, 23.700574584022245, 23.347168000817085, 23.126942203308744, 21.66090494099216, 21.641333172711217, 21.17463662571724, 20.707273940249152, 20.56444854582577, 20.47458752340566, 127.84461696711277, 75.72303697672439, 50.79165538550811, 253.76462982596655, 185.40991928529567, 172.7370125099452, 133.953803039013, 432.76487074426285, 376.89997783516503, 168.4923915071224, 107.72572707377597, 88.56829551327995, 81.34820560883955, 62.14778938383724, 58.01017187071793, 54.06001220190854, 48.73459317238127, 46.36471935974504, 45.444791174461606, 44.49003430841029, 44.441289341401344, 40.12564733022528, 39.090603373547744, 38.54812788704522, 38.33438327335532, 37.58380696384536, 36.161016209997044, 35.611349319999945, 33.55335140170489, 33.123763629326106, 31.576662147889873, 28.575058884383026, 26.886509548955082, 26.383016067718263, 24.224009571873275, 23.88203476134229, 23.57151660138878, 22.88746133181118, 22.72399874460321, 22.652695254487167, 82.41575333092644, 124.34336201224282, 168.4923915071224, 108.55343238699403, 123.41458947776539, 136.9574899127318, 64.44551201648359, 47.304974087076324, 46.55553316748714, 44.350230977900445, 42.92749853056583, 42.75185368081945, 40.146672493307044, 37.54311935682031, 32.59186395918854, 32.04521989774878, 29.48895908181199, 27.975829976281943, 26.410504780816623, 26.354541448751032, 23.6212645675427, 23.360759230788563, 23.18763467796546, 23.093227097516785, 22.942074526794574, 22.84802040810876, 21.9678882611503, 21.73885375320778, 21.632261232586906, 21.24732583700512, 20.949116947464855, 19.9492594890627, 19.79971046599534, 19.582270607995568, 17.131301909994118, 16.723442427278105, 62.34694047271669, 84.01415513390462, 128.037914724686, 205.2202232435923, 97.91219150744693, 45.426235824644145, 37.70370129465763, 396.8790627977673, 41.562354730130835, 117.9955875447747, 379.75327047841614, 116.5971600181925, 108.55343238699403, 99.75638285547824, 192.10076933153752, 65.10224480880751, 60.538523352335055, 58.36624723707248, 38.16128540697801, 37.228635464831775, 36.757763700984604, 36.491733208756784, 36.12712025992744, 35.4405278150727, 33.21905587892381, 32.565319096648004, 31.824676304102976, 30.731788823517036, 30.075379309246706, 29.89673247799138, 28.04703369522946, 25.729572664856413, 25.71570010659142, 25.193983446424536, 25.01556189859356, 23.61736415957449, 23.21408423625324, 22.411824960045138, 21.435040140878304, 20.540940646839985, 19.98080985656772, 19.808342458028054, 19.743684207007593, 19.521079236969975, 18.926902258934803, 41.3403288146353, 147.48974241602647, 38.615379937143786, 123.41458947776539, 80.58293552971581, 92.40460256356604, 39.866687454323284, 51.4681219771762, 45.61095308234164, 68.00763666382603, 49.56253940564113, 45.87657744714067, 41.130523076658314, 40.75938491911589, 39.801588789961436, 35.40945404644757, 34.4551654092291, 32.62217011829781, 32.06683950067409, 31.176932973180314, 28.719655644053535, 28.486194148071792, 25.392396733213968, 25.327129305221685, 23.00967432730415, 22.913914925367436, 22.00996296197843, 20.296289246460844, 19.620525571001927, 19.061958626828208, 18.679240957971217, 18.188461518427054, 17.8237985242576, 17.079604689907164, 16.807473464360825, 16.394112155853517, 15.743112844170508, 15.714467997185233, 15.968744445476304, 15.513036356496054, 124.34336201224282, 136.9574899127318, 47.539467064709264, 44.92042905446153, 43.83395443543319, 41.23447453551959, 32.01008224299511, 31.047665197564452, 29.1249182310118, 27.319047855019406, 26.977121098036783, 25.540471172982652, 24.493391201660764, 23.480035795681093, 23.03923082001907, 22.75932563937272, 22.381552570636533, 22.203240058777094, 20.202114011123747, 20.132438569938873, 19.753681531784864, 19.796269359035147, 18.6723498386349, 18.300269175705765, 17.99045220826927, 17.554087364334563, 17.134778800308958, 16.157019027057974, 16.006071895868587, 15.573856450301783, 15.445480474251534, 14.359244565624182, 13.94261084777621, 61.46127624194152, 43.7784318166299, 54.51383264472617, 29.184662940851553, 77.66140190327468, 102.18070387293216, 99.75638285547824], \"Category\": [\"Default\", \"Default\", \"Default\", \"Default\", \"Default\", \"Default\", \"Default\", \"Default\", \"Default\", \"Default\", \"Default\", \"Default\", \"Default\", \"Default\", \"Default\", \"Default\", \"Default\", \"Default\", \"Default\", \"Default\", \"Default\", \"Default\", \"Default\", \"Default\", \"Default\", \"Default\", \"Default\", \"Default\", \"Default\", \"Default\", \"Topic1\", \"Topic1\", \"Topic1\", \"Topic1\", \"Topic1\", \"Topic1\", \"Topic1\", \"Topic1\", \"Topic1\", \"Topic1\", \"Topic1\", \"Topic1\", \"Topic1\", \"Topic1\", \"Topic1\", \"Topic1\", \"Topic1\", \"Topic1\", \"Topic1\", \"Topic1\", \"Topic1\", \"Topic1\", \"Topic1\", \"Topic1\", \"Topic1\", \"Topic1\", \"Topic1\", \"Topic1\", \"Topic1\", \"Topic1\", \"Topic1\", \"Topic1\", \"Topic1\", \"Topic1\", \"Topic1\", \"Topic1\", \"Topic1\", \"Topic1\", \"Topic1\", \"Topic1\", \"Topic1\", \"Topic1\", \"Topic1\", \"Topic1\", \"Topic1\", \"Topic1\", \"Topic1\", \"Topic1\", \"Topic1\", \"Topic1\", \"Topic1\", \"Topic1\", \"Topic1\", \"Topic1\", \"Topic2\", \"Topic2\", \"Topic2\", \"Topic2\", \"Topic2\", \"Topic2\", \"Topic2\", \"Topic2\", \"Topic2\", \"Topic2\", \"Topic2\", \"Topic2\", \"Topic2\", \"Topic2\", \"Topic2\", \"Topic2\", \"Topic2\", \"Topic2\", \"Topic2\", \"Topic2\", \"Topic2\", \"Topic2\", \"Topic2\", \"Topic2\", \"Topic2\", \"Topic2\", \"Topic2\", \"Topic2\", \"Topic2\", \"Topic2\", \"Topic2\", \"Topic2\", \"Topic2\", \"Topic2\", \"Topic2\", \"Topic2\", \"Topic2\", \"Topic2\", \"Topic2\", \"Topic2\", \"Topic2\", \"Topic2\", \"Topic2\", \"Topic2\", \"Topic2\", \"Topic2\", \"Topic2\", \"Topic2\", \"Topic2\", \"Topic2\", \"Topic2\", \"Topic2\", \"Topic2\", \"Topic2\", \"Topic2\", \"Topic2\", \"Topic2\", \"Topic2\", \"Topic2\", \"Topic2\", \"Topic3\", \"Topic3\", \"Topic3\", \"Topic3\", \"Topic3\", \"Topic3\", \"Topic3\", \"Topic3\", \"Topic3\", \"Topic3\", \"Topic3\", \"Topic3\", \"Topic3\", \"Topic3\", \"Topic3\", \"Topic3\", \"Topic3\", \"Topic3\", \"Topic3\", \"Topic3\", \"Topic3\", \"Topic3\", \"Topic3\", \"Topic3\", \"Topic3\", \"Topic3\", \"Topic3\", \"Topic3\", \"Topic3\", \"Topic3\", \"Topic3\", \"Topic3\", \"Topic3\", \"Topic3\", \"Topic3\", \"Topic3\", \"Topic3\", \"Topic3\", \"Topic3\", \"Topic4\", \"Topic4\", \"Topic4\", \"Topic4\", \"Topic4\", \"Topic4\", \"Topic4\", \"Topic4\", \"Topic4\", \"Topic4\", \"Topic4\", \"Topic4\", \"Topic4\", \"Topic4\", \"Topic4\", \"Topic4\", \"Topic4\", \"Topic4\", \"Topic4\", \"Topic4\", \"Topic4\", \"Topic4\", \"Topic4\", \"Topic4\", \"Topic4\", \"Topic4\", \"Topic4\", \"Topic4\", \"Topic4\", \"Topic4\", \"Topic4\", \"Topic4\", \"Topic4\", \"Topic4\", \"Topic4\", \"Topic4\", \"Topic4\", \"Topic4\", \"Topic4\", \"Topic4\", \"Topic4\", \"Topic4\", \"Topic4\", \"Topic4\", \"Topic4\", \"Topic4\", \"Topic4\", \"Topic4\", \"Topic5\", \"Topic5\", \"Topic5\", \"Topic5\", \"Topic5\", \"Topic5\", \"Topic5\", \"Topic5\", \"Topic5\", \"Topic5\", \"Topic5\", \"Topic5\", \"Topic5\", \"Topic5\", \"Topic5\", \"Topic5\", \"Topic5\", \"Topic5\", \"Topic5\", \"Topic5\", \"Topic5\", \"Topic5\", \"Topic5\", \"Topic5\", \"Topic5\", \"Topic5\", \"Topic5\", \"Topic5\", \"Topic5\", \"Topic5\", \"Topic5\", \"Topic5\", \"Topic5\", \"Topic5\", \"Topic5\", \"Topic5\", \"Topic5\", \"Topic5\", \"Topic5\", \"Topic5\", \"Topic6\", \"Topic6\", \"Topic6\", \"Topic6\", \"Topic6\", \"Topic6\", \"Topic6\", \"Topic6\", \"Topic6\", \"Topic6\", \"Topic6\", \"Topic6\", \"Topic6\", \"Topic6\", \"Topic6\", \"Topic6\", \"Topic6\", \"Topic6\", \"Topic6\", \"Topic6\", \"Topic6\", \"Topic6\", \"Topic6\", \"Topic6\", \"Topic6\", \"Topic6\", \"Topic6\", \"Topic6\", \"Topic6\", \"Topic6\", \"Topic6\", \"Topic6\", \"Topic6\", \"Topic6\", \"Topic6\", \"Topic6\", \"Topic7\", \"Topic7\", \"Topic7\", \"Topic7\", \"Topic7\", \"Topic7\", \"Topic7\", \"Topic7\", \"Topic7\", \"Topic7\", \"Topic7\", \"Topic7\", \"Topic7\", \"Topic7\", \"Topic7\", \"Topic7\", \"Topic7\", \"Topic7\", \"Topic7\", \"Topic7\", \"Topic7\", \"Topic7\", \"Topic7\", \"Topic7\", \"Topic7\", \"Topic7\", \"Topic7\", \"Topic7\", \"Topic7\", \"Topic7\", \"Topic7\", \"Topic7\", \"Topic7\", \"Topic7\", \"Topic7\", \"Topic7\", \"Topic7\", \"Topic7\", \"Topic7\", \"Topic7\", \"Topic7\", \"Topic7\", \"Topic7\", \"Topic7\", \"Topic7\", \"Topic8\", \"Topic8\", \"Topic8\", \"Topic8\", \"Topic8\", \"Topic8\", \"Topic8\", \"Topic8\", \"Topic8\", \"Topic8\", \"Topic8\", \"Topic8\", \"Topic8\", \"Topic8\", \"Topic8\", \"Topic8\", \"Topic8\", \"Topic8\", \"Topic8\", \"Topic8\", \"Topic8\", \"Topic8\", \"Topic8\", \"Topic8\", \"Topic8\", \"Topic8\", \"Topic8\", \"Topic8\", \"Topic8\", \"Topic8\", \"Topic8\", \"Topic8\", \"Topic8\", \"Topic8\", \"Topic8\", \"Topic8\", \"Topic8\", \"Topic8\", \"Topic8\", \"Topic8\", \"Topic9\", \"Topic9\", \"Topic9\", \"Topic9\", \"Topic9\", \"Topic9\", \"Topic9\", \"Topic9\", \"Topic9\", \"Topic9\", \"Topic9\", \"Topic9\", \"Topic9\", \"Topic9\", \"Topic9\", \"Topic9\", \"Topic9\", \"Topic9\", \"Topic9\", \"Topic9\", \"Topic9\", \"Topic9\", \"Topic9\", \"Topic9\", \"Topic9\", \"Topic9\", \"Topic9\", \"Topic9\", \"Topic9\", \"Topic9\", \"Topic9\", \"Topic9\", \"Topic9\", \"Topic10\", \"Topic10\", \"Topic10\", \"Topic10\", \"Topic10\", \"Topic10\", \"Topic10\", \"Topic10\", \"Topic10\", \"Topic10\", \"Topic10\", \"Topic10\", \"Topic10\", \"Topic10\", \"Topic10\", \"Topic10\", \"Topic10\", \"Topic10\", \"Topic10\", \"Topic10\", \"Topic10\", \"Topic10\", \"Topic10\", \"Topic10\", \"Topic10\", \"Topic10\", \"Topic10\", \"Topic10\", \"Topic10\", \"Topic10\", \"Topic10\", \"Topic10\", \"Topic10\", \"Topic10\", \"Topic10\", \"Topic10\", \"Topic10\"], \"logprob\": [30.0, 29.0, 28.0, 27.0, 26.0, 25.0, 24.0, 23.0, 22.0, 21.0, 20.0, 19.0, 18.0, 17.0, 16.0, 15.0, 14.0, 13.0, 12.0, 11.0, 10.0, 9.0, 8.0, 7.0, 6.0, 5.0, 4.0, 3.0, 2.0, 1.0, -4.3251, -4.3902, -4.6588, -4.6947, -4.8449, -4.8698, -5.0718, -5.1424, -5.2897, -5.2998, -5.3048, -5.347, -5.3631, -5.4071, -5.412, -5.4248, -5.4396, -5.4538, -5.4547, -5.4942, -5.499, -5.5291, -5.5731, -5.5965, -5.6483, -5.6553, -5.6565, -5.6765, -5.6787, -5.7005, -4.9318, -5.0902, -4.7765, -5.08, -5.057, -4.2219, -5.0782, -4.6272, -5.0069, -4.9382, -5.1823, -4.3316, -4.7035, -4.255, -4.3552, -4.912, -4.3715, -4.6939, -4.814, -4.7702, -5.1211, -4.8966, -5.0678, -5.0684, -4.3242, -4.6335, -4.6573, -4.701, -4.8884, -4.901, -5.0573, -5.1507, -5.1605, -5.2272, -5.2459, -5.2658, -5.3139, -5.3805, -5.4585, -5.4647, -5.5553, -5.5579, -5.5743, -5.7099, -5.7256, -5.7484, -5.7545, -5.7589, -5.814, -5.8456, -5.884, -5.8931, -5.8949, -5.9001, -3.3976, -4.8389, -5.0072, -5.472, -4.0823, -5.2884, -4.5995, -3.7574, -5.2895, -3.8962, -4.6778, -4.9596, -3.9388, -4.8493, -4.1034, -4.6451, -5.0709, -4.2278, -4.9774, -4.7324, -4.8759, -4.6919, -4.6855, -4.7272, -5.0465, -4.9176, -5.0402, -4.9465, -4.9368, -4.9905, -4.3835, -4.6681, -4.7013, -4.7245, -4.8683, -4.981, -5.0861, -5.1216, -5.1658, -5.2808, -5.2876, -5.2923, -5.2983, -5.312, -5.33, -5.3533, -5.3792, -5.4326, -5.4394, -5.443, -5.4754, -5.4769, -5.4885, -5.5159, -5.5425, -5.5484, -5.5527, -5.5594, -5.5628, -5.5701, -4.0834, -5.2587, -5.0881, -5.3459, -4.6765, -4.916, -4.3294, -4.531, -5.3986, -3.7975, -3.9163, -4.2963, -4.4762, -4.4978, -4.6076, -4.6574, -4.7151, -4.7492, -4.8447, -4.8888, -4.897, -4.9087, -4.9184, -5.0868, -5.0909, -5.1056, -5.1487, -5.1746, -5.1768, -5.3019, -5.3054, -5.3306, -5.3743, -5.3753, -5.4386, -5.4416, -5.4596, -5.4731, -5.4743, -4.271, -4.8519, -4.4505, -4.4854, -4.5157, -4.8328, -4.5615, -5.0647, -4.9143, -4.5933, -4.6327, -4.6317, -4.7428, -4.7612, -4.7103, -4.8066, -4.9072, -4.9025, -3.4234, -3.6124, -4.6357, -4.6526, -4.6833, -4.7281, -4.76, -4.7633, -4.8217, -4.8315, -4.8967, -4.8975, -4.9283, -5.0097, -5.0197, -5.025, -5.0257, -5.0668, -5.0864, -5.1035, -5.1672, -5.2827, -5.2983, -5.3081, -5.3759, -5.3768, -5.3994, -5.4227, -5.4298, -5.4344, -3.9134, -4.4708, -4.7779, -3.8614, -4.1384, -4.3847, -4.6898, -4.5617, -4.8753, -5.0965, -3.7246, -3.922, -4.0078, -4.28, -4.3498, -4.4214, -4.5267, -4.5774, -4.5977, -4.6193, -4.6205, -4.7245, -4.7512, -4.7655, -4.7711, -4.7913, -4.8307, -4.8464, -4.9073, -4.9205, -4.9695, -5.072, -5.1347, -5.1542, -5.2423, -5.257, -5.2705, -5.301, -5.3084, -5.3117, -4.2162, -4.0447, -4.5083, -4.9484, -5.0917, -5.1392, -4.1725, -4.4861, -4.5023, -4.5517, -4.5849, -4.5891, -4.6532, -4.7216, -4.8662, -4.8836, -4.9688, -5.023, -5.0823, -5.0844, -5.1975, -5.2089, -5.2166, -5.2208, -5.2276, -5.2319, -5.2726, -5.2835, -5.2886, -5.3072, -5.3219, -5.3727, -5.3805, -5.392, -5.5317, -5.5569, -4.6042, -4.3967, -4.1273, -3.8435, -4.4546, -4.939, -5.141, -4.6857, -5.1525, -4.9624, -4.8892, -5.0352, -5.138, -5.1575, -5.1378, -4.1162, -4.1898, -4.2268, -4.6588, -4.6841, -4.6971, -4.7045, -4.7148, -4.7344, -4.8006, -4.8209, -4.8445, -4.8803, -4.9025, -4.9086, -4.9742, -5.063, -5.0636, -5.0847, -5.092, -5.1514, -5.1693, -5.2057, -5.2518, -5.2961, -5.3248, -5.3338, -5.3372, -5.349, -5.3812, -4.6419, -3.9861, -4.942, -4.2974, -4.5624, -4.493, -5.0078, -4.9189, -4.9995, -4.961, -4.1885, -4.267, -4.3782, -4.3875, -4.4117, -4.5311, -4.5591, -4.6151, -4.6326, -4.6615, -4.7458, -4.7542, -4.8726, -4.8752, -4.9744, -4.9787, -5.0204, -5.1046, -5.1398, -5.1699, -5.1911, -5.2189, -5.2401, -5.2847, -5.3015, -5.3277, -5.3702, -5.3722, -5.3563, -5.3857, -5.1454, -5.3218, -5.3675, -4.1809, -4.2058, -4.2681, -4.5269, -4.5582, -4.6239, -4.6897, -4.7027, -4.7591, -4.8023, -4.846, -4.8656, -4.8783, -4.8956, -4.9039, -5.002, -5.0056, -5.0253, -5.0232, -5.0841, -5.1051, -5.1229, -5.1486, -5.1739, -5.2356, -5.2455, -5.2743, -5.283, -5.36, -5.3911, -4.2721, -4.5779, -4.4555, -4.9136, -4.4839, -4.997, -5.1356], \"loglift\": [30.0, 29.0, 28.0, 27.0, 26.0, 25.0, 24.0, 23.0, 22.0, 21.0, 20.0, 19.0, 18.0, 17.0, 16.0, 15.0, 14.0, 13.0, 12.0, 11.0, 10.0, 9.0, 8.0, 7.0, 6.0, 5.0, 4.0, 3.0, 2.0, 1.0, 1.5052, 1.5049, 1.5034, 1.5031, 1.5021, 1.5019, 1.5002, 1.4995, 1.4979, 1.4977, 1.4977, 1.4972, 1.497, 1.4964, 1.4963, 1.4962, 1.496, 1.4958, 1.4958, 1.4952, 1.4951, 1.4947, 1.494, 1.4937, 1.4928, 1.4927, 1.4927, 1.4923, 1.4923, 1.4919, 1.3818, 1.3963, 1.3021, 1.3358, 1.3082, 1.0132, 1.2588, 1.0135, 1.2019, 1.1317, 1.2907, 0.7037, 0.9398, 0.5646, 0.6285, 1.0799, 0.5256, 0.7687, 0.8953, 0.612, 1.0498, 0.2574, 0.7097, 0.3983, 1.5925, 1.5907, 1.5905, 1.5902, 1.5887, 1.5886, 1.5871, 1.5861, 1.586, 1.5852, 1.585, 1.5848, 1.5841, 1.5832, 1.5821, 1.582, 1.5806, 1.5805, 1.5802, 1.5778, 1.5775, 1.577, 1.5769, 1.5768, 1.5756, 1.5749, 1.5741, 1.5739, 1.5738, 1.5737, 1.4332, 1.5086, 1.4996, 1.534, 1.3941, 1.5121, 1.4198, 1.2704, 1.5032, 1.2579, 1.3478, 1.401, 0.8808, 1.2526, 0.8803, 1.0997, 1.341, 0.6693, 1.2533, 1.0314, 1.0742, 0.739, 0.6967, 0.7395, 1.2568, 0.8599, 1.2105, 0.8109, 0.0985, 0.6503, 2.3832, 2.3794, 2.3789, 2.3785, 2.376, 2.3738, 2.3715, 2.3707, 2.3696, 2.3666, 2.3664, 2.3662, 2.3661, 2.3657, 2.3651, 2.3645, 2.3637, 2.362, 2.3618, 2.3616, 2.3606, 2.3605, 2.3601, 2.3592, 2.3582, 2.358, 2.3579, 2.3576, 2.3575, 2.3572, 2.1252, 2.2947, 2.2009, 2.2343, 1.7068, 1.6621, 0.706, 0.2886, 1.6341, 2.443, 2.4421, 2.4386, 2.4364, 2.4361, 2.4345, 2.4337, 2.4328, 2.4322, 2.4304, 2.4296, 2.4294, 2.4292, 2.429, 2.4252, 2.4251, 2.4247, 2.4236, 2.423, 2.4229, 2.4194, 2.4193, 2.4185, 2.4171, 2.4171, 2.415, 2.4149, 2.4143, 2.4138, 2.4137, 2.3882, 2.1658, 1.9141, 1.8018, 1.7654, 1.9876, 1.7186, 2.0, 1.6607, 0.8376, 0.83, 0.7504, 1.0728, 0.474, 0.1869, 0.6601, 1.2093, 1.1451, 2.5468, 2.5458, 2.5347, 2.5344, 2.5338, 2.533, 2.5324, 2.5323, 2.5311, 2.5309, 2.5295, 2.5295, 2.5288, 2.5269, 2.5266, 2.5265, 2.5265, 2.5254, 2.5249, 2.5244, 2.5225, 2.5191, 2.5186, 2.5183, 2.5159, 2.5159, 2.5151, 2.5141, 2.514, 2.5138, 2.2031, 2.1694, 2.2618, 1.5696, 1.6064, 1.4308, 1.38, 0.3355, 0.16, 0.7439, 2.5631, 2.5616, 2.5608, 2.5578, 2.5569, 2.5559, 2.5543, 2.5534, 2.5531, 2.5527, 2.5527, 2.5508, 2.5503, 2.55, 2.5499, 2.5494, 2.5486, 2.5483, 2.5469, 2.5466, 2.5454, 2.5428, 2.541, 2.5404, 2.5377, 2.5372, 2.5368, 2.5358, 2.5355, 2.5354, 2.3393, 2.0996, 1.3321, 1.3317, 1.0601, 0.9085, 2.6291, 2.6246, 2.6244, 2.6235, 2.6229, 2.6228, 2.6216, 2.6203, 2.6171, 2.6166, 2.6145, 2.613, 2.6113, 2.6113, 2.6077, 2.6073, 2.6071, 2.607, 2.6067, 2.6066, 2.6052, 2.6048, 2.6046, 2.6039, 2.6034, 2.6014, 2.6011, 2.6007, 2.5948, 2.5936, 2.2305, 2.1397, 1.9877, 1.7997, 1.9287, 2.2123, 2.1965, 0.298, 2.0877, 1.2343, 0.1386, 1.1734, 1.1421, 1.2071, 0.5715, 2.6752, 2.6743, 2.6738, 2.6667, 2.6662, 2.6659, 2.6658, 2.6655, 2.6651, 2.6636, 2.6631, 2.6626, 2.6617, 2.6611, 2.661, 2.6592, 2.6567, 2.6567, 2.656, 2.6558, 2.6539, 2.6533, 2.6521, 2.6505, 2.6488, 2.6477, 2.6474, 2.6473, 2.6468, 2.6455, 2.6036, 1.9875, 2.3717, 1.8544, 2.0156, 1.9482, 2.2739, 2.1075, 2.1477, 1.7867, 2.8756, 2.8743, 2.8723, 2.8722, 2.8717, 2.8692, 2.8686, 2.8673, 2.8669, 2.8662, 2.864, 2.8637, 2.8603, 2.8602, 2.857, 2.8569, 2.8554, 2.8523, 2.8509, 2.8497, 2.8489, 2.8477, 2.8467, 2.8448, 2.844, 2.8428, 2.8407, 2.8406, 2.8404, 2.8399, 0.9988, 0.7259, 1.7382, 2.9816, 2.9811, 2.98, 2.9744, 2.9736, 2.9719, 2.97, 2.9697, 2.968, 2.9666, 2.9652, 2.9645, 2.9641, 2.9635, 2.9632, 2.9596, 2.9594, 2.9586, 2.9586, 2.9562, 2.9554, 2.9546, 2.9534, 2.9523, 2.9494, 2.9489, 2.9475, 2.947, 2.943, 2.9413, 2.5769, 2.6103, 2.5134, 2.6801, 2.131, 1.3436, 1.229]}, \"token.table\": {\"Topic\": [2, 8, 9, 1, 9, 4, 7, 1, 5, 6, 9, 6, 1, 6, 2, 10, 2, 6, 8, 10, 10, 10, 3, 1, 7, 4, 6, 5, 1, 2, 4, 3, 2, 4, 7, 7, 8, 1, 1, 2, 8, 10, 4, 1, 7, 5, 9, 5, 6, 7, 9, 9, 7, 10, 2, 10, 1, 7, 4, 5, 10, 5, 8, 4, 1, 2, 8, 1, 10, 1, 4, 8, 6, 9, 6, 7, 5, 8, 3, 7, 7, 4, 5, 2, 2, 10, 1, 9, 3, 2, 2, 10, 8, 4, 5, 1, 2, 1, 2, 4, 10, 5, 1, 7, 5, 3, 8, 8, 1, 7, 8, 2, 9, 6, 7, 9, 8, 8, 4, 4, 9, 1, 3, 7, 3, 4, 8, 3, 2, 8, 10, 2, 3, 1, 2, 7, 10, 9, 7, 8, 4, 5, 9, 7, 1, 2, 9, 2, 7, 6, 4, 1, 2, 4, 5, 6, 7, 4, 2, 4, 7, 1, 5, 3, 1, 3, 4, 8, 1, 2, 4, 5, 8, 5, 9, 1, 6, 2, 4, 5, 7, 2, 5, 4, 5, 6, 1, 2, 9, 1, 1, 1, 6, 9, 4, 9, 10, 4, 7, 3, 1, 4, 5, 2, 6, 8, 10, 7, 1, 1, 10, 4, 1, 2, 4, 5, 2, 2, 4, 4, 2, 9, 9, 4, 1, 3, 10, 5, 2, 7, 10, 5, 2, 6, 10, 10, 4, 1, 9, 6, 7, 10, 1, 2, 4, 10, 1, 1, 2, 3, 1, 2, 7, 1, 6, 7, 1, 8, 2, 6, 2, 5, 6, 10, 5, 5, 1, 4, 6, 9, 1, 2, 2, 2, 4, 8, 3, 4, 9, 1, 2, 9, 8, 2, 8, 2, 9, 6, 7, 2, 1, 2, 1, 2, 1, 8, 1, 2, 4, 6, 3, 4, 8, 9, 1, 2, 4, 3, 10, 5, 10, 10, 8, 5, 6, 2, 10, 6, 2, 3, 7, 3, 2, 5, 7, 6, 5, 4, 7, 10, 1, 7, 3, 6, 7, 7, 2, 5, 10, 1, 5, 6, 3, 8, 7, 9, 2, 4, 6, 2, 4, 2, 3, 8, 6, 9, 3, 10, 5, 8, 6, 10, 9, 2, 7, 2, 9, 4, 3, 3, 10, 6, 5, 1, 4, 2, 4, 5, 3, 7, 1, 6, 3, 10, 1, 5, 1, 8, 3, 6, 4, 10, 8, 1, 2, 5, 8, 9, 1, 8, 9, 2, 8, 1, 8, 2, 10, 1, 10, 6, 2, 7, 6, 1, 2, 4, 2, 10, 10, 3, 7, 7, 3, 8, 7, 3, 3, 8, 3, 7, 8, 5, 4, 4, 2, 6, 8, 8, 1, 9, 9, 1, 4, 6, 9, 6, 7, 4, 5, 1, 2, 3, 5, 7, 9, 1, 10, 4, 6, 4, 5, 5, 2, 3, 6, 1, 4, 6, 2, 5, 3, 4, 6, 7, 1, 6, 7, 9, 7, 3, 1, 6, 2, 3, 8, 6, 1, 2, 4, 5, 6, 10, 1, 2, 8, 3, 7, 5, 7, 8, 10, 8, 3, 8, 5, 6, 3, 10, 6, 1, 4, 5, 9, 2, 2, 4, 8, 10, 1, 2, 7, 1, 1, 2, 5, 7, 8, 10, 1, 2, 6, 7, 1, 2], \"Freq\": [0.9736408546483071, 0.9797042535017861, 0.9561195733176444, 0.9805811864374474, 0.9545343821175997, 0.9883896710592592, 0.9783938369969213, 0.9936302960982736, 0.9788254894036085, 0.9817377104271165, 0.9393349647003253, 0.9889855263987142, 0.987806210458847, 0.9721006257405138, 0.9327683841037793, 0.0571082684145171, 0.5089023468135934, 0.15658533748110565, 0.13701217029596743, 0.19573167185138204, 0.9597767971028478, 0.9883214138094206, 0.9732073679149352, 0.38088819614977154, 0.6070405626136984, 0.7511724428004747, 0.23112998240014604, 0.9725522158025316, 0.40909382852200776, 0.4053406741318976, 0.183904565115398, 0.9634787465160856, 0.5319841291763415, 0.4577537855703404, 0.9567408187384867, 0.9546941787644317, 0.9626686477220031, 0.989622683235017, 0.2734042441650848, 0.7070799418062539, 0.009427732557416718, 0.9662562324446015, 0.9717902151498645, 0.8764193143495593, 0.11431556274124687, 0.9807219118637205, 0.9870838379952425, 0.9658441790894353, 0.3207855886489265, 0.6576104567302993, 0.9667307562177537, 0.9854018021292976, 0.3668793594158502, 0.6236949110069453, 0.9797234622683387, 0.9700620767106852, 0.8224921014548644, 0.18054704666082388, 0.9522307754245604, 0.9580222415295544, 0.9404956327609162, 0.07256836329124552, 0.9191992683557767, 0.9775267397921376, 0.21426472237452718, 0.7784951579607821, 0.9688012702972717, 0.8946194544760672, 0.10191867202891905, 0.9874163100990258, 0.9886763286155184, 0.959191817299158, 0.9900702849097981, 0.9759601403170346, 0.9932631963274756, 0.9880673009266467, 0.9573558188135646, 0.9736652446379955, 0.9500232053518416, 0.9651188194556066, 0.966012294778939, 0.3037384779888015, 0.6867130806703338, 0.9912253839736782, 0.9966663161642386, 0.9548929897817565, 0.9920274818825134, 0.9622498796083386, 0.9859363909286272, 0.9840517472164366, 0.9073978276086504, 0.07689812098378394, 0.9695690175371907, 0.991919258070918, 0.9810086250088911, 0.28935190729245, 0.7102274088087409, 0.9794347139721953, 0.9164575649764857, 0.07883505935281597, 0.9666367250328755, 0.9708267925499978, 0.9940726507909856, 0.9559407691060597, 0.9854590626144505, 0.4839734336262587, 0.5087925840686309, 0.993725016522223, 0.5652464370546479, 0.42880764190352605, 0.9623330580447778, 0.6731249207409621, 0.315527306597326, 0.99358353336274, 0.9702654191818888, 0.9346584911965752, 0.9740868910582869, 0.9733068427905804, 0.9871427223484431, 0.965175158314, 0.9527975914594505, 0.9883870465985959, 0.9726785776736152, 0.9845570416943856, 0.992209915409757, 0.4274490530226848, 0.5634555698935391, 0.9761476010810913, 0.42036821669344093, 0.4949496744938901, 0.08136159032776276, 0.9927910009658529, 0.9698178367756987, 0.4132241162935003, 0.48881389366426253, 0.09574705133629885, 0.9337733615628294, 0.9636365867596265, 0.993086997022079, 0.966997569223497, 0.9755526549004074, 0.9918665682921617, 0.9537809786653255, 0.983418910092572, 0.7377573095155773, 0.257357200993806, 0.9829322883378332, 0.4764213798011743, 0.52328249912588, 0.9921336877526385, 0.9803878861902242, 0.37433722317015866, 0.39513373556850084, 0.10398256199171074, 0.10860400919134233, 0.01617506519871056, 0.9524163044957564, 0.9962888477818033, 0.6271420952238567, 0.1186485045018107, 0.2457719021823222, 0.8133650797934013, 0.18074779550964473, 0.9407530417973812, 0.9894177192097777, 0.9781412752703356, 0.9606109134218567, 0.9721687489111769, 0.4759213755660495, 0.21965601949202287, 0.1993174991686874, 0.06101556097000635, 0.04474474471133799, 0.9851301879180835, 0.9845466839016145, 0.9940198450462187, 0.9835083120288016, 0.4255912263031578, 0.20097363464315784, 0.3743626527666666, 0.9589368203954571, 0.6094603807368234, 0.3883287381685955, 0.23625928135084653, 0.7481543909443474, 0.975753931702676, 0.6491075427878656, 0.34526996956801365, 0.9541133729428299, 0.9871966214013043, 0.9891251906711418, 0.992669497983265, 0.9902124938201594, 0.9601152867877822, 0.9731386297909875, 0.2398520076859162, 0.7195560230577486, 0.9743192644620005, 0.9707723004179302, 0.9697651011407453, 0.4168186016060377, 0.25472247875924525, 0.3241922456935849, 0.9795146628330806, 0.2589641747997173, 0.7250996894392084, 0.9684354217434096, 0.9921030630466172, 0.9841912712492012, 0.9946714378206103, 0.9637796377721012, 0.9612879383751561, 0.38480103844237656, 0.5662072422794969, 0.04397726153627161, 0.9704406076089591, 0.9694530028090487, 0.9753056417952201, 0.9788531191503923, 0.9648392114654848, 0.9882832324846573, 0.9442891128022078, 0.979860382102043, 0.9630861344993314, 0.9863430065868142, 0.9713562459140013, 0.9639922214158743, 0.9861050386025904, 0.9145644404958858, 0.07750546105897338, 0.9809746931077917, 0.9861428998208982, 0.7777233181147714, 0.14713684396765944, 0.07356842198382972, 0.9684448719835405, 0.9873174993088385, 0.9782756616350452, 0.9867896321546266, 0.9849266583639489, 0.9824135419616491, 0.9795097893355916, 0.2914042940783357, 0.5894314130220881, 0.11258802271208425, 0.9449456746943797, 0.9857654009333237, 0.3891593521221782, 0.48751830925195955, 0.12187957731298989, 0.45140662545075955, 0.47927123196006566, 0.06687505562233474, 0.9867325819782391, 0.7886841698698495, 0.1941376418141168, 0.9907093213680869, 0.9642438654492355, 0.9013620392602495, 0.08089146506181726, 0.8165272535897213, 0.09072525039885793, 0.09072525039885793, 0.9283890781387132, 0.9512714567536943, 0.9874978771363515, 0.4234890697614065, 0.27015682036503513, 0.18983992782407877, 0.11682457096866385, 0.2868123642580843, 0.7110556530565008, 0.9871780553911197, 0.994073405156406, 0.9604155158423109, 0.952608389659239, 0.9688799395860395, 0.942128303134938, 0.05383590303628217, 0.12065906606919474, 0.8375158703626459, 0.03548796060858669, 0.9633025127695681, 0.9872991685715045, 0.9761878871510061, 0.9907615900005109, 0.9683736519311679, 0.34479373519336726, 0.6365422803569857, 0.9900863190627669, 0.16973168418928153, 0.8187057707953579, 0.6277110245997705, 0.3634116458209197, 0.39464204941090636, 0.5919630741163595, 0.33081584949920534, 0.42475121417181916, 0.16744999789465947, 0.07759877951215927, 0.9906241137858204, 0.9827562580604765, 0.9738597349220188, 0.9809279972472207, 0.6090950519491151, 0.24946978191532906, 0.13931429379687207, 0.9533658235682682, 0.9437505513301406, 0.9768206552213503, 0.9613760896394894, 0.9323935195446875, 0.9826404557876359, 0.9933798272326069, 0.9912771970016865, 0.9676544807307281, 0.9788386373406307, 0.9719469365575227, 0.9946259386237716, 0.986844759759471, 0.9714379194565077, 0.9604715613347744, 0.9938869091650198, 0.9445262439927489, 0.9844567612689177, 0.9711868611149979, 0.9853766983493591, 0.5814164301048017, 0.24058610900888347, 0.1704151605479591, 0.992373876023297, 0.9855334515052318, 0.24060234471629804, 0.16842164130140863, 0.5774456273191153, 0.9818401316374643, 0.9914288884491833, 0.9764477059051213, 0.9631525786735589, 0.9791680559403281, 0.988668648979409, 0.9681394655606045, 0.9469168792155817, 0.9716445867811507, 0.9487815512681838, 0.9808927017681154, 0.9779125153710841, 0.9658509624226662, 0.9660737939715527, 0.9855307505756313, 0.9815886222606095, 0.9839741580555875, 0.9566508395277011, 0.9911044518016926, 0.9630670179422888, 0.9367898315266551, 0.8451799501964802, 0.13522879203143684, 0.9948405692969581, 0.9865248053321078, 0.9678931531333439, 0.9371443598145858, 0.9669286950209963, 0.3302056559980777, 0.6604113119961554, 0.9779418501651738, 0.9886499075231584, 0.970447269936918, 0.983725291789216, 0.29694987829741665, 0.6852689499171153, 0.9857806872320399, 0.9695313265630362, 0.9947932901181101, 0.976481748760752, 0.3339874436197488, 0.5195360234084981, 0.13916143484156202, 0.9546785933666313, 0.9673829700316019, 0.844036990950622, 0.14770647341635887, 0.9842019153205719, 0.9829523635845928, 0.6868039422009222, 0.30607566989388924, 0.804413805348435, 0.18993103737393605, 0.9619044660486237, 0.9798754960852484, 0.32540814676984997, 0.6508162935396999, 0.9509124072743564, 0.2676643062665719, 0.4533905595943973, 0.1420259584271606, 0.0819380529387465, 0.05462536862583099, 0.5440565473977231, 0.41171846830097963, 0.04411269303224782, 0.3260867864904646, 0.6521735729809292, 0.5194546447724866, 0.4761667577081127, 0.965909263289755, 0.9795555764966342, 0.5665620104926884, 0.4249215078695163, 0.9670277189628902, 0.9725770239517999, 0.9526602716501957, 0.9828327392341576, 0.3130845822202979, 0.6798408071069326, 0.9646953331171798, 0.9930106563127372, 0.9458079066121953, 0.9618460219391436, 0.5004484042855194, 0.49023517154499857, 0.9412949259321504, 0.8886409536008743, 0.06582525582228697, 0.9736989285325409, 0.9907404424594405, 0.8336914639093855, 0.15158026616534281, 0.763311902160511, 0.23156653211611009, 0.9510272602323372, 0.9703653574577416, 0.9727076958593381, 0.9909758242465223, 0.3403163287073673, 0.2187747827404504, 0.4375495654809008, 0.9594027948398529, 0.9878936805250924, 0.9725137685569604, 0.9519574749843859, 0.9928907546945528, 0.21714066246127064, 0.6272952471103374, 0.15280268839867192, 0.949471223240661, 0.9628842940017772, 0.9868557166176891, 0.9827967470247654, 0.4457416022281482, 0.2228708011140741, 0.18572566759506173, 0.09020960997474428, 0.053064476455731924, 0.9749420517790037, 0.9885693337023441, 0.9749816528312214, 0.9917144003186397, 0.9844665293112279, 0.28941382811227806, 0.7039795818947304, 0.9864076265535378, 0.5279234215794623, 0.46926526362618864, 0.9825862975726186, 0.36370362752117735, 0.6325280478629172, 0.9854824760468947, 0.9890352226211129, 0.9694885812576818, 0.9871002540806367, 0.4790267691823829, 0.28557365085872827, 0.22108927808417672, 0.7801190956743946, 0.2145327513104585, 0.9339628759134684, 0.9813690780510346, 0.9935530228488246, 0.9697167991292557, 0.9905024991546122, 0.9957195662002197, 0.9754414150923774, 0.9890438201982241, 0.9816246574841931, 0.9815312918574101, 0.06528484699877392, 0.3382942071754649, 0.07121983308957155, 0.16617961054233363, 0.29081431844908384, 0.07121983308957155, 0.6075699864395571, 0.38884479132131655, 0.9875699420344032, 0.9859652370963852, 0.9596099919052459, 0.9803891301754006, 0.9865472351533616, 0.9793849346454038, 0.9835920896669442, 0.9700056693937534, 0.9826290284144793, 0.9830690199386428, 0.9873010884720189, 0.9612249991842606, 0.9560959411125443, 0.9711578752765785, 0.9803919355780109, 0.3596427490710233, 0.5071884922796482, 0.12910252530754682, 0.9884365896771388, 0.9853733510422429, 0.98821801720691, 0.6460338779576489, 0.16150846948941222, 0.18169702817558875, 0.19486336459136802, 0.7215211067302005, 0.08163195003151903, 0.9966415527763509, 0.5413825273157099, 0.1926072452950122, 0.140551233053117, 0.12493442938054844, 0.94770053283613, 0.9798561498651396, 0.9916530592017709, 0.7092108969557063, 0.16188509604423731, 0.12334102555751414, 0.14919729183819247, 0.8476136000082819], \"Term\": [\"accident\", \"act\", \"action\", \"activist\", \"adaptation\", \"adventure\", \"age\", \"agent\", \"agree\", \"ambitious\", \"army\", \"arrive\", \"artist\", \"aspire\", \"attempt\", \"attempt\", \"back\", \"back\", \"back\", \"back\", \"ballet\", \"band\", \"bank\", \"base\", \"base\", \"battle\", \"battle\", \"bear\", \"become\", \"become\", \"become\", \"befriend\", \"big\", \"big\", \"bitter\", \"black\", \"body\", \"bond\", \"boy\", \"boy\", \"boy\", \"boyfriend\", \"break\", \"bring\", \"bring\", \"bubble\", \"build\", \"bumble\", \"business\", \"business\", \"call\", \"cancer\", \"capture\", \"capture\", \"car\", \"care\", \"career\", \"career\", \"cash\", \"catch\", \"celebrity\", \"challenge\", \"challenge\", \"champion\", \"child\", \"child\", \"childhood\", \"city\", \"city\", \"clash\", \"close\", \"coach\", \"college\", \"combat\", \"come\", \"comedy\", \"community\", \"competition\", \"complete\", \"conflict\", \"confront\", \"cop\", \"cop\", \"country\", \"couple\", \"course\", \"create\", \"creature\", \"crew\", \"crime\", \"criminal\", \"criminal\", \"dance\", \"dangerous\", \"dark\", \"daughter\", \"daughter\", \"deadly\", \"death\", \"death\", \"debt\", \"desperate\", \"detective\", \"determined\", \"develop\", \"different\", \"different\", \"doctor\", \"documentary\", \"documentary\", \"documentary_explore\", \"drama\", \"drama\", \"dream\", \"driver\", \"early\", \"earth\", \"embark\", \"end\", \"enemy\", \"enter\", \"escape\", \"ever\", \"examine\", \"experience\", \"explore\", \"explore\", \"eye\", \"face\", \"face\", \"face\", \"fall\", \"fame\", \"family\", \"family\", \"family\", \"far\", \"farmer\", \"father\", \"fear\", \"feature\", \"feeling\", \"fellow\", \"female\", \"fight\", \"fight\", \"fighter\", \"film\", \"film\", \"filmmaker\", \"finally\", \"find\", \"find\", \"find\", \"find\", \"find\", \"fire\", \"first\", \"follow\", \"follow\", \"follow\", \"force\", \"force\", \"forever\", \"former\", \"fortune\", \"free\", \"french\", \"friend\", \"friend\", \"friend\", \"friend\", \"friend\", \"friendship\", \"full\", \"game\", \"gang\", \"get\", \"get\", \"get\", \"gift\", \"girl\", \"girl\", \"girlfriend\", \"girlfriend\", \"global\", \"go\", \"go\", \"goal\", \"good\", \"government\", \"group\", \"grow\", \"hand\", \"hatch\", \"haunt\", \"haunt\", \"head\", \"heir\", \"heist\", \"help\", \"help\", \"help\", \"hide\", \"high\", \"high\", \"high_school\", \"hire\", \"history\", \"hit\", \"hold\", \"holiday\", \"home\", \"home\", \"home\", \"horse\", \"host\", \"hotel\", \"human\", \"hunt\", \"husband\", \"iconic\", \"include\", \"intimate\", \"investigate\", \"involve\", \"island\", \"issue\", \"job\", \"job\", \"join\", \"justice\", \"keep\", \"keep\", \"keep\", \"kid\", \"killer\", \"know\", \"land\", \"last\", \"late\", \"law\", \"leave\", \"leave\", \"leave\", \"lesson\", \"letter\", \"life\", \"life\", \"life\", \"live\", \"live\", \"live\", \"local\", \"long\", \"long\", \"look\", \"loom\", \"lose\", \"lose\", \"love\", \"love\", \"love\", \"machine\", \"magic\", \"magical\", \"make\", \"make\", \"make\", \"make\", \"man\", \"man\", \"marriage\", \"marry\", \"massive\", \"master\", \"match\", \"may\", \"may\", \"meet\", \"meet\", \"meet\", \"member\", \"memory\", \"mind\", \"miss\", \"modern\", \"money\", \"money\", \"mother\", \"move\", \"move\", \"murder\", \"murder\", \"music\", \"music\", \"must\", \"must\", \"must\", \"must\", \"name\", \"need\", \"neighborhood\", \"never\", \"new\", \"new\", \"new\", \"next\", \"nightmare\", \"nominate\", \"notorious\", \"obsession\", \"officer\", \"old\", \"order\", \"orphan\", \"other\", \"owner\", \"parent\", \"part\", \"partner\", \"pass\", \"past\", \"path\", \"pay\", \"pie\", \"place\", \"plan\", \"plan\", \"plan\", \"play\", \"player\", \"plot\", \"plot\", \"plot\", \"politic\", \"political\", \"poor\", \"possibility\", \"power\", \"powerful\", \"prepare\", \"present\", \"pressure\", \"private\", \"protect\", \"prove\", \"public\", \"pursue\", \"put\", \"race\", \"raise\", \"rapper\", \"reality\", \"receive\", \"recover\", \"reflect\", \"reflect\", \"relationship\", \"remote\", \"reporter\", \"restore\", \"result\", \"reveal\", \"reveal\", \"rich\", \"rise\", \"risk\", \"role\", \"romance\", \"romance\", \"romantic\", \"rule\", \"run\", \"rush\", \"save\", \"save\", \"save\", \"say\", \"scheme\", \"school\", \"school\", \"scientist\", \"score\", \"secret\", \"secret\", \"seek\", \"seek\", \"seemingly\", \"self\", \"send\", \"send\", \"separate\", \"set\", \"set\", \"set\", \"set\", \"set\", \"share\", \"share\", \"share\", \"short\", \"short\", \"show\", \"show\", \"sibling\", \"sinister\", \"sister\", \"sister\", \"skill\", \"social\", \"society\", \"soldier\", \"son\", \"son\", \"song\", \"soon\", \"sound\", \"speak\", \"special\", \"special\", \"spend\", \"spirit\", \"spirit\", \"sport\", \"spy\", \"stage\", \"stage\", \"stand\", \"stand\", \"station\", \"stay\", \"step\", \"still\", \"story\", \"story\", \"story\", \"strand\", \"stranger\", \"street\", \"strike\", \"struggle\", \"student\", \"student\", \"student\", \"successful\", \"suicide\", \"survive\", \"suspect\", \"take\", \"take\", \"take\", \"take\", \"take\", \"tale\", \"target\", \"teach\", \"team\", \"tear\", \"teen\", \"teen\", \"teenage\", \"tell\", \"tell\", \"test\", \"thing\", \"thing\", \"think\", \"threaten\", \"thriller\", \"throw\", \"time\", \"time\", \"time\", \"together\", \"together\", \"touch\", \"tour\", \"track\", \"traditional\", \"train\", \"travel\", \"trip\", \"trouble\", \"troubled\", \"true\", \"try\", \"try\", \"try\", \"try\", \"try\", \"try\", \"turn\", \"turn\", \"tv\", \"twin\", \"uncover\", \"undercover\", \"unlikely\", \"vacation\", \"veteran\", \"victim\", \"view\", \"village\", \"violent\", \"voice\", \"vow\", \"walk\", \"war\", \"way\", \"way\", \"way\", \"wealthy\", \"wedding\", \"wife\", \"win\", \"win\", \"win\", \"woman\", \"woman\", \"woman\", \"work\", \"world\", \"world\", \"world\", \"world\", \"would\", \"write\", \"writer\", \"year\", \"year\", \"year\", \"young\", \"young\"]}, \"R\": 30, \"lambda.step\": 0.01, \"plot.opts\": {\"xlab\": \"PC1\", \"ylab\": \"PC2\"}, \"topic.order\": [1, 2, 10, 4, 3, 7, 5, 6, 8, 9]};\n",
              "\n",
              "function LDAvis_load_lib(url, callback){\n",
              "  var s = document.createElement('script');\n",
              "  s.src = url;\n",
              "  s.async = true;\n",
              "  s.onreadystatechange = s.onload = callback;\n",
              "  s.onerror = function(){console.warn(\"failed to load library \" + url);};\n",
              "  document.getElementsByTagName(\"head\")[0].appendChild(s);\n",
              "}\n",
              "\n",
              "if(typeof(LDAvis) !== \"undefined\"){\n",
              "   // already loaded: just create the visualization\n",
              "   !function(LDAvis){\n",
              "       new LDAvis(\"#\" + \"ldavis_el611400423261582888479719930\", ldavis_el611400423261582888479719930_data);\n",
              "   }(LDAvis);\n",
              "}else if(typeof define === \"function\" && define.amd){\n",
              "   // require.js is available: use it to load d3/LDAvis\n",
              "   require.config({paths: {d3: \"https://d3js.org/d3.v5\"}});\n",
              "   require([\"d3\"], function(d3){\n",
              "      window.d3 = d3;\n",
              "      LDAvis_load_lib(\"https://cdn.jsdelivr.net/gh/bmabey/pyLDAvis@3.3.1/pyLDAvis/js/ldavis.v3.0.0.js\", function(){\n",
              "        new LDAvis(\"#\" + \"ldavis_el611400423261582888479719930\", ldavis_el611400423261582888479719930_data);\n",
              "      });\n",
              "    });\n",
              "}else{\n",
              "    // require.js not available: dynamically load d3 & LDAvis\n",
              "    LDAvis_load_lib(\"https://d3js.org/d3.v5.js\", function(){\n",
              "         LDAvis_load_lib(\"https://cdn.jsdelivr.net/gh/bmabey/pyLDAvis@3.3.1/pyLDAvis/js/ldavis.v3.0.0.js\", function(){\n",
              "                 new LDAvis(\"#\" + \"ldavis_el611400423261582888479719930\", ldavis_el611400423261582888479719930_data);\n",
              "            })\n",
              "         });\n",
              "}\n",
              "</script>"
            ],
            "text/plain": [
              "<IPython.core.display.HTML object>"
            ]
          },
          "metadata": {
            "tags": []
          },
          "execution_count": 78
        }
      ]
    },
    {
      "cell_type": "markdown",
      "metadata": {
        "id": "CAR046x1fvxH"
      },
      "source": [
        "### Reframing Topic features to dataframe"
      ]
    },
    {
      "cell_type": "code",
      "metadata": {
        "colab": {
          "base_uri": "https://localhost:8080/",
          "height": 289
        },
        "id": "Sem7iy9lfVqB",
        "outputId": "99675669-3e35-4df0-c351-5c27b6affc74"
      },
      "source": [
        "document_key = list(df_final2.index) ##get index of transcripts for topic in each\n",
        "document_topic = {}\n",
        "for doc_id in range(len(corpus)):\n",
        "    docbok = corpus[doc_id]\n",
        "    doc_topics = lda_model.get_document_topics(docbok, 0)\n",
        "    tmp = []\n",
        "    for topic_id, topic_prob in doc_topics:\n",
        "        tmp.append(topic_prob)\n",
        "    document_topic[document_key[doc_id]] = tmp\n",
        "# convert dictionnary of document-topic distritbutions to dataframe\n",
        "df = pd.DataFrame.from_dict(document_topic, orient='index')\n",
        "topic_column_names = ['topic_' + str(i) for i in range(0, 10)]\n",
        "df.columns = topic_column_names\n",
        "df['description'] = (data_first['description']) # reset index\n",
        "\n",
        "df.head(5)"
      ],
      "execution_count": 101,
      "outputs": [
        {
          "output_type": "execute_result",
          "data": {
            "text/html": [
              "<div>\n",
              "<style scoped>\n",
              "    .dataframe tbody tr th:only-of-type {\n",
              "        vertical-align: middle;\n",
              "    }\n",
              "\n",
              "    .dataframe tbody tr th {\n",
              "        vertical-align: top;\n",
              "    }\n",
              "\n",
              "    .dataframe thead th {\n",
              "        text-align: right;\n",
              "    }\n",
              "</style>\n",
              "<table border=\"1\" class=\"dataframe\">\n",
              "  <thead>\n",
              "    <tr style=\"text-align: right;\">\n",
              "      <th></th>\n",
              "      <th>topic_0</th>\n",
              "      <th>topic_1</th>\n",
              "      <th>topic_2</th>\n",
              "      <th>topic_3</th>\n",
              "      <th>topic_4</th>\n",
              "      <th>topic_5</th>\n",
              "      <th>topic_6</th>\n",
              "      <th>topic_7</th>\n",
              "      <th>topic_8</th>\n",
              "      <th>topic_9</th>\n",
              "      <th>description</th>\n",
              "    </tr>\n",
              "  </thead>\n",
              "  <tbody>\n",
              "    <tr>\n",
              "      <th>0</th>\n",
              "      <td>0.582345</td>\n",
              "      <td>0.011073</td>\n",
              "      <td>0.095518</td>\n",
              "      <td>0.007460</td>\n",
              "      <td>0.006418</td>\n",
              "      <td>0.005631</td>\n",
              "      <td>0.005017</td>\n",
              "      <td>0.004523</td>\n",
              "      <td>0.278236</td>\n",
              "      <td>0.003779</td>\n",
              "      <td>After a devastating earthquake hits Mexico Cit...</td>\n",
              "    </tr>\n",
              "    <tr>\n",
              "      <th>1</th>\n",
              "      <td>0.018853</td>\n",
              "      <td>0.121595</td>\n",
              "      <td>0.538508</td>\n",
              "      <td>0.009494</td>\n",
              "      <td>0.099076</td>\n",
              "      <td>0.007167</td>\n",
              "      <td>0.098590</td>\n",
              "      <td>0.096665</td>\n",
              "      <td>0.005241</td>\n",
              "      <td>0.004810</td>\n",
              "      <td>When an army recruit is found dead, his fellow...</td>\n",
              "    </tr>\n",
              "    <tr>\n",
              "      <th>2</th>\n",
              "      <td>0.111025</td>\n",
              "      <td>0.106558</td>\n",
              "      <td>0.011334</td>\n",
              "      <td>0.104085</td>\n",
              "      <td>0.008168</td>\n",
              "      <td>0.102668</td>\n",
              "      <td>0.006385</td>\n",
              "      <td>0.005757</td>\n",
              "      <td>0.539209</td>\n",
              "      <td>0.004810</td>\n",
              "      <td>In a postapocalyptic world, rag-doll robots hi...</td>\n",
              "    </tr>\n",
              "    <tr>\n",
              "      <th>3</th>\n",
              "      <td>0.181718</td>\n",
              "      <td>0.445551</td>\n",
              "      <td>0.008906</td>\n",
              "      <td>0.007460</td>\n",
              "      <td>0.084332</td>\n",
              "      <td>0.005631</td>\n",
              "      <td>0.253981</td>\n",
              "      <td>0.004523</td>\n",
              "      <td>0.004118</td>\n",
              "      <td>0.003779</td>\n",
              "      <td>A brilliant group of students become card-coun...</td>\n",
              "    </tr>\n",
              "    <tr>\n",
              "      <th>4</th>\n",
              "      <td>0.226700</td>\n",
              "      <td>0.481330</td>\n",
              "      <td>0.097509</td>\n",
              "      <td>0.008034</td>\n",
              "      <td>0.084227</td>\n",
              "      <td>0.083422</td>\n",
              "      <td>0.005403</td>\n",
              "      <td>0.004871</td>\n",
              "      <td>0.004435</td>\n",
              "      <td>0.004070</td>\n",
              "      <td>After an awful accident, a couple admitted to ...</td>\n",
              "    </tr>\n",
              "  </tbody>\n",
              "</table>\n",
              "</div>"
            ],
            "text/plain": [
              "    topic_0  ...                                        description\n",
              "0  0.582345  ...  After a devastating earthquake hits Mexico Cit...\n",
              "1  0.018853  ...  When an army recruit is found dead, his fellow...\n",
              "2  0.111025  ...  In a postapocalyptic world, rag-doll robots hi...\n",
              "3  0.181718  ...  A brilliant group of students become card-coun...\n",
              "4  0.226700  ...  After an awful accident, a couple admitted to ...\n",
              "\n",
              "[5 rows x 11 columns]"
            ]
          },
          "metadata": {
            "tags": []
          },
          "execution_count": 101
        }
      ]
    },
    {
      "cell_type": "code",
      "metadata": {
        "id": "O-WCqIBGiD7H"
      },
      "source": [
        "def find_topic(row):\n",
        "    if (row.loc[row>0.3]).any():\n",
        "        return row.loc[row>0.3].index[0]\n",
        "    else:\n",
        "        return None\n",
        "    \n",
        "def find_propensity(row):\n",
        "    if (row.loc[row>0.3]).any():\n",
        "        return row.loc[row>0.3].values[0]\n",
        "    else:\n",
        "        return None\n",
        "    \n",
        "df['topic'] = df.loc[:, df.columns !='description'].apply(find_topic, axis = 1)\n",
        "df['propensity'] = df.iloc[:, 0:10].apply(find_propensity, axis = 1)"
      ],
      "execution_count": 102,
      "outputs": []
    },
    {
      "cell_type": "code",
      "metadata": {
        "colab": {
          "base_uri": "https://localhost:8080/",
          "height": 204
        },
        "id": "jCyJf_ipgPK6",
        "outputId": "e72d2282-0336-4114-dedb-d0344cd533d8"
      },
      "source": [
        "df.head()\n",
        "#df.drop(columns=df.columns[:10], inplace=True)"
      ],
      "execution_count": 105,
      "outputs": [
        {
          "output_type": "execute_result",
          "data": {
            "text/html": [
              "<div>\n",
              "<style scoped>\n",
              "    .dataframe tbody tr th:only-of-type {\n",
              "        vertical-align: middle;\n",
              "    }\n",
              "\n",
              "    .dataframe tbody tr th {\n",
              "        vertical-align: top;\n",
              "    }\n",
              "\n",
              "    .dataframe thead th {\n",
              "        text-align: right;\n",
              "    }\n",
              "</style>\n",
              "<table border=\"1\" class=\"dataframe\">\n",
              "  <thead>\n",
              "    <tr style=\"text-align: right;\">\n",
              "      <th></th>\n",
              "      <th>description</th>\n",
              "      <th>topic</th>\n",
              "      <th>propensity</th>\n",
              "    </tr>\n",
              "  </thead>\n",
              "  <tbody>\n",
              "    <tr>\n",
              "      <th>0</th>\n",
              "      <td>After a devastating earthquake hits Mexico Cit...</td>\n",
              "      <td>topic_0</td>\n",
              "      <td>0.582345</td>\n",
              "    </tr>\n",
              "    <tr>\n",
              "      <th>1</th>\n",
              "      <td>When an army recruit is found dead, his fellow...</td>\n",
              "      <td>topic_2</td>\n",
              "      <td>0.538508</td>\n",
              "    </tr>\n",
              "    <tr>\n",
              "      <th>2</th>\n",
              "      <td>In a postapocalyptic world, rag-doll robots hi...</td>\n",
              "      <td>topic_8</td>\n",
              "      <td>0.539209</td>\n",
              "    </tr>\n",
              "    <tr>\n",
              "      <th>3</th>\n",
              "      <td>A brilliant group of students become card-coun...</td>\n",
              "      <td>topic_1</td>\n",
              "      <td>0.445551</td>\n",
              "    </tr>\n",
              "    <tr>\n",
              "      <th>4</th>\n",
              "      <td>After an awful accident, a couple admitted to ...</td>\n",
              "      <td>topic_1</td>\n",
              "      <td>0.481330</td>\n",
              "    </tr>\n",
              "  </tbody>\n",
              "</table>\n",
              "</div>"
            ],
            "text/plain": [
              "                                         description    topic  propensity\n",
              "0  After a devastating earthquake hits Mexico Cit...  topic_0    0.582345\n",
              "1  When an army recruit is found dead, his fellow...  topic_2    0.538508\n",
              "2  In a postapocalyptic world, rag-doll robots hi...  topic_8    0.539209\n",
              "3  A brilliant group of students become card-coun...  topic_1    0.445551\n",
              "4  After an awful accident, a couple admitted to ...  topic_1    0.481330"
            ]
          },
          "metadata": {
            "tags": []
          },
          "execution_count": 105
        }
      ]
    },
    {
      "cell_type": "code",
      "metadata": {
        "colab": {
          "base_uri": "https://localhost:8080/",
          "height": 291
        },
        "id": "tmdUEEDgi1t1",
        "outputId": "6925bc70-e471-408d-d527-f354d579b892"
      },
      "source": [
        "# Visualizing the single topic per description for understanding\n",
        "\n",
        "plt.rcParams[\"figure.figsize\"] = (20,4)\n",
        "\n",
        "topic_frequency = df.iloc[:, :2].groupby('topic').count()\n",
        "ax = topic_frequency.plot.bar( legend=False)\n",
        "plt.title(\"Frequency of Topics\", size=12)\n",
        "# plt.xticks(rotation=45)\n",
        "ax.tick_params(axis='x', which='minor', labelsize='small', labelcolor='m', rotation=30)\n",
        "\n",
        "\n",
        "for p in ax.patches:\n",
        "    ax.annotate(str(p.get_height()), (p.get_x() * 1.005, p.get_height() * 1.005))\n",
        "\n",
        "plt.show()"
      ],
      "execution_count": 106,
      "outputs": [
        {
          "output_type": "display_data",
          "data": {
            "image/png": "[encoded data removed]",
            "text/plain": [
              "<Figure size 1440x288 with 1 Axes>"
            ]
          },
          "metadata": {
            "tags": []
          }
        }
      ]
    },
    {
      "cell_type": "code",
      "metadata": {
        "colab": {
          "base_uri": "https://localhost:8080/",
          "height": 204
        },
        "id": "6tEJ_QFqi57S",
        "outputId": "93e4eeae-1e01-4006-a596-8b17907262f4"
      },
      "source": [
        "topics_all = pd.DataFrame.from_dict(document_topic, orient='index')\n",
        "topic_column_names = ['topic_' + str(i) for i in range(0, 10)]\n",
        "topics_all.columns = topic_column_names\n",
        "#topics_all.to_csv(os.path.join(BASE_PATH, \"topic_propensities.csv\"))\n",
        "\n",
        "# print(topics_all.describe())\n",
        "display(topics_all.head())"
      ],
      "execution_count": 107,
      "outputs": [
        {
          "output_type": "display_data",
          "data": {
            "text/html": [
              "<div>\n",
              "<style scoped>\n",
              "    .dataframe tbody tr th:only-of-type {\n",
              "        vertical-align: middle;\n",
              "    }\n",
              "\n",
              "    .dataframe tbody tr th {\n",
              "        vertical-align: top;\n",
              "    }\n",
              "\n",
              "    .dataframe thead th {\n",
              "        text-align: right;\n",
              "    }\n",
              "</style>\n",
              "<table border=\"1\" class=\"dataframe\">\n",
              "  <thead>\n",
              "    <tr style=\"text-align: right;\">\n",
              "      <th></th>\n",
              "      <th>topic_0</th>\n",
              "      <th>topic_1</th>\n",
              "      <th>topic_2</th>\n",
              "      <th>topic_3</th>\n",
              "      <th>topic_4</th>\n",
              "      <th>topic_5</th>\n",
              "      <th>topic_6</th>\n",
              "      <th>topic_7</th>\n",
              "      <th>topic_8</th>\n",
              "      <th>topic_9</th>\n",
              "    </tr>\n",
              "  </thead>\n",
              "  <tbody>\n",
              "    <tr>\n",
              "      <th>0</th>\n",
              "      <td>0.582345</td>\n",
              "      <td>0.011073</td>\n",
              "      <td>0.095518</td>\n",
              "      <td>0.007460</td>\n",
              "      <td>0.006418</td>\n",
              "      <td>0.005631</td>\n",
              "      <td>0.005017</td>\n",
              "      <td>0.004523</td>\n",
              "      <td>0.278236</td>\n",
              "      <td>0.003779</td>\n",
              "    </tr>\n",
              "    <tr>\n",
              "      <th>1</th>\n",
              "      <td>0.018853</td>\n",
              "      <td>0.121595</td>\n",
              "      <td>0.538508</td>\n",
              "      <td>0.009494</td>\n",
              "      <td>0.099076</td>\n",
              "      <td>0.007167</td>\n",
              "      <td>0.098590</td>\n",
              "      <td>0.096665</td>\n",
              "      <td>0.005241</td>\n",
              "      <td>0.004810</td>\n",
              "    </tr>\n",
              "    <tr>\n",
              "      <th>2</th>\n",
              "      <td>0.111025</td>\n",
              "      <td>0.106558</td>\n",
              "      <td>0.011334</td>\n",
              "      <td>0.104085</td>\n",
              "      <td>0.008168</td>\n",
              "      <td>0.102668</td>\n",
              "      <td>0.006385</td>\n",
              "      <td>0.005757</td>\n",
              "      <td>0.539209</td>\n",
              "      <td>0.004810</td>\n",
              "    </tr>\n",
              "    <tr>\n",
              "      <th>3</th>\n",
              "      <td>0.181718</td>\n",
              "      <td>0.445551</td>\n",
              "      <td>0.008906</td>\n",
              "      <td>0.007460</td>\n",
              "      <td>0.084332</td>\n",
              "      <td>0.005631</td>\n",
              "      <td>0.253981</td>\n",
              "      <td>0.004523</td>\n",
              "      <td>0.004118</td>\n",
              "      <td>0.003779</td>\n",
              "    </tr>\n",
              "    <tr>\n",
              "      <th>4</th>\n",
              "      <td>0.226700</td>\n",
              "      <td>0.481330</td>\n",
              "      <td>0.097509</td>\n",
              "      <td>0.008034</td>\n",
              "      <td>0.084227</td>\n",
              "      <td>0.083422</td>\n",
              "      <td>0.005403</td>\n",
              "      <td>0.004871</td>\n",
              "      <td>0.004435</td>\n",
              "      <td>0.004070</td>\n",
              "    </tr>\n",
              "  </tbody>\n",
              "</table>\n",
              "</div>"
            ],
            "text/plain": [
              "    topic_0   topic_1   topic_2  ...   topic_7   topic_8   topic_9\n",
              "0  0.582345  0.011073  0.095518  ...  0.004523  0.278236  0.003779\n",
              "1  0.018853  0.121595  0.538508  ...  0.096665  0.005241  0.004810\n",
              "2  0.111025  0.106558  0.011334  ...  0.005757  0.539209  0.004810\n",
              "3  0.181718  0.445551  0.008906  ...  0.004523  0.004118  0.003779\n",
              "4  0.226700  0.481330  0.097509  ...  0.004871  0.004435  0.004070\n",
              "\n",
              "[5 rows x 10 columns]"
            ]
          },
          "metadata": {
            "tags": []
          }
        }
      ]
    },
    {
      "cell_type": "code",
      "metadata": {
        "id": "7yz2k4DgkZh0"
      },
      "source": [
        "data_c = pd.concat([df_final2, topics_all], axis=1)\n",
        "data_c = data_c[:-1]"
      ],
      "execution_count": 108,
      "outputs": []
    },
    {
      "cell_type": "code",
      "metadata": {
        "id": "_2YydeHGl504"
      },
      "source": [
        "df_matrix = data_c.drop(['Cast:missing'\\\n",
        "                          ],axis = 1)"
      ],
      "execution_count": 154,
      "outputs": []
    },
    {
      "cell_type": "code",
      "metadata": {
        "colab": {
          "base_uri": "https://localhost:8080/"
        },
        "id": "78IyEdfzpDQt",
        "outputId": "2b3351a0-bd7d-403b-ba33-f1e3e31da781"
      },
      "source": [
        "data_c.shape"
      ],
      "execution_count": 179,
      "outputs": [
        {
          "output_type": "execute_result",
          "data": {
            "text/plain": [
              "(5377, 233)"
            ]
          },
          "metadata": {
            "tags": []
          },
          "execution_count": 179
        }
      ]
    },
    {
      "cell_type": "code",
      "metadata": {
        "id": "ToHZvACzn0tT"
      },
      "source": [
        "dat = data_c.drop('title',axis=1)"
      ],
      "execution_count": 181,
      "outputs": []
    },
    {
      "cell_type": "code",
      "metadata": {
        "id": "Dp6MOqYcnI2R"
      },
      "source": [
        "df_matrix = df_matrix.drop('title',axis=1).to_numpy()\n",
        "\n",
        "from sklearn.preprocessing import StandardScaler\n",
        "scaler = StandardScaler().fit(df_matrix)\n",
        "df_matrix=scaler.transform(df_matrix)"
      ],
      "execution_count": 155,
      "outputs": []
    },
    {
      "cell_type": "code",
      "metadata": {
        "colab": {
          "base_uri": "https://localhost:8080/"
        },
        "id": "JsUDXWXUldDs",
        "outputId": "98c29ec7-e18b-4948-b932-09d56f4c8132"
      },
      "source": [
        "from sklearn.decomposition import PCA\n",
        "pca = PCA().fit(df_matrix)\n",
        "top_PCA=[\"%.2f\" % a for a in pca.explained_variance_ratio_ if a >=0.001]\n",
        "print(len(top_PCA))\n",
        "print(top_PCA)\n",
        "sumall=sum(pca.explained_variance_ratio_)\n",
        "\n",
        "pca39 = PCA(n_components=len(top_PCA)).fit(df_matrix)\n",
        "sum39=sum(pca39.explained_variance_ratio_)\n",
        "print (sum39/sumall)"
      ],
      "execution_count": 158,
      "outputs": [
        {
          "output_type": "stream",
          "text": [
            "228\n",
            "['0.02', '0.01', '0.01', '0.01', '0.01', '0.01', '0.01', '0.01', '0.01', '0.01', '0.01', '0.01', '0.01', '0.01', '0.01', '0.01', '0.01', '0.01', '0.01', '0.01', '0.01', '0.01', '0.01', '0.01', '0.01', '0.01', '0.01', '0.01', '0.01', '0.01', '0.01', '0.01', '0.01', '0.01', '0.01', '0.01', '0.01', '0.01', '0.01', '0.01', '0.01', '0.01', '0.01', '0.01', '0.01', '0.01', '0.01', '0.01', '0.01', '0.01', '0.01', '0.01', '0.01', '0.01', '0.01', '0.01', '0.01', '0.01', '0.01', '0.01', '0.01', '0.00', '0.00', '0.00', '0.00', '0.00', '0.00', '0.00', '0.00', '0.00', '0.00', '0.00', '0.00', '0.00', '0.00', '0.00', '0.00', '0.00', '0.00', '0.00', '0.00', '0.00', '0.00', '0.00', '0.00', '0.00', '0.00', '0.00', '0.00', '0.00', '0.00', '0.00', '0.00', '0.00', '0.00', '0.00', '0.00', '0.00', '0.00', '0.00', '0.00', '0.00', '0.00', '0.00', '0.00', '0.00', '0.00', '0.00', '0.00', '0.00', '0.00', '0.00', '0.00', '0.00', '0.00', '0.00', '0.00', '0.00', '0.00', '0.00', '0.00', '0.00', '0.00', '0.00', '0.00', '0.00', '0.00', '0.00', '0.00', '0.00', '0.00', '0.00', '0.00', '0.00', '0.00', '0.00', '0.00', '0.00', '0.00', '0.00', '0.00', '0.00', '0.00', '0.00', '0.00', '0.00', '0.00', '0.00', '0.00', '0.00', '0.00', '0.00', '0.00', '0.00', '0.00', '0.00', '0.00', '0.00', '0.00', '0.00', '0.00', '0.00', '0.00', '0.00', '0.00', '0.00', '0.00', '0.00', '0.00', '0.00', '0.00', '0.00', '0.00', '0.00', '0.00', '0.00', '0.00', '0.00', '0.00', '0.00', '0.00', '0.00', '0.00', '0.00', '0.00', '0.00', '0.00', '0.00', '0.00', '0.00', '0.00', '0.00', '0.00', '0.00', '0.00', '0.00', '0.00', '0.00', '0.00', '0.00', '0.00', '0.00', '0.00', '0.00', '0.00', '0.00', '0.00', '0.00', '0.00', '0.00', '0.00', '0.00', '0.00', '0.00', '0.00', '0.00', '0.00', '0.00', '0.00', '0.00', '0.00', '0.00', '0.00', '0.00', '0.00', '0.00', '0.00', '0.00']\n",
            "0.9992717438962239\n"
          ],
          "name": "stdout"
        }
      ]
    },
    {
      "cell_type": "code",
      "metadata": {
        "colab": {
          "base_uri": "https://localhost:8080/",
          "height": 419
        },
        "id": "144_11HbnRyf",
        "outputId": "44675e23-0e61-416e-8d3d-fc0ee6d1dda1"
      },
      "source": [
        "first_comp = pca39.components_[1]\n",
        "first_comps = pd.DataFrame(list(zip(first_comp, df_final2.columns)), columns=['weights', 'features'])\n",
        "first_comps['abs_weights']=first_comps['weights'].apply(lambda x: np.abs(x))\n",
        "first_comps.sort_values('abs_weights', ascending=False,inplace=True)\n",
        "\n",
        "Top_39_features=first_comps\n",
        "Top_39_features"
      ],
      "execution_count": 159,
      "outputs": [
        {
          "output_type": "execute_result",
          "data": {
            "text/html": [
              "<div>\n",
              "<style scoped>\n",
              "    .dataframe tbody tr th:only-of-type {\n",
              "        vertical-align: middle;\n",
              "    }\n",
              "\n",
              "    .dataframe tbody tr th {\n",
              "        vertical-align: top;\n",
              "    }\n",
              "\n",
              "    .dataframe thead th {\n",
              "        text-align: right;\n",
              "    }\n",
              "</style>\n",
              "<table border=\"1\" class=\"dataframe\">\n",
              "  <thead>\n",
              "    <tr style=\"text-align: right;\">\n",
              "      <th></th>\n",
              "      <th>weights</th>\n",
              "      <th>features</th>\n",
              "      <th>abs_weights</th>\n",
              "    </tr>\n",
              "  </thead>\n",
              "  <tbody>\n",
              "    <tr>\n",
              "      <th>20</th>\n",
              "      <td>0.349224</td>\n",
              "      <td>genre:Sports Movies</td>\n",
              "      <td>0.349224</td>\n",
              "    </tr>\n",
              "    <tr>\n",
              "      <th>161</th>\n",
              "      <td>0.278597</td>\n",
              "      <td>meet</td>\n",
              "      <td>0.278597</td>\n",
              "    </tr>\n",
              "    <tr>\n",
              "      <th>197</th>\n",
              "      <td>0.218098</td>\n",
              "      <td>comedy</td>\n",
              "      <td>0.218098</td>\n",
              "    </tr>\n",
              "    <tr>\n",
              "      <th>155</th>\n",
              "      <td>0.216446</td>\n",
              "      <td>force</td>\n",
              "      <td>0.216446</td>\n",
              "    </tr>\n",
              "    <tr>\n",
              "      <th>72</th>\n",
              "      <td>0.208519</td>\n",
              "      <td>Cast:Sanjay Dutt</td>\n",
              "      <td>0.208519</td>\n",
              "    </tr>\n",
              "    <tr>\n",
              "      <th>...</th>\n",
              "      <td>...</td>\n",
              "      <td>...</td>\n",
              "      <td>...</td>\n",
              "    </tr>\n",
              "    <tr>\n",
              "      <th>98</th>\n",
              "      <td>-0.001311</td>\n",
              "      <td>Director:Ozan Açıktan</td>\n",
              "      <td>0.001311</td>\n",
              "    </tr>\n",
              "    <tr>\n",
              "      <th>118</th>\n",
              "      <td>-0.001023</td>\n",
              "      <td>Director:Steven Soderbergh</td>\n",
              "      <td>0.001023</td>\n",
              "    </tr>\n",
              "    <tr>\n",
              "      <th>89</th>\n",
              "      <td>0.000879</td>\n",
              "      <td>Director:Yılmaz Erdoğan</td>\n",
              "      <td>0.000879</td>\n",
              "    </tr>\n",
              "    <tr>\n",
              "      <th>158</th>\n",
              "      <td>0.000567</td>\n",
              "      <td>daughter</td>\n",
              "      <td>0.000567</td>\n",
              "    </tr>\n",
              "    <tr>\n",
              "      <th>220</th>\n",
              "      <td>0.000258</td>\n",
              "      <td>travel</td>\n",
              "      <td>0.000258</td>\n",
              "    </tr>\n",
              "  </tbody>\n",
              "</table>\n",
              "<p>223 rows × 3 columns</p>\n",
              "</div>"
            ],
            "text/plain": [
              "      weights                    features  abs_weights\n",
              "20   0.349224         genre:Sports Movies     0.349224\n",
              "161  0.278597                        meet     0.278597\n",
              "197  0.218098                      comedy     0.218098\n",
              "155  0.216446                       force     0.216446\n",
              "72   0.208519            Cast:Sanjay Dutt     0.208519\n",
              "..        ...                         ...          ...\n",
              "98  -0.001311       Director:Ozan Açıktan     0.001311\n",
              "118 -0.001023  Director:Steven Soderbergh     0.001023\n",
              "89   0.000879     Director:Yılmaz Erdoğan     0.000879\n",
              "158  0.000567                    daughter     0.000567\n",
              "220  0.000258                      travel     0.000258\n",
              "\n",
              "[223 rows x 3 columns]"
            ]
          },
          "metadata": {
            "tags": []
          },
          "execution_count": 159
        }
      ]
    },
    {
      "cell_type": "markdown",
      "metadata": {
        "id": "aKFb--LN3i1L"
      },
      "source": [
        "### K MEANS"
      ]
    },
    {
      "cell_type": "code",
      "metadata": {
        "id": "tlXmJE3Cp2Wh"
      },
      "source": [
        "from sklearn.cluster import MiniBatchKMeans\n",
        "Xpca=pca39.transform(df_matrix)\n",
        "km=MiniBatchKMeans(n_clusters=13,init='k-means++',max_iter=500,n_init=1000,init_size=1000,batch_size=1000,\n",
        "                  verbose=False)\n",
        "km_model=km.fit(Xpca)\n",
        "kmeanlabels=km.labels_\n",
        "kmeanclusters = km.predict(Xpca)\n",
        "kmeandistances = km.transform(Xpca)"
      ],
      "execution_count": 166,
      "outputs": []
    },
    {
      "cell_type": "code",
      "metadata": {
        "colab": {
          "base_uri": "https://localhost:8080/"
        },
        "id": "4GsGrbQ3p-QC",
        "outputId": "57bb82b1-c9bb-48cd-8ed2-dfd19f378b48"
      },
      "source": [
        "films_kmeans = { 'title': list(data_c.title), 'rank': np.arange(0,len(data_c),1),'cluster': kmeanlabels}\n",
        "\n",
        "frame_kmeans = pd.DataFrame(films_kmeans, index = [kmeanlabels] , columns = ['rank', 'title', 'cluster'])\n",
        "\n",
        "frame_kmeans['cluster'].value_counts() #number of films per cluster (clusters from 0 to 4)"
      ],
      "execution_count": 167,
      "outputs": [
        {
          "output_type": "execute_result",
          "data": {
            "text/plain": [
              "8     2066\n",
              "10    1230\n",
              "5      853\n",
              "7      433\n",
              "1      333\n",
              "4      276\n",
              "2      131\n",
              "0       19\n",
              "11       8\n",
              "9        8\n",
              "3        7\n",
              "12       7\n",
              "6        6\n",
              "Name: cluster, dtype: int64"
            ]
          },
          "metadata": {
            "tags": []
          },
          "execution_count": 167
        }
      ]
    },
    {
      "cell_type": "code",
      "metadata": {
        "id": "1xNa2UWBrmq5"
      },
      "source": [
        "from sklearn.cluster import KMeans\n",
        "from sklearn import metrics\n",
        "from scipy.spatial.distance import cdist\n",
        "import numpy as np\n",
        "import matplotlib.pyplot as plt\n",
        "\n",
        "distortions = []\n",
        "inertias = []\n",
        "mapping1 = {}\n",
        "mapping2 = {}\n",
        "K = range(1, 20)\n",
        "\n",
        "#scaler = StandardScaler().fit(data_c)\n",
        "#df_matrix=scaler.transform()\n",
        "\n",
        "for k in K:\n",
        "    # Building and fitting the model\n",
        "    kmeanModel = KMeans(n_clusters=k).fit(Xpca)\n",
        "    kmeanModel.fit(Xpca)\n",
        " \n",
        "    distortions.append(sum(np.min(cdist(Xpca, kmeanModel.cluster_centers_,\n",
        "                                        'euclidean'), axis=1)) / data_c.shape[0])\n",
        "    inertias.append(kmeanModel.inertia_)\n",
        " \n",
        "    mapping1[k] = sum(np.min(cdist(Xpca, kmeanModel.cluster_centers_,\n",
        "                                   'euclidean'), axis=1)) / data_c.shape[0]\n",
        "    mapping2[k] = kmeanModel.inertia_"
      ],
      "execution_count": 175,
      "outputs": []
    },
    {
      "cell_type": "code",
      "metadata": {
        "colab": {
          "base_uri": "https://localhost:8080/"
        },
        "id": "RvS_D57Or_6w",
        "outputId": "a4f38bf3-f3bb-41b4-af96-dbbfc7a0a2c7"
      },
      "source": [
        "for key, val in mapping2.items():\n",
        "    print(f'{key} : {val}')"
      ],
      "execution_count": 173,
      "outputs": [
        {
          "output_type": "stream",
          "text": [
            "1 : 1241182.4425608292\n",
            "2 : 1226827.274588942\n",
            "3 : 1214818.0181419025\n",
            "4 : 1205914.2405876194\n",
            "5 : 1195139.2075092075\n",
            "6 : 1191656.6721450216\n",
            "7 : 1184535.1350892936\n",
            "8 : 1177345.4948542784\n",
            "9 : 1167148.0345688183\n"
          ],
          "name": "stdout"
        }
      ]
    },
    {
      "cell_type": "code",
      "metadata": {
        "colab": {
          "base_uri": "https://localhost:8080/",
          "height": 262
        },
        "id": "H7UPgIMRsGLb",
        "outputId": "3df7475e-1013-4cd8-eade-0213f16039db"
      },
      "source": [
        "plt.plot(K, inertias, 'bx-')\n",
        "plt.xlabel('Values of K')\n",
        "plt.ylabel('Inertia')\n",
        "plt.title('The Elbow Method using Inertia')\n",
        "plt.show()"
      ],
      "execution_count": 176,
      "outputs": [
        {
          "output_type": "display_data",
          "data": {
            "image/png": "[encoded data removed]",
            "text/plain": [
              "<Figure size 1440x288 with 1 Axes>"
            ]
          },
          "metadata": {
            "tags": []
          }
        }
      ]
    },
    {
      "cell_type": "markdown",
      "metadata": {
        "id": "alt2l2113QYe"
      },
      "source": [
        "# Hiearchial Clustering"
      ]
    },
    {
      "cell_type": "code",
      "metadata": {
        "id": "P4KFNdfDtbJo"
      },
      "source": [
        "from sklearn.cluster import AgglomerativeClustering\n",
        "import sklearn.metrics as metrics\n",
        "\n",
        "model = AgglomerativeClustering(n_clusters= 5, linkage = 'ward', affinity= 'euclidean')\n",
        "cluster = model.fit_predict(dat).tolist()\n",
        "dat[\"cluster\"] = cluster"
      ],
      "execution_count": 193,
      "outputs": []
    },
    {
      "cell_type": "code",
      "metadata": {
        "colab": {
          "base_uri": "https://localhost:8080/"
        },
        "id": "E06FVfi5twZG",
        "outputId": "1801c9f1-5d4e-4afd-b2dc-e13d76df1313"
      },
      "source": [
        "metrics.silhouette_score(dat, model.labels_)"
      ],
      "execution_count": 194,
      "outputs": [
        {
          "output_type": "execute_result",
          "data": {
            "text/plain": [
              "0.43980379385069157"
            ]
          },
          "metadata": {
            "tags": []
          },
          "execution_count": 194
        }
      ]
    },
    {
      "cell_type": "code",
      "metadata": {
        "colab": {
          "base_uri": "https://localhost:8080/",
          "height": 418
        },
        "id": "F2hQQydpu-q3",
        "outputId": "1cb7b4b5-7059-401a-ff73-02c217e06f09"
      },
      "source": [
        "# Silhouette Score for Hierarchical Clustering\n",
        "\n",
        "# Import ElbowVisualizer\n",
        "from yellowbrick.cluster import KElbowVisualizer\n",
        "model = AgglomerativeClustering()\n",
        "# k is range of number of clusters.\n",
        "visualizer = KElbowVisualizer(model, k=(2,30), metric='silhouette', timings= True, locate_elbow=False)\n",
        "visualizer.fit(dat)        # Fit the data to the visualizer\n",
        "#visualizer.show()        # Finalize and render the figure\n",
        "\n",
        "df3 = pd.DataFrame(visualizer.k_values_,columns=['centers'])\n",
        "df3['scores'] = visualizer.k_scores_\n",
        "df4 = df3[df3.scores == df3.scores.max()]\n",
        "print('Optimal number of clusters based on silhouette score:', df4['centers'].tolist())"
      ],
      "execution_count": 186,
      "outputs": [
        {
          "output_type": "stream",
          "text": [
            "/usr/local/lib/python3.7/dist-packages/sklearn/utils/deprecation.py:144: FutureWarning: The sklearn.metrics.classification module is  deprecated in version 0.22 and will be removed in version 0.24. The corresponding classes / functions should instead be imported from sklearn.metrics. Anything that cannot be imported from sklearn.metrics is now part of the private API.\n",
            "  warnings.warn(message, FutureWarning)\n"
          ],
          "name": "stderr"
        },
        {
          "output_type": "stream",
          "text": [
            "Optimal number of clusters based on silhouette score: [5]\n"
          ],
          "name": "stdout"
        },
        {
          "output_type": "display_data",
          "data": {
            "image/png": "[encoded data removed]",
            "text/plain": [
              "<Figure size 576x396 with 2 Axes>"
            ]
          },
          "metadata": {
            "tags": []
          }
        }
      ]
    },
    {
      "cell_type": "code",
      "metadata": {
        "id": "T0ANObOZ1YZs"
      },
      "source": [
        "from sklearn.cluster import AgglomerativeClustering\n",
        "import sklearn.metrics as metrics\n",
        "cluster_model = AgglomerativeClustering(n_clusters=5)  \n",
        "cluster = cluster_model.fit_predict(dat).tolist()"
      ],
      "execution_count": null,
      "outputs": []
    },
    {
      "cell_type": "code",
      "metadata": {
        "colab": {
          "base_uri": "https://localhost:8080/",
          "height": 1000
        },
        "id": "pCXrgMH9vPDL",
        "outputId": "6bbf0abe-2270-4d91-99d0-00bd59eb8814"
      },
      "source": [
        "# Calinski Harabasz Score for Hierarchical Clustering\n",
        "\n",
        "# Import ElbowVisualizer\n",
        "from yellowbrick.cluster import KElbowVisualizer\n",
        "model = AgglomerativeClustering()\n",
        "# k is range of number of clusters.\n",
        "visualizer = KElbowVisualizer(model, k=(2,30),metric= 'calinski_harabaz', timings= True, locate_elbow=False)\n",
        "visualizer.fit(dat)        # Fit the data to the visualizer\n",
        "#visualizer.show()            # Finalize and render the figure\n",
        "\n",
        "df3 = pd.DataFrame(visualizer.k_values_,columns=['centers'])\n",
        "df3['scores'] = visualizer.k_scores_\n",
        "df4 = df3[df3.scores == df3.scores.max()]\n",
        "print('Optimal number of clusters based on calinski_harabaz:', df4['centers'].tolist())"
      ],
      "execution_count": 187,
      "outputs": [
        {
          "output_type": "stream",
          "text": [
            "/usr/local/lib/python3.7/dist-packages/sklearn/utils/deprecation.py:87: FutureWarning: Function calinski_harabaz_score is deprecated; Function 'calinski_harabaz_score' has been renamed to 'calinski_harabasz_score' and will be removed in version 0.23.\n",
            "  warnings.warn(msg, category=FutureWarning)\n",
            "/usr/local/lib/python3.7/dist-packages/sklearn/utils/deprecation.py:87: FutureWarning: Function calinski_harabaz_score is deprecated; Function 'calinski_harabaz_score' has been renamed to 'calinski_harabasz_score' and will be removed in version 0.23.\n",
            "  warnings.warn(msg, category=FutureWarning)\n",
            "/usr/local/lib/python3.7/dist-packages/sklearn/utils/deprecation.py:87: FutureWarning: Function calinski_harabaz_score is deprecated; Function 'calinski_harabaz_score' has been renamed to 'calinski_harabasz_score' and will be removed in version 0.23.\n",
            "  warnings.warn(msg, category=FutureWarning)\n",
            "/usr/local/lib/python3.7/dist-packages/sklearn/utils/deprecation.py:87: FutureWarning: Function calinski_harabaz_score is deprecated; Function 'calinski_harabaz_score' has been renamed to 'calinski_harabasz_score' and will be removed in version 0.23.\n",
            "  warnings.warn(msg, category=FutureWarning)\n",
            "/usr/local/lib/python3.7/dist-packages/sklearn/utils/deprecation.py:87: FutureWarning: Function calinski_harabaz_score is deprecated; Function 'calinski_harabaz_score' has been renamed to 'calinski_harabasz_score' and will be removed in version 0.23.\n",
            "  warnings.warn(msg, category=FutureWarning)\n",
            "/usr/local/lib/python3.7/dist-packages/sklearn/utils/deprecation.py:87: FutureWarning: Function calinski_harabaz_score is deprecated; Function 'calinski_harabaz_score' has been renamed to 'calinski_harabasz_score' and will be removed in version 0.23.\n",
            "  warnings.warn(msg, category=FutureWarning)\n",
            "/usr/local/lib/python3.7/dist-packages/sklearn/utils/deprecation.py:87: FutureWarning: Function calinski_harabaz_score is deprecated; Function 'calinski_harabaz_score' has been renamed to 'calinski_harabasz_score' and will be removed in version 0.23.\n",
            "  warnings.warn(msg, category=FutureWarning)\n",
            "/usr/local/lib/python3.7/dist-packages/sklearn/utils/deprecation.py:87: FutureWarning: Function calinski_harabaz_score is deprecated; Function 'calinski_harabaz_score' has been renamed to 'calinski_harabasz_score' and will be removed in version 0.23.\n",
            "  warnings.warn(msg, category=FutureWarning)\n",
            "/usr/local/lib/python3.7/dist-packages/sklearn/utils/deprecation.py:87: FutureWarning: Function calinski_harabaz_score is deprecated; Function 'calinski_harabaz_score' has been renamed to 'calinski_harabasz_score' and will be removed in version 0.23.\n",
            "  warnings.warn(msg, category=FutureWarning)\n",
            "/usr/local/lib/python3.7/dist-packages/sklearn/utils/deprecation.py:87: FutureWarning: Function calinski_harabaz_score is deprecated; Function 'calinski_harabaz_score' has been renamed to 'calinski_harabasz_score' and will be removed in version 0.23.\n",
            "  warnings.warn(msg, category=FutureWarning)\n",
            "/usr/local/lib/python3.7/dist-packages/sklearn/utils/deprecation.py:87: FutureWarning: Function calinski_harabaz_score is deprecated; Function 'calinski_harabaz_score' has been renamed to 'calinski_harabasz_score' and will be removed in version 0.23.\n",
            "  warnings.warn(msg, category=FutureWarning)\n",
            "/usr/local/lib/python3.7/dist-packages/sklearn/utils/deprecation.py:87: FutureWarning: Function calinski_harabaz_score is deprecated; Function 'calinski_harabaz_score' has been renamed to 'calinski_harabasz_score' and will be removed in version 0.23.\n",
            "  warnings.warn(msg, category=FutureWarning)\n",
            "/usr/local/lib/python3.7/dist-packages/sklearn/utils/deprecation.py:87: FutureWarning: Function calinski_harabaz_score is deprecated; Function 'calinski_harabaz_score' has been renamed to 'calinski_harabasz_score' and will be removed in version 0.23.\n",
            "  warnings.warn(msg, category=FutureWarning)\n",
            "/usr/local/lib/python3.7/dist-packages/sklearn/utils/deprecation.py:87: FutureWarning: Function calinski_harabaz_score is deprecated; Function 'calinski_harabaz_score' has been renamed to 'calinski_harabasz_score' and will be removed in version 0.23.\n",
            "  warnings.warn(msg, category=FutureWarning)\n",
            "/usr/local/lib/python3.7/dist-packages/sklearn/utils/deprecation.py:87: FutureWarning: Function calinski_harabaz_score is deprecated; Function 'calinski_harabaz_score' has been renamed to 'calinski_harabasz_score' and will be removed in version 0.23.\n",
            "  warnings.warn(msg, category=FutureWarning)\n",
            "/usr/local/lib/python3.7/dist-packages/sklearn/utils/deprecation.py:87: FutureWarning: Function calinski_harabaz_score is deprecated; Function 'calinski_harabaz_score' has been renamed to 'calinski_harabasz_score' and will be removed in version 0.23.\n",
            "  warnings.warn(msg, category=FutureWarning)\n",
            "/usr/local/lib/python3.7/dist-packages/sklearn/utils/deprecation.py:87: FutureWarning: Function calinski_harabaz_score is deprecated; Function 'calinski_harabaz_score' has been renamed to 'calinski_harabasz_score' and will be removed in version 0.23.\n",
            "  warnings.warn(msg, category=FutureWarning)\n",
            "/usr/local/lib/python3.7/dist-packages/sklearn/utils/deprecation.py:87: FutureWarning: Function calinski_harabaz_score is deprecated; Function 'calinski_harabaz_score' has been renamed to 'calinski_harabasz_score' and will be removed in version 0.23.\n",
            "  warnings.warn(msg, category=FutureWarning)\n",
            "/usr/local/lib/python3.7/dist-packages/sklearn/utils/deprecation.py:87: FutureWarning: Function calinski_harabaz_score is deprecated; Function 'calinski_harabaz_score' has been renamed to 'calinski_harabasz_score' and will be removed in version 0.23.\n",
            "  warnings.warn(msg, category=FutureWarning)\n",
            "/usr/local/lib/python3.7/dist-packages/sklearn/utils/deprecation.py:87: FutureWarning: Function calinski_harabaz_score is deprecated; Function 'calinski_harabaz_score' has been renamed to 'calinski_harabasz_score' and will be removed in version 0.23.\n",
            "  warnings.warn(msg, category=FutureWarning)\n",
            "/usr/local/lib/python3.7/dist-packages/sklearn/utils/deprecation.py:87: FutureWarning: Function calinski_harabaz_score is deprecated; Function 'calinski_harabaz_score' has been renamed to 'calinski_harabasz_score' and will be removed in version 0.23.\n",
            "  warnings.warn(msg, category=FutureWarning)\n",
            "/usr/local/lib/python3.7/dist-packages/sklearn/utils/deprecation.py:87: FutureWarning: Function calinski_harabaz_score is deprecated; Function 'calinski_harabaz_score' has been renamed to 'calinski_harabasz_score' and will be removed in version 0.23.\n",
            "  warnings.warn(msg, category=FutureWarning)\n",
            "/usr/local/lib/python3.7/dist-packages/sklearn/utils/deprecation.py:87: FutureWarning: Function calinski_harabaz_score is deprecated; Function 'calinski_harabaz_score' has been renamed to 'calinski_harabasz_score' and will be removed in version 0.23.\n",
            "  warnings.warn(msg, category=FutureWarning)\n",
            "/usr/local/lib/python3.7/dist-packages/sklearn/utils/deprecation.py:87: FutureWarning: Function calinski_harabaz_score is deprecated; Function 'calinski_harabaz_score' has been renamed to 'calinski_harabasz_score' and will be removed in version 0.23.\n",
            "  warnings.warn(msg, category=FutureWarning)\n",
            "/usr/local/lib/python3.7/dist-packages/sklearn/utils/deprecation.py:87: FutureWarning: Function calinski_harabaz_score is deprecated; Function 'calinski_harabaz_score' has been renamed to 'calinski_harabasz_score' and will be removed in version 0.23.\n",
            "  warnings.warn(msg, category=FutureWarning)\n",
            "/usr/local/lib/python3.7/dist-packages/sklearn/utils/deprecation.py:87: FutureWarning: Function calinski_harabaz_score is deprecated; Function 'calinski_harabaz_score' has been renamed to 'calinski_harabasz_score' and will be removed in version 0.23.\n",
            "  warnings.warn(msg, category=FutureWarning)\n",
            "/usr/local/lib/python3.7/dist-packages/sklearn/utils/deprecation.py:87: FutureWarning: Function calinski_harabaz_score is deprecated; Function 'calinski_harabaz_score' has been renamed to 'calinski_harabasz_score' and will be removed in version 0.23.\n",
            "  warnings.warn(msg, category=FutureWarning)\n",
            "/usr/local/lib/python3.7/dist-packages/sklearn/utils/deprecation.py:87: FutureWarning: Function calinski_harabaz_score is deprecated; Function 'calinski_harabaz_score' has been renamed to 'calinski_harabasz_score' and will be removed in version 0.23.\n",
            "  warnings.warn(msg, category=FutureWarning)\n"
          ],
          "name": "stderr"
        },
        {
          "output_type": "stream",
          "text": [
            "Optimal number of clusters based on calinski_harabaz: [4]\n"
          ],
          "name": "stdout"
        },
        {
          "output_type": "display_data",
          "data": {
            "image/png": "[encoded data removed]",
            "text/plain": [
              "<Figure size 576x396 with 2 Axes>"
            ]
          },
          "metadata": {
            "tags": []
          }
        }
      ]
    },
    {
      "cell_type": "code",
      "metadata": {
        "colab": {
          "base_uri": "https://localhost:8080/",
          "height": 367
        },
        "id": "DGkBm0kiv9BW",
        "outputId": "5a346e6a-0e8b-44f7-dce6-e9df350cdb09"
      },
      "source": [
        "# Silhouette Score for Hierarchical Clustering\n",
        "\n",
        "# Import ElbowVisualizer\n",
        "from yellowbrick.cluster import KElbowVisualizer\n",
        "model = KMeans()\n",
        "# k is range of number of clusters.\n",
        "visualizer = KElbowVisualizer(model, k=(2,30), metric='silhouette', timings= True, locate_elbow=False)\n",
        "visualizer.fit(dat)        # Fit the data to the visualizer\n",
        "#visualizer.show()        # Finalize and render the figure\n",
        "\n",
        "df3 = pd.DataFrame(visualizer.k_values_,columns=['centers'])\n",
        "df3['scores'] = visualizer.k_scores_\n",
        "df4 = df3[df3.scores == df3.scores.max()]\n",
        "print('Optimal number of clusters based on silhouette score:', df4['centers'].tolist())"
      ],
      "execution_count": 188,
      "outputs": [
        {
          "output_type": "stream",
          "text": [
            "Optimal number of clusters based on silhouette score: [3]\n"
          ],
          "name": "stdout"
        },
        {
          "output_type": "display_data",
          "data": {
            "image/png": "[encoded data removed]",
            "text/plain": [
              "<Figure size 576x396 with 2 Axes>"
            ]
          },
          "metadata": {
            "tags": []
          }
        }
      ]
    },
    {
      "cell_type": "markdown",
      "metadata": {
        "id": "2O3XX-mcyQ2t"
      },
      "source": [
        "# **Cluster Analysis**"
      ]
    },
    {
      "cell_type": "code",
      "metadata": {
        "colab": {
          "base_uri": "https://localhost:8080/",
          "height": 204
        },
        "id": "kLfa_K331xvm",
        "outputId": "58941908-c86a-4fd0-ee42-c30be101d179"
      },
      "source": [
        "df_for_h_visual = df\n",
        "df_for_h_visual[\"cluster\"] = dat[\"cluster\"]\n",
        "#df_for_h_visual.drop(['propensity'], axis = 1, inplace=True)\n",
        "df_for_h_visual.topic.fillna(value=\"Unknown\", inplace=True)\n",
        "df_for_h_visual.head()"
      ],
      "execution_count": 212,
      "outputs": [
        {
          "output_type": "execute_result",
          "data": {
            "text/html": [
              "<div>\n",
              "<style scoped>\n",
              "    .dataframe tbody tr th:only-of-type {\n",
              "        vertical-align: middle;\n",
              "    }\n",
              "\n",
              "    .dataframe tbody tr th {\n",
              "        vertical-align: top;\n",
              "    }\n",
              "\n",
              "    .dataframe thead th {\n",
              "        text-align: right;\n",
              "    }\n",
              "</style>\n",
              "<table border=\"1\" class=\"dataframe\">\n",
              "  <thead>\n",
              "    <tr style=\"text-align: right;\">\n",
              "      <th></th>\n",
              "      <th>description</th>\n",
              "      <th>topic</th>\n",
              "      <th>propensity</th>\n",
              "      <th>cluster</th>\n",
              "      <th>title</th>\n",
              "    </tr>\n",
              "  </thead>\n",
              "  <tbody>\n",
              "    <tr>\n",
              "      <th>0</th>\n",
              "      <td>After a devastating earthquake hits Mexico Cit...</td>\n",
              "      <td>topic_0</td>\n",
              "      <td>0.582345</td>\n",
              "      <td>1</td>\n",
              "      <td>7:19</td>\n",
              "    </tr>\n",
              "    <tr>\n",
              "      <th>1</th>\n",
              "      <td>When an army recruit is found dead, his fellow...</td>\n",
              "      <td>topic_2</td>\n",
              "      <td>0.538508</td>\n",
              "      <td>1</td>\n",
              "      <td>23:59</td>\n",
              "    </tr>\n",
              "    <tr>\n",
              "      <th>2</th>\n",
              "      <td>In a postapocalyptic world, rag-doll robots hi...</td>\n",
              "      <td>topic_8</td>\n",
              "      <td>0.539209</td>\n",
              "      <td>1</td>\n",
              "      <td>9</td>\n",
              "    </tr>\n",
              "    <tr>\n",
              "      <th>3</th>\n",
              "      <td>A brilliant group of students become card-coun...</td>\n",
              "      <td>topic_1</td>\n",
              "      <td>0.445551</td>\n",
              "      <td>0</td>\n",
              "      <td>21</td>\n",
              "    </tr>\n",
              "    <tr>\n",
              "      <th>4</th>\n",
              "      <td>After an awful accident, a couple admitted to ...</td>\n",
              "      <td>topic_1</td>\n",
              "      <td>0.481330</td>\n",
              "      <td>1</td>\n",
              "      <td>122</td>\n",
              "    </tr>\n",
              "  </tbody>\n",
              "</table>\n",
              "</div>"
            ],
            "text/plain": [
              "                                         description    topic  ...  cluster  title\n",
              "0  After a devastating earthquake hits Mexico Cit...  topic_0  ...        1   7:19\n",
              "1  When an army recruit is found dead, his fellow...  topic_2  ...        1  23:59\n",
              "2  In a postapocalyptic world, rag-doll robots hi...  topic_8  ...        1      9\n",
              "3  A brilliant group of students become card-coun...  topic_1  ...        0     21\n",
              "4  After an awful accident, a couple admitted to ...  topic_1  ...        1    122\n",
              "\n",
              "[5 rows x 5 columns]"
            ]
          },
          "metadata": {
            "tags": []
          },
          "execution_count": 212
        }
      ]
    },
    {
      "cell_type": "code",
      "metadata": {
        "colab": {
          "base_uri": "https://localhost:8080/",
          "height": 392
        },
        "id": "nrVMTScM12Li",
        "outputId": "362a5607-1692-48d6-8984-36f5a5441d78"
      },
      "source": [
        "df_histo = df_for_h_visual.groupby(['topic','cluster']).count().reset_index()\n",
        "df_histo = df_histo.pivot(index='topic', columns='cluster', values='description')\n",
        "df_histo.columns = [\"c0\", \"c1\", \"c2\", \"c3\",\"c4\"]\n",
        "\n",
        "ax = df_histo.plot.bar(stacked=True,   colormap='inferno', edgecolor='black', linewidth=1)\n",
        "\n",
        "ax.legend(loc='center left', bbox_to_anchor=(1.0, .5))\n",
        "ax.spines['top'].set_visible(False)\n",
        "ax.spines['right'].set_visible(False)\n",
        "ax.spines['bottom'].set_visible(False)\n",
        "ax.spines['left'].set_visible(False)\n",
        "\n",
        "plt.show()"
      ],
      "execution_count": 213,
      "outputs": [
        {
          "output_type": "display_data",
          "data": {
            "image/png": "[encoded data removed]",
            "text/plain": [
              "<Figure size 576x396 with 1 Axes>"
            ]
          },
          "metadata": {
            "tags": []
          }
        }
      ]
    },
    {
      "cell_type": "code",
      "metadata": {
        "colab": {
          "base_uri": "https://localhost:8080/",
          "height": 235
        },
        "id": "wyM-Rytx15u5",
        "outputId": "a01365c8-059a-4dd8-9090-965e11afd0c9"
      },
      "source": [
        "df_for_h_visual.groupby('cluster').count()"
      ],
      "execution_count": 214,
      "outputs": [
        {
          "output_type": "execute_result",
          "data": {
            "text/html": [
              "<div>\n",
              "<style scoped>\n",
              "    .dataframe tbody tr th:only-of-type {\n",
              "        vertical-align: middle;\n",
              "    }\n",
              "\n",
              "    .dataframe tbody tr th {\n",
              "        vertical-align: top;\n",
              "    }\n",
              "\n",
              "    .dataframe thead th {\n",
              "        text-align: right;\n",
              "    }\n",
              "</style>\n",
              "<table border=\"1\" class=\"dataframe\">\n",
              "  <thead>\n",
              "    <tr style=\"text-align: right;\">\n",
              "      <th></th>\n",
              "      <th>description</th>\n",
              "      <th>topic</th>\n",
              "      <th>propensity</th>\n",
              "      <th>title</th>\n",
              "    </tr>\n",
              "    <tr>\n",
              "      <th>cluster</th>\n",
              "      <th></th>\n",
              "      <th></th>\n",
              "      <th></th>\n",
              "      <th></th>\n",
              "    </tr>\n",
              "  </thead>\n",
              "  <tbody>\n",
              "    <tr>\n",
              "      <th>0</th>\n",
              "      <td>1794</td>\n",
              "      <td>1794</td>\n",
              "      <td>1504</td>\n",
              "      <td>1794</td>\n",
              "    </tr>\n",
              "    <tr>\n",
              "      <th>1</th>\n",
              "      <td>2411</td>\n",
              "      <td>2411</td>\n",
              "      <td>2035</td>\n",
              "      <td>2411</td>\n",
              "    </tr>\n",
              "    <tr>\n",
              "      <th>2</th>\n",
              "      <td>606</td>\n",
              "      <td>606</td>\n",
              "      <td>540</td>\n",
              "      <td>606</td>\n",
              "    </tr>\n",
              "    <tr>\n",
              "      <th>3</th>\n",
              "      <td>304</td>\n",
              "      <td>304</td>\n",
              "      <td>261</td>\n",
              "      <td>304</td>\n",
              "    </tr>\n",
              "    <tr>\n",
              "      <th>4</th>\n",
              "      <td>262</td>\n",
              "      <td>262</td>\n",
              "      <td>216</td>\n",
              "      <td>262</td>\n",
              "    </tr>\n",
              "  </tbody>\n",
              "</table>\n",
              "</div>"
            ],
            "text/plain": [
              "         description  topic  propensity  title\n",
              "cluster                                       \n",
              "0               1794   1794        1504   1794\n",
              "1               2411   2411        2035   2411\n",
              "2                606    606         540    606\n",
              "3                304    304         261    304\n",
              "4                262    262         216    262"
            ]
          },
          "metadata": {
            "tags": []
          },
          "execution_count": 214
        }
      ]
    },
    {
      "cell_type": "code",
      "metadata": {
        "colab": {
          "base_uri": "https://localhost:8080/",
          "height": 383
        },
        "id": "Z73X2vHUxvbg",
        "outputId": "7cee9f8d-c6e5-4814-97a3-bda0dba4d522"
      },
      "source": [
        "data_c = dat\n",
        "data_c.head()\n",
        "cols = [\n",
        "'genre:Action & Adventure',\n",
        "'genre:Anime Features',\t\n",
        "'genre:Children & Family Movies',\t\n",
        "'genre:Classic Movies',\t\n",
        "'genre:Comedies',\t\n",
        "'genre:Cult Movies',\t\n",
        "'genre:Documentaries',\t\n",
        "'genre:Dramas',\t\n",
        "'genre:Faith & Spirituality',\t\n",
        "'genre:Horror Movies',\t\n",
        "'genre:Independent Movies',\t\n",
        "'genre:International Movies',\t\n",
        "'genre:LGBTQ Movies',\t\n",
        "'genre:Movies',\t\n",
        "'genre:Music & Musicals',\t\n",
        "'genre:Romantic Movies',\t\n",
        "'genre:Sci-Fi & Fantasy',\n",
        "'genre:Sports Movies',\n",
        "'genre:Stand-Up Comedy',\t\n",
        "'genre:Thrillers',]\n",
        "\n",
        "import pandas as pd\n",
        "import matplotlib.pyplot as plt\n",
        "\n",
        "df1 = data_c.groupby('cluster')[cols].sum().reset_index()\n",
        "df1.plot(x=\"cluster\", y= cols, kind=\"bar\")"
      ],
      "execution_count": 215,
      "outputs": [
        {
          "output_type": "execute_result",
          "data": {
            "text/plain": [
              "<matplotlib.axes._subplots.AxesSubplot at 0x7f5e20ef8690>"
            ]
          },
          "metadata": {
            "tags": []
          },
          "execution_count": 215
        },
        {
          "output_type": "display_data",
          "data": {
            "image/png": "[encoded data removed]",
            "text/plain": [
              "<Figure size 576x396 with 1 Axes>"
            ]
          },
          "metadata": {
            "tags": []
          }
        }
      ]
    },
    {
      "cell_type": "code",
      "metadata": {
        "id": "f8cQaCQpycMJ"
      },
      "source": [
        "df_for_h_visual['title']= data_first['title']\n",
        "documentaries_standup = df_for_h_visual.loc[df_for_h_visual['cluster'] == 2]\n",
        "College_Friends_horror = df_for_h_visual.loc[df_for_h_visual['cluster'] == 3]\n",
        "Survival_doc = df_for_h_visual.loc[df_for_h_visual['cluster'] == 1]\n",
        "kids_animie_drama = df_for_h_visual.loc[df_for_h_visual['cluster'] == 4]# final\n",
        "Attacks_politics_thriller= df_for_h_visual.loc[df_for_h_visual['cluster'] == 0]"
      ],
      "execution_count": 216,
      "outputs": []
    }
  ]
}